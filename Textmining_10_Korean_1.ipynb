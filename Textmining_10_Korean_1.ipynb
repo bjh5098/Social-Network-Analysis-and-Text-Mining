{
  "nbformat": 4,
  "nbformat_minor": 0,
  "metadata": {
    "colab": {
      "name": "Textmining_10 - Korean_1.ipynb",
      "provenance": [],
      "private_outputs": true,
      "collapsed_sections": [
        "xnbaiMluha9B",
        "VFHV1Hwne_qg",
        "ykVob4qjwn3j",
        "RhqgqBeZmhNC",
        "Jatl3l86qaLL"
      ],
      "toc_visible": true,
      "include_colab_link": true
    },
    "kernelspec": {
      "name": "python3",
      "display_name": "Python 3"
    },
    "accelerator": "GPU"
  },
  "cells": [
    {
      "cell_type": "markdown",
      "metadata": {
        "id": "view-in-github",
        "colab_type": "text"
      },
      "source": [
        "<a href=\"https://colab.research.google.com/github/bjh5098/Social-Network-Analysis-and-Text-Mining/blob/master/Textmining_10_Korean_1.ipynb\" target=\"_parent\"><img src=\"https://colab.research.google.com/assets/colab-badge.svg\" alt=\"Open In Colab\"/></a>"
      ]
    },
    {
      "cell_type": "markdown",
      "metadata": {
        "id": "dtHoEX0Dbb2X",
        "colab_type": "text"
      },
      "source": [
        "#한국어 텍스트 마이닝 - 기초"
      ]
    },
    {
      "cell_type": "markdown",
      "metadata": {
        "id": "W9PfkYuapNyP",
        "colab_type": "text"
      },
      "source": [
        "##Colab에서 Mecab-ko 설치: https://github.com/SOMJANG/Mecab-ko-for-Google-Colab.git"
      ]
    },
    {
      "cell_type": "code",
      "metadata": {
        "id": "WjqBC3nLpnSg",
        "colab_type": "code",
        "colab": {}
      },
      "source": [
        "! git clone https://github.com/SOMJANG/Mecab-ko-for-Google-Colab.git"
      ],
      "execution_count": 0,
      "outputs": []
    },
    {
      "cell_type": "code",
      "metadata": {
        "id": "l_-OrDW1puTu",
        "colab_type": "code",
        "colab": {}
      },
      "source": [
        "cd Mecab-ko-for-Google-Colab/"
      ],
      "execution_count": 0,
      "outputs": []
    },
    {
      "cell_type": "code",
      "metadata": {
        "id": "ZKINvuxSp08e",
        "colab_type": "code",
        "colab": {}
      },
      "source": [
        "! bash install_mecab-ko_on_colab190912.sh"
      ],
      "execution_count": 0,
      "outputs": []
    },
    {
      "cell_type": "markdown",
      "metadata": {
        "id": "xnbaiMluha9B",
        "colab_type": "text"
      },
      "source": [
        "###MeCab 활용"
      ]
    },
    {
      "cell_type": "code",
      "metadata": {
        "colab_type": "code",
        "id": "yeyGbLs8ZgSX",
        "colab": {}
      },
      "source": [
        "import MeCab\n",
        "m = MeCab.Tagger()\n",
        "sentence = '데이터 과학 이상의 것'\n",
        "result = m.parse(sentence)\n",
        "print(result)"
      ],
      "execution_count": 0,
      "outputs": []
    },
    {
      "cell_type": "code",
      "metadata": {
        "id": "KYAJEpblY95Q",
        "colab_type": "code",
        "colab": {}
      },
      "source": [
        "from konlpy.tag import Mecab\n",
        "mecab = Mecab()\n",
        "sentence = '데이터 과학 이상의 것'\n",
        "result_pos = mecab.pos(sentence)\n",
        "print(result_pos)"
      ],
      "execution_count": 0,
      "outputs": []
    },
    {
      "cell_type": "code",
      "metadata": {
        "id": "jYy9aaWeZMt2",
        "colab_type": "code",
        "colab": {}
      },
      "source": [
        "result_mor = mecab.morphs(sentence)\n",
        "print(result_mor)"
      ],
      "execution_count": 0,
      "outputs": []
    },
    {
      "cell_type": "code",
      "metadata": {
        "id": "GnQ29wxCZteH",
        "colab_type": "code",
        "colab": {}
      },
      "source": [
        "result_noun = mecab.nouns(sentence)\n",
        "print(result_noun)"
      ],
      "execution_count": 0,
      "outputs": []
    },
    {
      "cell_type": "markdown",
      "metadata": {
        "id": "upvbt2KUYuM4",
        "colab_type": "text"
      },
      "source": [
        "***Mecab 품사 태그 - https://docs.google.com/spreadsheets/d/1-9blXKjtjeKZqsf4NzHeYJCrr49-nXeRF6D80udfcwY/edit#gid=589544265***"
      ]
    },
    {
      "cell_type": "markdown",
      "metadata": {
        "id": "_Quc6YlEowA3",
        "colab_type": "text"
      },
      "source": [
        "##Konlpy & 오픈 소스 한국어 처리기(Open-source Korean Text Processor)"
      ]
    },
    {
      "cell_type": "markdown",
      "metadata": {
        "id": "kDh_DPKxcQYs",
        "colab_type": "text"
      },
      "source": [
        "***출처: https://konlpy-ko.readthedocs.io/ko/v0.4.3/api/konlpy.tag/***"
      ]
    },
    {
      "cell_type": "code",
      "metadata": {
        "id": "lE-4letAwZrD",
        "colab_type": "code",
        "colab": {}
      },
      "source": [
        "pip install konlpy"
      ],
      "execution_count": 0,
      "outputs": []
    },
    {
      "cell_type": "code",
      "metadata": {
        "id": "TmH1RFkwZGbo",
        "colab_type": "code",
        "colab": {}
      },
      "source": [
        "from konlpy.tag import Okt\n",
        "okt = Okt()"
      ],
      "execution_count": 0,
      "outputs": []
    },
    {
      "cell_type": "code",
      "metadata": {
        "id": "NIJ-ZAJkZVMq",
        "colab_type": "code",
        "colab": {}
      },
      "source": [
        "okt_result = okt.morphs(sentence)\n",
        "print(okt_result)"
      ],
      "execution_count": 0,
      "outputs": []
    },
    {
      "cell_type": "markdown",
      "metadata": {
        "id": "VFHV1Hwne_qg",
        "colab_type": "text"
      },
      "source": [
        "###어간 추출"
      ]
    },
    {
      "cell_type": "code",
      "metadata": {
        "id": "bOa8YRmtesLY",
        "colab_type": "code",
        "colab": {}
      },
      "source": [
        "sentence_ko = '괜찮네요오랜만포켓몬스터잼밌어요'\n",
        "okt_morphs_result = okt.morphs(sentence_ko, stem=False)\n",
        "print(okt_morphs_result)"
      ],
      "execution_count": 0,
      "outputs": []
    },
    {
      "cell_type": "code",
      "metadata": {
        "id": "mD_YWp3ZeQ2R",
        "colab_type": "code",
        "colab": {}
      },
      "source": [
        "sentence_ko = '괜찮네요오랜만포켓몬스터잼밌어요'\n",
        "okt_morphs_result = okt.morphs(sentence_ko, stem=True)\n",
        "print(okt_morphs_result)"
      ],
      "execution_count": 0,
      "outputs": []
    },
    {
      "cell_type": "markdown",
      "metadata": {
        "id": "ykVob4qjwn3j",
        "colab_type": "text"
      },
      "source": [
        "###품사 태깅 및 선별"
      ]
    },
    {
      "cell_type": "code",
      "metadata": {
        "id": "GQZJF5WFZg2I",
        "colab_type": "code",
        "colab": {}
      },
      "source": [
        "sentence_ko = '괜찮네요오랜만포켓몬스터잼밌어요'\n",
        "okt_pos_result = okt.pos(sentence_ko, stem=False)\n",
        "print(okt_pos_result)"
      ],
      "execution_count": 0,
      "outputs": []
    },
    {
      "cell_type": "code",
      "metadata": {
        "id": "vVvRVgr9e25h",
        "colab_type": "code",
        "colab": {}
      },
      "source": [
        "sentence_ko = '괜찮네요오랜만포켓몬스터잼밌어요'\n",
        "okt_pos_result = okt.pos(sentence_ko, stem=True)\n",
        "print(okt_pos_result)"
      ],
      "execution_count": 0,
      "outputs": []
    },
    {
      "cell_type": "code",
      "metadata": {
        "id": "voR9yhpowJOl",
        "colab_type": "code",
        "colab": {}
      },
      "source": [
        "clean_words = []\n",
        "for word in okt_pos_result:\n",
        "    if word[1] == 'Noun' or word[1] == 'Verb' or word[1] == 'Adjective':\n",
        "        clean_words.append(word[0])"
      ],
      "execution_count": 0,
      "outputs": []
    },
    {
      "cell_type": "code",
      "metadata": {
        "id": "ROg8pwwkywPr",
        "colab_type": "code",
        "colab": {}
      },
      "source": [
        "clean_words"
      ],
      "execution_count": 0,
      "outputs": []
    },
    {
      "cell_type": "code",
      "metadata": {
        "id": "e2N3b7PtgLHs",
        "colab_type": "code",
        "colab": {}
      },
      "source": [
        "document = ' '.join(clean_words)"
      ],
      "execution_count": 0,
      "outputs": []
    },
    {
      "cell_type": "code",
      "metadata": {
        "id": "Rpp9DvM3gPaQ",
        "colab_type": "code",
        "colab": {}
      },
      "source": [
        "print(document)"
      ],
      "execution_count": 0,
      "outputs": []
    },
    {
      "cell_type": "markdown",
      "metadata": {
        "id": "jlzf_UCYjQoS",
        "colab_type": "text"
      },
      "source": [
        "###불용어 처리"
      ]
    },
    {
      "cell_type": "markdown",
      "metadata": {
        "id": "SxFjSrsbjbQA",
        "colab_type": "text"
      },
      "source": [
        "한국어 불용어: https://www.ranks.nl/stopwords/korean"
      ]
    },
    {
      "cell_type": "code",
      "metadata": {
        "id": "SJVkw5yejTPq",
        "colab_type": "code",
        "colab": {}
      },
      "source": [
        "sentence_ko_n = '나 너 괜찮네요오랜만포켓몬스터잼밌어요.!'"
      ],
      "execution_count": 0,
      "outputs": []
    },
    {
      "cell_type": "code",
      "metadata": {
        "id": "ihiYdsaFjSby",
        "colab_type": "code",
        "colab": {}
      },
      "source": [
        "stop_words = ['나', '너', '.', '!']"
      ],
      "execution_count": 0,
      "outputs": []
    },
    {
      "cell_type": "code",
      "metadata": {
        "id": "Wx_wDmPOj-55",
        "colab_type": "code",
        "colab": {}
      },
      "source": [
        "okt_pos_result_n = okt.pos(sentence_ko_n, stem=False)\n",
        "print(okt_pos_result_n)"
      ],
      "execution_count": 0,
      "outputs": []
    },
    {
      "cell_type": "code",
      "metadata": {
        "id": "v0IHoZbCkK9x",
        "colab_type": "code",
        "colab": {}
      },
      "source": [
        "clean_words = []\n",
        "for word in okt_pos_result_n:\n",
        "    if word[1] == 'Noun' or word[1] == 'Verb' or word[1] == 'Adjective':\n",
        "        clean_words.append(word[0])"
      ],
      "execution_count": 0,
      "outputs": []
    },
    {
      "cell_type": "code",
      "metadata": {
        "id": "HqEM_QD7kug6",
        "colab_type": "code",
        "colab": {}
      },
      "source": [
        "clean_words"
      ],
      "execution_count": 0,
      "outputs": []
    },
    {
      "cell_type": "code",
      "metadata": {
        "id": "4T8TnEeHkkiK",
        "colab_type": "code",
        "colab": {}
      },
      "source": [
        "document = []\n",
        "for word in clean_words:\n",
        "    if word not in stop_words: \n",
        "        document.append(word) "
      ],
      "execution_count": 0,
      "outputs": []
    },
    {
      "cell_type": "code",
      "metadata": {
        "id": "xWY1_hmSkgBB",
        "colab_type": "code",
        "colab": {}
      },
      "source": [
        "document"
      ],
      "execution_count": 0,
      "outputs": []
    },
    {
      "cell_type": "markdown",
      "metadata": {
        "id": "-xwjZjl4h00Z",
        "colab_type": "text"
      },
      "source": [
        "###문서 특징 추출하기"
      ]
    },
    {
      "cell_type": "markdown",
      "metadata": {
        "id": "RhqgqBeZmhNC",
        "colab_type": "text"
      },
      "source": [
        "####데이터 불러오기"
      ]
    },
    {
      "cell_type": "code",
      "metadata": {
        "id": "2dpFM_T_h3bQ",
        "colab_type": "code",
        "colab": {}
      },
      "source": [
        "import pandas as pd"
      ],
      "execution_count": 0,
      "outputs": []
    },
    {
      "cell_type": "code",
      "metadata": {
        "id": "R-YO5uWflvDb",
        "colab_type": "code",
        "colab": {}
      },
      "source": [
        "naver_movies = pd.read_csv('/content/naver_movie_reviews_sub.txt', sep='\\t', encoding='cp949', low_memory=False)"
      ],
      "execution_count": 0,
      "outputs": []
    },
    {
      "cell_type": "code",
      "metadata": {
        "id": "mrVAfJhXmMrS",
        "colab_type": "code",
        "colab": {}
      },
      "source": [
        "naver_movies.head(5)"
      ],
      "execution_count": 0,
      "outputs": []
    },
    {
      "cell_type": "code",
      "metadata": {
        "id": "ZlYCcmemmTaS",
        "colab_type": "code",
        "colab": {}
      },
      "source": [
        "naver_movies.info()"
      ],
      "execution_count": 0,
      "outputs": []
    },
    {
      "cell_type": "code",
      "metadata": {
        "id": "hY_NeFg8mYqK",
        "colab_type": "code",
        "colab": {}
      },
      "source": [
        "naver_movies.describe()"
      ],
      "execution_count": 0,
      "outputs": []
    },
    {
      "cell_type": "markdown",
      "metadata": {
        "id": "aAgIv2-Emkci",
        "colab_type": "text"
      },
      "source": [
        "####리뷰 필드 선택"
      ]
    },
    {
      "cell_type": "code",
      "metadata": {
        "id": "MoJEMiPrmmai",
        "colab_type": "code",
        "colab": {}
      },
      "source": [
        "reviews = naver_movies['document'].values.tolist()"
      ],
      "execution_count": 0,
      "outputs": []
    },
    {
      "cell_type": "code",
      "metadata": {
        "id": "rVc-nqaMmtOj",
        "colab_type": "code",
        "colab": {}
      },
      "source": [
        "reviews"
      ],
      "execution_count": 0,
      "outputs": []
    },
    {
      "cell_type": "code",
      "metadata": {
        "id": "HXkarlREmy2C",
        "colab_type": "code",
        "colab": {}
      },
      "source": [
        "new_doc = []\n",
        "for i, document in enumerate(reviews):\n",
        "    okt = Okt()\n",
        "    clean_words = okt.nouns(document) #명사 추출\n",
        "    document = ' '.join(clean_words)\n",
        "    new_doc.append(document)"
      ],
      "execution_count": 0,
      "outputs": []
    },
    {
      "cell_type": "code",
      "metadata": {
        "id": "bRuupzwtnlvE",
        "colab_type": "code",
        "colab": {}
      },
      "source": [
        "new_doc"
      ],
      "execution_count": 0,
      "outputs": []
    },
    {
      "cell_type": "code",
      "metadata": {
        "id": "jzV4k85Lgl1g",
        "colab_type": "code",
        "colab": {}
      },
      "source": [
        "new_doc"
      ],
      "execution_count": 0,
      "outputs": []
    },
    {
      "cell_type": "markdown",
      "metadata": {
        "id": "Jatl3l86qaLL",
        "colab_type": "text"
      },
      "source": [
        "####Documents-Terms Matrix - Term Frequency"
      ]
    },
    {
      "cell_type": "code",
      "metadata": {
        "id": "hsa9J1iApK1w",
        "colab_type": "code",
        "colab": {}
      },
      "source": [
        "from sklearn.feature_extraction.text import CountVectorizer"
      ],
      "execution_count": 0,
      "outputs": []
    },
    {
      "cell_type": "code",
      "metadata": {
        "id": "RBaUDzLRpPKM",
        "colab_type": "code",
        "colab": {}
      },
      "source": [
        "vectorizer = CountVectorizer()\n",
        "vectorizer.fit(new_doc)"
      ],
      "execution_count": 0,
      "outputs": []
    },
    {
      "cell_type": "code",
      "metadata": {
        "id": "ZFQNVmTQpR7z",
        "colab_type": "code",
        "colab": {}
      },
      "source": [
        "dtm = vectorizer.transform(new_doc)"
      ],
      "execution_count": 0,
      "outputs": []
    },
    {
      "cell_type": "code",
      "metadata": {
        "id": "CyhvB2YupgLj",
        "colab_type": "code",
        "colab": {}
      },
      "source": [
        "print(dtm.shape)"
      ],
      "execution_count": 0,
      "outputs": []
    },
    {
      "cell_type": "code",
      "metadata": {
        "id": "wxy8-0JWpm0T",
        "colab_type": "code",
        "colab": {}
      },
      "source": [
        "print('fit_transform, (Document {}, feature {})'.format(dtm.shape[0], dtm.shape[1]))"
      ],
      "execution_count": 0,
      "outputs": []
    },
    {
      "cell_type": "code",
      "metadata": {
        "id": "J3RZs_8ZqVQz",
        "colab_type": "code",
        "colab": {}
      },
      "source": [
        "dtm.toarray()"
      ],
      "execution_count": 0,
      "outputs": []
    },
    {
      "cell_type": "code",
      "metadata": {
        "id": "1mrhaH7CqWz7",
        "colab_type": "code",
        "colab": {}
      },
      "source": [
        "dtm.todense()"
      ],
      "execution_count": 0,
      "outputs": []
    },
    {
      "cell_type": "code",
      "metadata": {
        "id": "hWbEdvWNqIyz",
        "colab_type": "code",
        "colab": {}
      },
      "source": [
        "terms = vectorizer.get_feature_names()"
      ],
      "execution_count": 0,
      "outputs": []
    },
    {
      "cell_type": "code",
      "metadata": {
        "id": "L0LmLvLPqOQL",
        "colab_type": "code",
        "colab": {}
      },
      "source": [
        "terms"
      ],
      "execution_count": 0,
      "outputs": []
    },
    {
      "cell_type": "markdown",
      "metadata": {
        "id": "hPI3RhTSqO9b",
        "colab_type": "text"
      },
      "source": [
        "####Document-Term Matrix - Tf-Idf"
      ]
    },
    {
      "cell_type": "code",
      "metadata": {
        "id": "E7DGKM5fqqkz",
        "colab_type": "code",
        "colab": {}
      },
      "source": [
        "from sklearn.feature_extraction.text import TfidfVectorizer"
      ],
      "execution_count": 0,
      "outputs": []
    },
    {
      "cell_type": "code",
      "metadata": {
        "id": "iEZPVQxFqs4z",
        "colab_type": "code",
        "colab": {}
      },
      "source": [
        "vectorizer = TfidfVectorizer(use_idf=True)"
      ],
      "execution_count": 0,
      "outputs": []
    },
    {
      "cell_type": "code",
      "metadata": {
        "id": "SPwpbbnQqvkj",
        "colab_type": "code",
        "colab": {}
      },
      "source": [
        "dtm_tfidf = vectorizer.fit_transform(new_doc)"
      ],
      "execution_count": 0,
      "outputs": []
    },
    {
      "cell_type": "code",
      "metadata": {
        "id": "0jqRw2g1q3lE",
        "colab_type": "code",
        "colab": {}
      },
      "source": [
        "print(dtm_tfidf.shape)"
      ],
      "execution_count": 0,
      "outputs": []
    },
    {
      "cell_type": "code",
      "metadata": {
        "colab_type": "code",
        "id": "5H18shwVrD4b",
        "colab": {}
      },
      "source": [
        "print('fit_transform, (Document {}, feature {})'.format(dtm_tfidf.shape[0], dtm_tfidf.shape[1]))"
      ],
      "execution_count": 0,
      "outputs": []
    },
    {
      "cell_type": "code",
      "metadata": {
        "id": "RnNDcmP9rU7c",
        "colab_type": "code",
        "colab": {}
      },
      "source": [
        "print(dtm_tfidf)"
      ],
      "execution_count": 0,
      "outputs": []
    },
    {
      "cell_type": "code",
      "metadata": {
        "colab_type": "code",
        "id": "fBto89qWrD4e",
        "colab": {}
      },
      "source": [
        "dtm_tfidf.toarray()[2]"
      ],
      "execution_count": 0,
      "outputs": []
    },
    {
      "cell_type": "code",
      "metadata": {
        "colab_type": "code",
        "id": "NmQM6wr-rD4g",
        "colab": {}
      },
      "source": [
        "dtm_tfidf.toarray()[2]"
      ],
      "execution_count": 0,
      "outputs": []
    },
    {
      "cell_type": "code",
      "metadata": {
        "colab_type": "code",
        "id": "LJXDx-qOrD4h",
        "colab": {}
      },
      "source": [
        "terms = vectorizer.get_feature_names()"
      ],
      "execution_count": 0,
      "outputs": []
    },
    {
      "cell_type": "code",
      "metadata": {
        "colab_type": "code",
        "id": "D8tZH8g-rD4i",
        "colab": {}
      },
      "source": [
        "terms"
      ],
      "execution_count": 0,
      "outputs": []
    },
    {
      "cell_type": "markdown",
      "metadata": {
        "id": "1jKGZhPs_Yk7",
        "colab_type": "text"
      },
      "source": [
        "###문서 군집화"
      ]
    },
    {
      "cell_type": "code",
      "metadata": {
        "id": "XF2Ng-o3_xIp",
        "colab_type": "code",
        "colab": {}
      },
      "source": [
        "labels = naver_movies['label'].values.tolist()"
      ],
      "execution_count": 0,
      "outputs": []
    },
    {
      "cell_type": "code",
      "metadata": {
        "id": "Gh53CScj_8Nh",
        "colab_type": "code",
        "colab": {}
      },
      "source": [
        "import numpy as np\n",
        "true_k = len(np.unique(labels))\n",
        "true_k"
      ],
      "execution_count": 0,
      "outputs": []
    },
    {
      "cell_type": "code",
      "metadata": {
        "id": "Ui5zC17K__ja",
        "colab_type": "code",
        "colab": {}
      },
      "source": [
        "from sklearn.cluster import KMeans"
      ],
      "execution_count": 0,
      "outputs": []
    },
    {
      "cell_type": "code",
      "metadata": {
        "id": "3fSLTL2LAMvC",
        "colab_type": "code",
        "colab": {}
      },
      "source": [
        "km = KMeans(n_clusters=true_k, init='k-means++', max_iter=100, n_init=1)\n",
        "km.fit(dtm)"
      ],
      "execution_count": 0,
      "outputs": []
    },
    {
      "cell_type": "code",
      "metadata": {
        "id": "aUCbje8WANsy",
        "colab_type": "code",
        "colab": {}
      },
      "source": [
        "km.n_clusters"
      ],
      "execution_count": 0,
      "outputs": []
    },
    {
      "cell_type": "code",
      "metadata": {
        "id": "upxquCTNAVQi",
        "colab_type": "code",
        "colab": {}
      },
      "source": [
        "order_centroids = km.cluster_centers_.argsort()"
      ],
      "execution_count": 0,
      "outputs": []
    },
    {
      "cell_type": "code",
      "metadata": {
        "id": "E7_Ng6mRAWTC",
        "colab_type": "code",
        "colab": {}
      },
      "source": [
        "terms = vectorizer.get_feature_names()"
      ],
      "execution_count": 0,
      "outputs": []
    },
    {
      "cell_type": "code",
      "metadata": {
        "id": "SAaA_PX5AXnK",
        "colab_type": "code",
        "colab": {}
      },
      "source": [
        "for i in range(true_k):\n",
        "    print(\"Cluster %d:\" % i, end='')\n",
        "    for ind in order_centroids[i, :10]:\n",
        "        print(' %s' % terms[ind], end='')\n",
        "    print()"
      ],
      "execution_count": 0,
      "outputs": []
    },
    {
      "cell_type": "markdown",
      "metadata": {
        "id": "c_CDJ5P7AcXa",
        "colab_type": "text"
      },
      "source": [
        "###문서 분류"
      ]
    },
    {
      "cell_type": "code",
      "metadata": {
        "id": "YxnRaoxmAkdF",
        "colab_type": "code",
        "colab": {}
      },
      "source": [
        "from sklearn.naive_bayes import GaussianNB\n",
        "gnb = GaussianNB()\n",
        "naive_model = gnb.fit(dtm.toarray(), labels)"
      ],
      "execution_count": 0,
      "outputs": []
    },
    {
      "cell_type": "code",
      "metadata": {
        "id": "yNyh9lhjAs0N",
        "colab_type": "code",
        "colab": {}
      },
      "source": [
        "naive_y_hat = naive_model.predict(X.toarray())"
      ],
      "execution_count": 0,
      "outputs": []
    },
    {
      "cell_type": "code",
      "metadata": {
        "id": "2GZxLbDnAtOh",
        "colab_type": "code",
        "colab": {}
      },
      "source": [
        "naive_y_hat"
      ],
      "execution_count": 0,
      "outputs": []
    },
    {
      "cell_type": "markdown",
      "metadata": {
        "id": "5jFyZmjWAuQS",
        "colab_type": "text"
      },
      "source": [
        "####성능평가"
      ]
    },
    {
      "cell_type": "code",
      "metadata": {
        "id": "T74TaftzAzYB",
        "colab_type": "code",
        "colab": {}
      },
      "source": [
        "from sklearn.metrics import classification_report\n",
        "from sklearn.metrics import accuracy_score"
      ],
      "execution_count": 0,
      "outputs": []
    },
    {
      "cell_type": "code",
      "metadata": {
        "id": "Hu9CvbEeA03h",
        "colab_type": "code",
        "colab": {}
      },
      "source": [
        "print(\"나이브 베이즈 정확도:\", accuracy_score(labels, naive_y_hat)) #예측값과 실제값 비교"
      ],
      "execution_count": 0,
      "outputs": []
    },
    {
      "cell_type": "code",
      "metadata": {
        "id": "Aa3qjjXoA3Yi",
        "colab_type": "code",
        "colab": {}
      },
      "source": [
        "print(classification_report(labels, naive_y_hat, labels=[1, 0], target_names=['긍정','부정']))"
      ],
      "execution_count": 0,
      "outputs": []
    },
    {
      "cell_type": "code",
      "metadata": {
        "id": "g02pdpRQCzBS",
        "colab_type": "code",
        "colab": {}
      },
      "source": [
        "from sklearn.metrics import confusion_matrix"
      ],
      "execution_count": 0,
      "outputs": []
    },
    {
      "cell_type": "code",
      "metadata": {
        "id": "f3FJBpmFCziL",
        "colab_type": "code",
        "colab": {}
      },
      "source": [
        "confusion_matrix(labels, naive_y_hat, labels=[1,0])"
      ],
      "execution_count": 0,
      "outputs": []
    }
  ]
}