{
  "nbformat": 4,
  "nbformat_minor": 0,
  "metadata": {
    "colab": {
      "name": "Textmining_1- Intro.ipynb",
      "provenance": [],
      "private_outputs": true,
      "collapsed_sections": [],
      "include_colab_link": true
    },
    "kernelspec": {
      "name": "python3",
      "display_name": "Python 3"
    }
  },
  "cells": [
    {
      "cell_type": "markdown",
      "metadata": {
        "id": "view-in-github",
        "colab_type": "text"
      },
      "source": [
        "<a href=\"https://colab.research.google.com/github/bjh5098/Social-Network-Analysis-and-Text-Mining/blob/master/Textmining_1_Intro.ipynb\" target=\"_parent\"><img src=\"https://colab.research.google.com/assets/colab-badge.svg\" alt=\"Open In Colab\"/></a>"
      ]
    },
    {
      "cell_type": "markdown",
      "metadata": {
        "id": "llEahlmogoXL",
        "colab_type": "text"
      },
      "source": [
        "# 파이썬에서의 텍스트 처리 기초"
      ]
    },
    {
      "cell_type": "code",
      "metadata": {
        "id": "lhCDgui8kA5r",
        "colab_type": "code",
        "colab": {}
      },
      "source": [
        "print(\"Bonjour World !\")"
      ],
      "execution_count": 0,
      "outputs": []
    },
    {
      "cell_type": "code",
      "metadata": {
        "id": "xU1SqAQWkF7q",
        "colab_type": "code",
        "colab": {}
      },
      "source": [
        "print(\"Bonjour 'World' !\")"
      ],
      "execution_count": 0,
      "outputs": []
    },
    {
      "cell_type": "code",
      "metadata": {
        "id": "i7z6j2QlB9Lz",
        "colab_type": "code",
        "colab": {}
      },
      "source": [
        "word = \"Bonjour World !\""
      ],
      "execution_count": 0,
      "outputs": []
    },
    {
      "cell_type": "code",
      "metadata": {
        "id": "Gr6ZvW76jYZ1",
        "colab_type": "code",
        "colab": {}
      },
      "source": [
        "print(word)"
      ],
      "execution_count": 0,
      "outputs": []
    },
    {
      "cell_type": "code",
      "metadata": {
        "id": "xUQzrFpxlrdl",
        "colab_type": "code",
        "colab": {}
      },
      "source": [
        "print(word[0])"
      ],
      "execution_count": 0,
      "outputs": []
    },
    {
      "cell_type": "code",
      "metadata": {
        "id": "ww9aQj5QCikq",
        "colab_type": "code",
        "colab": {}
      },
      "source": [
        "print(len(word))"
      ],
      "execution_count": 0,
      "outputs": []
    },
    {
      "cell_type": "markdown",
      "metadata": {
        "id": "KzwqoSrRC_YR",
        "colab_type": "text"
      },
      "source": [
        "***문자 빈도 확인***"
      ]
    },
    {
      "cell_type": "code",
      "metadata": {
        "id": "L1ekGHWVDBl0",
        "colab_type": "code",
        "colab": {}
      },
      "source": [
        "word.count(\"o\")"
      ],
      "execution_count": 0,
      "outputs": []
    },
    {
      "cell_type": "markdown",
      "metadata": {
        "id": "evqSu3iRDJ75",
        "colab_type": "text"
      },
      "source": [
        "***문자 위치(인덱스) 확인***"
      ]
    },
    {
      "cell_type": "code",
      "metadata": {
        "id": "Pb3ElPJVDUPF",
        "colab_type": "code",
        "colab": {}
      },
      "source": [
        "word.find(\"o\")"
      ],
      "execution_count": 0,
      "outputs": []
    },
    {
      "cell_type": "code",
      "metadata": {
        "id": "hR6UhlP_DXVc",
        "colab_type": "code",
        "colab": {}
      },
      "source": [
        "word.find(\"Bonjour\") # 문자열(단어)가 처음 발견된 인덱스"
      ],
      "execution_count": 0,
      "outputs": []
    },
    {
      "cell_type": "markdown",
      "metadata": {
        "id": "8oCBGoiLEIvw",
        "colab_type": "text"
      },
      "source": [
        "***대소문자 변환***"
      ]
    },
    {
      "cell_type": "code",
      "metadata": {
        "id": "5vbA07O_ELzZ",
        "colab_type": "code",
        "colab": {}
      },
      "source": [
        "word.upper()"
      ],
      "execution_count": 0,
      "outputs": []
    },
    {
      "cell_type": "code",
      "metadata": {
        "id": "p4qtpYKrENYg",
        "colab_type": "code",
        "colab": {}
      },
      "source": [
        "word.lower()"
      ],
      "execution_count": 0,
      "outputs": []
    },
    {
      "cell_type": "code",
      "metadata": {
        "id": "-CuEFtZWEO3B",
        "colab_type": "code",
        "colab": {}
      },
      "source": [
        "word.title() # 모든 단어 첫 번째 글자만 대문자"
      ],
      "execution_count": 0,
      "outputs": []
    },
    {
      "cell_type": "code",
      "metadata": {
        "id": "NPZapIJ3EQZp",
        "colab_type": "code",
        "colab": {}
      },
      "source": [
        "word.capitalize() #첫 번째 글자만 대문자"
      ],
      "execution_count": 0,
      "outputs": []
    },
    {
      "cell_type": "markdown",
      "metadata": {
        "id": "tWJfSMj8Ec4p",
        "colab_type": "text"
      },
      "source": [
        "***문자열(단어) 추가***"
      ]
    },
    {
      "cell_type": "code",
      "metadata": {
        "id": "hdKxoA2iEh0c",
        "colab_type": "code",
        "colab": {}
      },
      "source": [
        "print(word + ' Fromage !')"
      ],
      "execution_count": 0,
      "outputs": []
    },
    {
      "cell_type": "code",
      "metadata": {
        "id": "Iba6w5nnEmfg",
        "colab_type": "code",
        "colab": {}
      },
      "source": [
        "print((word +\" \")* 3)"
      ],
      "execution_count": 0,
      "outputs": []
    },
    {
      "cell_type": "markdown",
      "metadata": {
        "id": "diUA85x5Eq53",
        "colab_type": "text"
      },
      "source": [
        "***문자열 슬라이싱***"
      ]
    },
    {
      "cell_type": "code",
      "metadata": {
        "id": "o0QxqQ3RGT5v",
        "colab_type": "code",
        "colab": {}
      },
      "source": [
        "word[8:15]"
      ],
      "execution_count": 0,
      "outputs": []
    },
    {
      "cell_type": "code",
      "metadata": {
        "id": "EcCP0YjjGVjQ",
        "colab_type": "code",
        "colab": {}
      },
      "source": [
        "word[:7]"
      ],
      "execution_count": 0,
      "outputs": []
    },
    {
      "cell_type": "markdown",
      "metadata": {
        "id": "5IDw9hxJGs4o",
        "colab_type": "text"
      },
      "source": [
        "***참고 자료***\n",
        "\n",
        "\n",
        "*   문자열 조작: http://automatetheboringstuff.com/chapter6/\n",
        "*   파이썬 텍스트 처리: http://gnosis.cx/TPiP/\n",
        "\n"
      ]
    }
  ]
}