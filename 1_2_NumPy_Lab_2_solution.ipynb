{
  "nbformat": 4,
  "nbformat_minor": 0,
  "metadata": {
    "colab": {
      "name": "1_2_NumPy Lab-2 solution.ipynb",
      "version": "0.3.2",
      "provenance": [],
      "private_outputs": true,
      "collapsed_sections": [],
      "include_colab_link": true
    },
    "kernelspec": {
      "name": "python3",
      "display_name": "Python 3"
    }
  },
  "cells": [
    {
      "cell_type": "markdown",
      "metadata": {
        "id": "view-in-github",
        "colab_type": "text"
      },
      "source": [
        "<a href=\"https://colab.research.google.com/github/bjh5098/Social-Network-Analysis-and-Text-Mining/blob/master/1_2_NumPy_Lab_2_solution.ipynb\" target=\"_parent\"><img src=\"https://colab.research.google.com/assets/colab-badge.svg\" alt=\"Open In Colab\"/></a>"
      ]
    },
    {
      "cell_type": "markdown",
      "metadata": {
        "colab_type": "text",
        "id": "o_gOUhfwrhUH"
      },
      "source": [
        "##Numpy Lab - 2"
      ]
    },
    {
      "cell_type": "code",
      "metadata": {
        "id": "ZOriCJX52Hs_",
        "colab_type": "code",
        "colab": {}
      },
      "source": [
        "from google.colab import files\n",
        "uploaded = files.upload()"
      ],
      "execution_count": 0,
      "outputs": []
    },
    {
      "cell_type": "code",
      "metadata": {
        "id": "dcNgn8-J3Htm",
        "colab_type": "code",
        "colab": {}
      },
      "source": [
        "import numpy as np"
      ],
      "execution_count": 0,
      "outputs": []
    },
    {
      "cell_type": "code",
      "metadata": {
        "id": "WPyLBXyIzTXg",
        "colab_type": "code",
        "colab": {}
      },
      "source": [
        "heights = np.loadtxt(\"president_heights.csv\", delimiter=\",\", usecols=2, skiprows=1)"
      ],
      "execution_count": 0,
      "outputs": []
    },
    {
      "cell_type": "code",
      "metadata": {
        "id": "MCzhN5TR3-0_",
        "colab_type": "code",
        "colab": {}
      },
      "source": [
        "\"Mean height: {}\".format(heights.mean())"
      ],
      "execution_count": 0,
      "outputs": []
    },
    {
      "cell_type": "code",
      "metadata": {
        "id": "PoJSwE2W30Cn",
        "colab_type": "code",
        "colab": {}
      },
      "source": [
        "\"Standard deviation: {}\".format(heights.std())"
      ],
      "execution_count": 0,
      "outputs": []
    },
    {
      "cell_type": "code",
      "metadata": {
        "id": "eLRBFfLs2ARm",
        "colab_type": "code",
        "colab": {}
      },
      "source": [
        "\"Minimum height: {}\".format(heights.min())"
      ],
      "execution_count": 0,
      "outputs": []
    },
    {
      "cell_type": "code",
      "metadata": {
        "id": "ChOtT5cT5pEM",
        "colab_type": "code",
        "colab": {}
      },
      "source": [
        "\"Maximum height: {}\".format(heights.max())"
      ],
      "execution_count": 0,
      "outputs": []
    },
    {
      "cell_type": "code",
      "metadata": {
        "id": "4CidACzf3UM3",
        "colab_type": "code",
        "colab": {}
      },
      "source": [
        "\"25th percentile:{}\".format(np.percentile(heights, 25))"
      ],
      "execution_count": 0,
      "outputs": []
    },
    {
      "cell_type": "code",
      "metadata": {
        "id": "9N8S32qC5_v3",
        "colab_type": "code",
        "colab": {}
      },
      "source": [
        "\"Median: {}\".format(np.median(heights))"
      ],
      "execution_count": 0,
      "outputs": []
    },
    {
      "cell_type": "code",
      "metadata": {
        "id": "WK3Kp4Vl5wfu",
        "colab_type": "code",
        "colab": {}
      },
      "source": [
        "\"75th percentile:{}\".format(np.percentile(heights, 75))"
      ],
      "execution_count": 0,
      "outputs": []
    }
  ]
}