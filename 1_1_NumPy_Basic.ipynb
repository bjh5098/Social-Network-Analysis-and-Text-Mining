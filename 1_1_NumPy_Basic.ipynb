{
  "nbformat": 4,
  "nbformat_minor": 0,
  "metadata": {
    "colab": {
      "name": "1_1_NumPy Basic.ipynb",
      "version": "0.3.2",
      "provenance": [],
      "private_outputs": true,
      "collapsed_sections": [
        "wxzDS14GcFHU",
        "TdvgFEATfY8c",
        "WwSY19eHp9Ot"
      ],
      "include_colab_link": true
    },
    "kernelspec": {
      "name": "python3",
      "display_name": "Python 3"
    }
  },
  "cells": [
    {
      "cell_type": "markdown",
      "metadata": {
        "id": "view-in-github",
        "colab_type": "text"
      },
      "source": [
        "<a href=\"https://colab.research.google.com/github/bjh5098/Social-Network-Analysis-and-Text-Mining/blob/master/1_1_NumPy_Basic.ipynb\" target=\"_parent\"><img src=\"https://colab.research.google.com/assets/colab-badge.svg\" alt=\"Open In Colab\"/></a>"
      ]
    },
    {
      "cell_type": "code",
      "metadata": {
        "id": "9OKV3uHRbqk2",
        "colab_type": "code",
        "colab": {}
      },
      "source": [
        "import numpy as np"
      ],
      "execution_count": 0,
      "outputs": []
    },
    {
      "cell_type": "markdown",
      "metadata": {
        "id": "wxzDS14GcFHU",
        "colab_type": "text"
      },
      "source": [
        "##NumPy ndarray"
      ]
    },
    {
      "cell_type": "code",
      "metadata": {
        "id": "ybH2vRLLb2wW",
        "colab_type": "code",
        "colab": {}
      },
      "source": [
        "data = np.random.randn(2, 3)"
      ],
      "execution_count": 0,
      "outputs": []
    },
    {
      "cell_type": "code",
      "metadata": {
        "id": "YclK-k5Xb_1b",
        "colab_type": "code",
        "colab": {}
      },
      "source": [
        "data"
      ],
      "execution_count": 0,
      "outputs": []
    },
    {
      "cell_type": "code",
      "metadata": {
        "id": "6f6VsK0zcAx0",
        "colab_type": "code",
        "colab": {}
      },
      "source": [
        "data * 10"
      ],
      "execution_count": 0,
      "outputs": []
    },
    {
      "cell_type": "code",
      "metadata": {
        "id": "gwSj3fa2cDFk",
        "colab_type": "code",
        "colab": {}
      },
      "source": [
        "data + data"
      ],
      "execution_count": 0,
      "outputs": []
    },
    {
      "cell_type": "code",
      "metadata": {
        "id": "vxPSL8qmcmab",
        "colab_type": "code",
        "colab": {}
      },
      "source": [
        "data.shape"
      ],
      "execution_count": 0,
      "outputs": []
    },
    {
      "cell_type": "code",
      "metadata": {
        "id": "ea075-qQc0LL",
        "colab_type": "code",
        "colab": {}
      },
      "source": [
        "data.dtype"
      ],
      "execution_count": 0,
      "outputs": []
    },
    {
      "cell_type": "code",
      "metadata": {
        "id": "-2McbOW0c2Rr",
        "colab_type": "code",
        "colab": {}
      },
      "source": [
        "list_data = [6, 7.5, 8, 0, 1]"
      ],
      "execution_count": 0,
      "outputs": []
    },
    {
      "cell_type": "code",
      "metadata": {
        "id": "DC14ZHpqc-nL",
        "colab_type": "code",
        "colab": {}
      },
      "source": [
        "list_data"
      ],
      "execution_count": 0,
      "outputs": []
    },
    {
      "cell_type": "code",
      "metadata": {
        "id": "KOmPiyT4dABb",
        "colab_type": "code",
        "colab": {}
      },
      "source": [
        "arr1 = np.array(list_data)"
      ],
      "execution_count": 0,
      "outputs": []
    },
    {
      "cell_type": "code",
      "metadata": {
        "id": "HyOFHIufdF3k",
        "colab_type": "code",
        "colab": {}
      },
      "source": [
        "arr1"
      ],
      "execution_count": 0,
      "outputs": []
    },
    {
      "cell_type": "code",
      "metadata": {
        "id": "sqcKNSGzdI8U",
        "colab_type": "code",
        "colab": {}
      },
      "source": [
        "list_data_2 = [[1, 2, 3, 4], [5, 6, 7, 8]]"
      ],
      "execution_count": 0,
      "outputs": []
    },
    {
      "cell_type": "code",
      "metadata": {
        "id": "beEV6Iw0dUXL",
        "colab_type": "code",
        "colab": {}
      },
      "source": [
        "arr2 = np.array(list_data_2)"
      ],
      "execution_count": 0,
      "outputs": []
    },
    {
      "cell_type": "code",
      "metadata": {
        "id": "mC0sf7mxdXD0",
        "colab_type": "code",
        "colab": {}
      },
      "source": [
        "arr2"
      ],
      "execution_count": 0,
      "outputs": []
    },
    {
      "cell_type": "code",
      "metadata": {
        "id": "rH6gysp5dX5k",
        "colab_type": "code",
        "colab": {}
      },
      "source": [
        "arr2.ndim"
      ],
      "execution_count": 0,
      "outputs": []
    },
    {
      "cell_type": "code",
      "metadata": {
        "id": "FuO94nYxdgGd",
        "colab_type": "code",
        "colab": {}
      },
      "source": [
        "arr2.shape"
      ],
      "execution_count": 0,
      "outputs": []
    },
    {
      "cell_type": "code",
      "metadata": {
        "id": "CObthaYtdqIL",
        "colab_type": "code",
        "colab": {}
      },
      "source": [
        "arr1.dtype"
      ],
      "execution_count": 0,
      "outputs": []
    },
    {
      "cell_type": "code",
      "metadata": {
        "id": "48S3Xud2d6Qk",
        "colab_type": "code",
        "colab": {}
      },
      "source": [
        "arr2.dtype"
      ],
      "execution_count": 0,
      "outputs": []
    },
    {
      "cell_type": "code",
      "metadata": {
        "id": "zKCR2XjOeSxb",
        "colab_type": "code",
        "colab": {}
      },
      "source": [
        "arr2.size"
      ],
      "execution_count": 0,
      "outputs": []
    },
    {
      "cell_type": "code",
      "metadata": {
        "id": "88TNl-Zad8-j",
        "colab_type": "code",
        "colab": {}
      },
      "source": [
        "np.eye(6)"
      ],
      "execution_count": 0,
      "outputs": []
    },
    {
      "cell_type": "code",
      "metadata": {
        "id": "r_YSmYldeBD7",
        "colab_type": "code",
        "colab": {}
      },
      "source": [
        "arr = np.array([1, 2, 3, 4, 5])\n",
        "arr.dtype"
      ],
      "execution_count": 0,
      "outputs": []
    },
    {
      "cell_type": "code",
      "metadata": {
        "id": "yg2El0_DecYr",
        "colab_type": "code",
        "colab": {}
      },
      "source": [
        "float_arr = arr.astype(float)\n",
        "float_arr.dtype"
      ],
      "execution_count": 0,
      "outputs": []
    },
    {
      "cell_type": "code",
      "metadata": {
        "id": "PMAFKgm6ejGP",
        "colab_type": "code",
        "colab": {}
      },
      "source": [
        "num_string = np.array(['1.25', '-9.6', '42'], dtype=np.string_)\n",
        "num_string.dtype"
      ],
      "execution_count": 0,
      "outputs": []
    },
    {
      "cell_type": "code",
      "metadata": {
        "id": "5yBSC_Kge5Sm",
        "colab_type": "code",
        "colab": {}
      },
      "source": [
        "num_string.astype(float)"
      ],
      "execution_count": 0,
      "outputs": []
    },
    {
      "cell_type": "markdown",
      "metadata": {
        "id": "TdvgFEATfY8c",
        "colab_type": "text"
      },
      "source": [
        "##Operation between array and scalar"
      ]
    },
    {
      "cell_type": "code",
      "metadata": {
        "id": "RlSeG5p6gtNY",
        "colab_type": "code",
        "colab": {}
      },
      "source": [
        "arr = np.array([[1, 2, 3], [4, 5, 6]])\n",
        "arr"
      ],
      "execution_count": 0,
      "outputs": []
    },
    {
      "cell_type": "code",
      "metadata": {
        "id": "jvxMd7Xmg6mR",
        "colab_type": "code",
        "colab": {}
      },
      "source": [
        "arr * arr"
      ],
      "execution_count": 0,
      "outputs": []
    },
    {
      "cell_type": "code",
      "metadata": {
        "id": "Oq98PQljg-g8",
        "colab_type": "code",
        "colab": {}
      },
      "source": [
        "arr - arr"
      ],
      "execution_count": 0,
      "outputs": []
    },
    {
      "cell_type": "code",
      "metadata": {
        "id": "UNxaYMvShBlE",
        "colab_type": "code",
        "colab": {}
      },
      "source": [
        "1/arr"
      ],
      "execution_count": 0,
      "outputs": []
    },
    {
      "cell_type": "code",
      "metadata": {
        "id": "P7WRmdEIhFAM",
        "colab_type": "code",
        "colab": {}
      },
      "source": [
        "arr**0.5"
      ],
      "execution_count": 0,
      "outputs": []
    },
    {
      "cell_type": "code",
      "metadata": {
        "id": "-BsYQX_2hll9",
        "colab_type": "code",
        "colab": {}
      },
      "source": [
        "arr*0.5"
      ],
      "execution_count": 0,
      "outputs": []
    },
    {
      "cell_type": "markdown",
      "metadata": {
        "id": "WwSY19eHp9Ot",
        "colab_type": "text"
      },
      "source": [
        "##NumPy 브로드캐스팅(차원이 맞지 않은 객체 간에도 연산이 가능)"
      ]
    },
    {
      "cell_type": "code",
      "metadata": {
        "id": "T4qUpuEGg8qU",
        "colab_type": "code",
        "colab": {}
      },
      "source": [
        "m = np.ones((2,3))\n",
        "m.shape"
      ],
      "execution_count": 0,
      "outputs": []
    },
    {
      "cell_type": "code",
      "metadata": {
        "id": "e3PrTkyIhqdr",
        "colab_type": "code",
        "colab": {}
      },
      "source": [
        "a = np.arange(3)\n",
        "a.shape"
      ],
      "execution_count": 0,
      "outputs": []
    },
    {
      "cell_type": "code",
      "metadata": {
        "id": "vI5okMcdhrv7",
        "colab_type": "code",
        "colab": {}
      },
      "source": [
        "a+m"
      ],
      "execution_count": 0,
      "outputs": []
    },
    {
      "cell_type": "code",
      "metadata": {
        "id": "euxnyRgghs0T",
        "colab_type": "code",
        "colab": {}
      },
      "source": [
        "a= np.arange(3).reshape((3,1))\n",
        "a.shape"
      ],
      "execution_count": 0,
      "outputs": []
    },
    {
      "cell_type": "code",
      "metadata": {
        "id": "yje1dvI6kep8",
        "colab_type": "code",
        "colab": {}
      },
      "source": [
        "b = np.arange(3)\n",
        "b.shape"
      ],
      "execution_count": 0,
      "outputs": []
    },
    {
      "cell_type": "code",
      "metadata": {
        "id": "fhMSx8FXkhEs",
        "colab_type": "code",
        "colab": {}
      },
      "source": [
        "a+b"
      ],
      "execution_count": 0,
      "outputs": []
    },
    {
      "cell_type": "code",
      "metadata": {
        "id": "lO_6GyTMln-W",
        "colab_type": "code",
        "colab": {}
      },
      "source": [
        "m = np.ones((3,2))"
      ],
      "execution_count": 0,
      "outputs": []
    },
    {
      "cell_type": "code",
      "metadata": {
        "id": "7OYIfEC3lwbP",
        "colab_type": "code",
        "colab": {}
      },
      "source": [
        "a = np.arange(3)"
      ],
      "execution_count": 0,
      "outputs": []
    },
    {
      "cell_type": "code",
      "metadata": {
        "id": "W3SUJJKVlycE",
        "colab_type": "code",
        "colab": {}
      },
      "source": [
        "m+a"
      ],
      "execution_count": 0,
      "outputs": []
    },
    {
      "cell_type": "markdown",
      "metadata": {
        "id": "ChhIvQYikLDD",
        "colab_type": "text"
      },
      "source": [
        "##Indexing & Slicing 기초##"
      ]
    },
    {
      "cell_type": "code",
      "metadata": {
        "id": "D7dZjaTEkaj0",
        "colab_type": "code",
        "colab": {}
      },
      "source": [
        "arr = np.arange(10)"
      ],
      "execution_count": 0,
      "outputs": []
    },
    {
      "cell_type": "code",
      "metadata": {
        "id": "M1Bw8HEzkpa8",
        "colab_type": "code",
        "colab": {}
      },
      "source": [
        "arr"
      ],
      "execution_count": 0,
      "outputs": []
    },
    {
      "cell_type": "code",
      "metadata": {
        "id": "V7bfhfqokp8k",
        "colab_type": "code",
        "colab": {}
      },
      "source": [
        "arr[5]"
      ],
      "execution_count": 0,
      "outputs": []
    },
    {
      "cell_type": "code",
      "metadata": {
        "id": "T0iwLaC1ksHk",
        "colab_type": "code",
        "colab": {}
      },
      "source": [
        "arr[5:8]"
      ],
      "execution_count": 0,
      "outputs": []
    },
    {
      "cell_type": "code",
      "metadata": {
        "id": "JlhPCHzckvOV",
        "colab_type": "code",
        "colab": {}
      },
      "source": [
        "arr[5:]"
      ],
      "execution_count": 0,
      "outputs": []
    },
    {
      "cell_type": "code",
      "metadata": {
        "id": "Jlgzy2Zck1pM",
        "colab_type": "code",
        "colab": {}
      },
      "source": [
        "arr[1: : 2]"
      ],
      "execution_count": 0,
      "outputs": []
    },
    {
      "cell_type": "code",
      "metadata": {
        "id": "x6BVLbdvk1Mc",
        "colab_type": "code",
        "colab": {}
      },
      "source": [
        "arr[: : 2]"
      ],
      "execution_count": 0,
      "outputs": []
    },
    {
      "cell_type": "code",
      "metadata": {
        "id": "1TkXHqIcmkum",
        "colab_type": "code",
        "colab": {}
      },
      "source": [
        "arr[5: : -2]"
      ],
      "execution_count": 0,
      "outputs": []
    },
    {
      "cell_type": "markdown",
      "metadata": {
        "id": "rM1RX9AYhLC8",
        "colab_type": "text"
      },
      "source": [
        "###NumPy- View"
      ]
    },
    {
      "cell_type": "code",
      "metadata": {
        "id": "C0JBmqH9r02S",
        "colab_type": "code",
        "colab": {}
      },
      "source": [
        "arr[5:8] = 12"
      ],
      "execution_count": 0,
      "outputs": []
    },
    {
      "cell_type": "code",
      "metadata": {
        "id": "TK1yTJthr5K6",
        "colab_type": "code",
        "colab": {}
      },
      "source": [
        "arr"
      ],
      "execution_count": 0,
      "outputs": []
    },
    {
      "cell_type": "code",
      "metadata": {
        "id": "uXQRKZaor5nu",
        "colab_type": "code",
        "colab": {}
      },
      "source": [
        "arr_slice = arr[5:8]\n",
        "arr_slice"
      ],
      "execution_count": 0,
      "outputs": []
    },
    {
      "cell_type": "code",
      "metadata": {
        "id": "QlCR4KKyr98u",
        "colab_type": "code",
        "colab": {}
      },
      "source": [
        "arr_slice[1] = 12345"
      ],
      "execution_count": 0,
      "outputs": []
    },
    {
      "cell_type": "code",
      "metadata": {
        "id": "CAcczNQksCDF",
        "colab_type": "code",
        "colab": {}
      },
      "source": [
        "arr"
      ],
      "execution_count": 0,
      "outputs": []
    },
    {
      "cell_type": "code",
      "metadata": {
        "id": "509zzOP8sDBV",
        "colab_type": "code",
        "colab": {}
      },
      "source": [
        "arr_slice[:] = 64"
      ],
      "execution_count": 0,
      "outputs": []
    },
    {
      "cell_type": "code",
      "metadata": {
        "id": "CCMReq1qsIGN",
        "colab_type": "code",
        "colab": {}
      },
      "source": [
        "arr_slice"
      ],
      "execution_count": 0,
      "outputs": []
    },
    {
      "cell_type": "code",
      "metadata": {
        "id": "n1nD63XRsI9k",
        "colab_type": "code",
        "colab": {}
      },
      "source": [
        "arr"
      ],
      "execution_count": 0,
      "outputs": []
    },
    {
      "cell_type": "markdown",
      "metadata": {
        "id": "ehG0ILpHspFF",
        "colab_type": "text"
      },
      "source": [
        "####배열의 복사, copy() 메서드 사용####"
      ]
    },
    {
      "cell_type": "code",
      "metadata": {
        "id": "QLmLDMVTsKuF",
        "colab_type": "code",
        "colab": {}
      },
      "source": [
        "arr_slice = arr[5:8].copy()"
      ],
      "execution_count": 0,
      "outputs": []
    },
    {
      "cell_type": "code",
      "metadata": {
        "id": "lzfqjd3xsXG1",
        "colab_type": "code",
        "colab": {}
      },
      "source": [
        "arr_slice[:] = 128\n",
        "arr_slice"
      ],
      "execution_count": 0,
      "outputs": []
    },
    {
      "cell_type": "code",
      "metadata": {
        "id": "qiLhSde_sYie",
        "colab_type": "code",
        "colab": {}
      },
      "source": [
        "arr"
      ],
      "execution_count": 0,
      "outputs": []
    },
    {
      "cell_type": "markdown",
      "metadata": {
        "id": "n8LYGownsbH2",
        "colab_type": "text"
      },
      "source": [
        "###다차원 배열의 색인 및 슬라이싱"
      ]
    },
    {
      "cell_type": "code",
      "metadata": {
        "id": "_MG4cp0MtC0I",
        "colab_type": "code",
        "colab": {}
      },
      "source": [
        "arr2d = np.arange(1,10).reshape(3,-1)\n",
        "arr2d"
      ],
      "execution_count": 0,
      "outputs": []
    },
    {
      "cell_type": "code",
      "metadata": {
        "id": "33ApVGuq6FWk",
        "colab_type": "code",
        "colab": {}
      },
      "source": [
        ""
      ],
      "execution_count": 0,
      "outputs": []
    },
    {
      "cell_type": "code",
      "metadata": {
        "id": "5lnOPg5jtuWu",
        "colab_type": "code",
        "colab": {}
      },
      "source": [
        "arr2d[:2]"
      ],
      "execution_count": 0,
      "outputs": []
    },
    {
      "cell_type": "code",
      "metadata": {
        "id": "YaWbmR4NtVdl",
        "colab_type": "code",
        "colab": {}
      },
      "source": [
        "arr2d[:2, :]"
      ],
      "execution_count": 0,
      "outputs": []
    },
    {
      "cell_type": "code",
      "metadata": {
        "id": "hxlqrro4taJ2",
        "colab_type": "code",
        "colab": {}
      },
      "source": [
        "arr2d[:, :2]"
      ],
      "execution_count": 0,
      "outputs": []
    },
    {
      "cell_type": "code",
      "metadata": {
        "id": "bCYD1ukguwNF",
        "colab_type": "code",
        "colab": {}
      },
      "source": [
        "arr2d[2, :1] #3행, 1열"
      ],
      "execution_count": 0,
      "outputs": []
    },
    {
      "cell_type": "markdown",
      "metadata": {
        "id": "y_5b_YPSu9eO",
        "colab_type": "text"
      },
      "source": [
        "###불리언 색인"
      ]
    },
    {
      "cell_type": "code",
      "metadata": {
        "id": "8TdSGgb1vITQ",
        "colab_type": "code",
        "colab": {}
      },
      "source": [
        "names = np.array(['Bob','Joe','Will','Bob','Will','Joe','Joe'])\n",
        "names"
      ],
      "execution_count": 0,
      "outputs": []
    },
    {
      "cell_type": "code",
      "metadata": {
        "id": "cCKtUY26vQU9",
        "colab_type": "code",
        "colab": {}
      },
      "source": [
        "data = np.random.randn(7, 7)\n",
        "data"
      ],
      "execution_count": 0,
      "outputs": []
    },
    {
      "cell_type": "code",
      "metadata": {
        "id": "rYqzv6zYvQ-2",
        "colab_type": "code",
        "colab": {}
      },
      "source": [
        "names == 'Bob'"
      ],
      "execution_count": 0,
      "outputs": []
    },
    {
      "cell_type": "code",
      "metadata": {
        "id": "yKVN3X9lvvLt",
        "colab_type": "code",
        "colab": {}
      },
      "source": [
        "data[names == 'Bob']"
      ],
      "execution_count": 0,
      "outputs": []
    },
    {
      "cell_type": "code",
      "metadata": {
        "id": "a8hTFGWrv4hG",
        "colab_type": "code",
        "colab": {}
      },
      "source": [
        "data[:,names == 'Bob']"
      ],
      "execution_count": 0,
      "outputs": []
    },
    {
      "cell_type": "code",
      "metadata": {
        "id": "Lq2Pg8HjwKgO",
        "colab_type": "code",
        "colab": {}
      },
      "source": [
        "data[names != 'Bob']"
      ],
      "execution_count": 0,
      "outputs": []
    },
    {
      "cell_type": "code",
      "metadata": {
        "id": "ciCA6wgVwTQW",
        "colab_type": "code",
        "colab": {}
      },
      "source": [
        "data[~(names == 'Bob')]"
      ],
      "execution_count": 0,
      "outputs": []
    },
    {
      "cell_type": "code",
      "metadata": {
        "id": "wNZ2B5A3wYCu",
        "colab_type": "code",
        "colab": {}
      },
      "source": [
        "data[data < 0] = 0"
      ],
      "execution_count": 0,
      "outputs": []
    },
    {
      "cell_type": "code",
      "metadata": {
        "id": "ZOFDy03bwgJ-",
        "colab_type": "code",
        "colab": {}
      },
      "source": [
        "data"
      ],
      "execution_count": 0,
      "outputs": []
    },
    {
      "cell_type": "markdown",
      "metadata": {
        "id": "04iWso5-whpW",
        "colab_type": "text"
      },
      "source": [
        "###팬시 색인"
      ]
    },
    {
      "cell_type": "code",
      "metadata": {
        "id": "FAwl_icB5u0p",
        "colab_type": "code",
        "colab": {}
      },
      "source": [
        "import numpy as np"
      ],
      "execution_count": 0,
      "outputs": []
    },
    {
      "cell_type": "code",
      "metadata": {
        "id": "5LZAFuoPxIaQ",
        "colab_type": "code",
        "colab": {}
      },
      "source": [
        "arr=np.empty((8,4))\n",
        "arr"
      ],
      "execution_count": 0,
      "outputs": []
    },
    {
      "cell_type": "code",
      "metadata": {
        "id": "E5Obo5L5xPZb",
        "colab_type": "code",
        "colab": {}
      },
      "source": [
        "for i in range(3):\n",
        "    arr[i] = i"
      ],
      "execution_count": 0,
      "outputs": []
    },
    {
      "cell_type": "code",
      "metadata": {
        "id": "UMuEfqOKxbRu",
        "colab_type": "code",
        "colab": {}
      },
      "source": [
        "arr"
      ],
      "execution_count": 0,
      "outputs": []
    },
    {
      "cell_type": "code",
      "metadata": {
        "id": "IwSRW28Rxb02",
        "colab_type": "code",
        "colab": {}
      },
      "source": [
        "arr[[4,3,0,6]]"
      ],
      "execution_count": 0,
      "outputs": []
    },
    {
      "cell_type": "code",
      "metadata": {
        "id": "evleZ2uvx1U2",
        "colab_type": "code",
        "colab": {}
      },
      "source": [
        "arr[[-3, -5, -7]]"
      ],
      "execution_count": 0,
      "outputs": []
    },
    {
      "cell_type": "code",
      "metadata": {
        "id": "r7Wf62Rl0E8u",
        "colab_type": "code",
        "colab": {}
      },
      "source": [
        "x = np.arange(12).reshape((3, 4))\n",
        "x"
      ],
      "execution_count": 0,
      "outputs": []
    },
    {
      "cell_type": "code",
      "metadata": {
        "id": "a-kwo30Q6aJj",
        "colab_type": "code",
        "colab": {}
      },
      "source": [
        "row = np.array([2, 1])\n",
        "col = np.array([2, 1, 3])"
      ],
      "execution_count": 0,
      "outputs": []
    },
    {
      "cell_type": "code",
      "metadata": {
        "id": "PqKzazn-6sZ_",
        "colab_type": "code",
        "colab": {}
      },
      "source": [
        "row = np.array([2, 1])\n",
        "row"
      ],
      "execution_count": 0,
      "outputs": []
    },
    {
      "cell_type": "code",
      "metadata": {
        "id": "JwYVbFSY0Mi1",
        "colab_type": "code",
        "colab": {}
      },
      "source": [
        "row = np.array([0, 1, 2])\n",
        "col = np.array([2, 1, 3])\n",
        "x[row, col]"
      ],
      "execution_count": 0,
      "outputs": []
    },
    {
      "cell_type": "code",
      "metadata": {
        "id": "2Bwgykc_0aee",
        "colab_type": "code",
        "colab": {}
      },
      "source": [
        "x[row, :]"
      ],
      "execution_count": 0,
      "outputs": []
    },
    {
      "cell_type": "code",
      "metadata": {
        "id": "E5CfwIw20gt-",
        "colab_type": "code",
        "colab": {}
      },
      "source": [
        "x[:, col]"
      ],
      "execution_count": 0,
      "outputs": []
    },
    {
      "cell_type": "code",
      "metadata": {
        "id": "Cag8E4Ox0jDe",
        "colab_type": "code",
        "colab": {}
      },
      "source": [
        "x[row, col]"
      ],
      "execution_count": 0,
      "outputs": []
    },
    {
      "cell_type": "code",
      "metadata": {
        "id": "0xDvCQ3_oiwe",
        "colab_type": "code",
        "colab": {}
      },
      "source": [
        "x = np.random.randint(100, size =10)\n",
        "x"
      ],
      "execution_count": 0,
      "outputs": []
    },
    {
      "cell_type": "code",
      "metadata": {
        "id": "LA7ZRbESotZ1",
        "colab_type": "code",
        "colab": {}
      },
      "source": [
        "ind = np.array([[3, 7], [4, 5]])"
      ],
      "execution_count": 0,
      "outputs": []
    },
    {
      "cell_type": "code",
      "metadata": {
        "id": "2NOGYXqp7QN3",
        "colab_type": "code",
        "colab": {}
      },
      "source": [
        "ind"
      ],
      "execution_count": 0,
      "outputs": []
    },
    {
      "cell_type": "code",
      "metadata": {
        "id": "w3GAuKB67TUq",
        "colab_type": "code",
        "colab": {}
      },
      "source": [
        "x[ind]"
      ],
      "execution_count": 0,
      "outputs": []
    },
    {
      "cell_type": "markdown",
      "metadata": {
        "id": "m9TSEFflx5zG",
        "colab_type": "text"
      },
      "source": [
        "##배열 전치##"
      ]
    },
    {
      "cell_type": "code",
      "metadata": {
        "id": "ltz-0TLmylQ4",
        "colab_type": "code",
        "colab": {}
      },
      "source": [
        "arr=np.arange(15).reshape((3,5))"
      ],
      "execution_count": 0,
      "outputs": []
    },
    {
      "cell_type": "code",
      "metadata": {
        "id": "CLSLNDCwyo7Y",
        "colab_type": "code",
        "colab": {}
      },
      "source": [
        "arr"
      ],
      "execution_count": 0,
      "outputs": []
    },
    {
      "cell_type": "code",
      "metadata": {
        "id": "zjp_0FseyvG-",
        "colab_type": "code",
        "colab": {}
      },
      "source": [
        "arr.T"
      ],
      "execution_count": 0,
      "outputs": []
    },
    {
      "cell_type": "code",
      "metadata": {
        "id": "AVmQfMouyp4e",
        "colab_type": "code",
        "colab": {}
      },
      "source": [
        "arr.reshape(5, -1)"
      ],
      "execution_count": 0,
      "outputs": []
    },
    {
      "cell_type": "markdown",
      "metadata": {
        "id": "N3ne71IR7EXh",
        "colab_type": "text"
      },
      "source": [
        "##Numpy Ufuncs(Universal functions)"
      ]
    },
    {
      "cell_type": "code",
      "metadata": {
        "id": "dNoH-5-17PNP",
        "colab_type": "code",
        "colab": {}
      },
      "source": [
        "np.random.seed(42)"
      ],
      "execution_count": 0,
      "outputs": []
    },
    {
      "cell_type": "code",
      "metadata": {
        "id": "O_VAtdFQ7Tlf",
        "colab_type": "code",
        "colab": {}
      },
      "source": [
        "def computer_reciprocals(values):\n",
        "    output = np.empty(len(values))\n",
        "    for i in range(len(values)):\n",
        "        output[i] = 1.0/values[i]\n",
        "    return output"
      ],
      "execution_count": 0,
      "outputs": []
    },
    {
      "cell_type": "code",
      "metadata": {
        "id": "MKkts9VW7odw",
        "colab_type": "code",
        "colab": {}
      },
      "source": [
        "values = np.random.randint(1, 100, size=1000000)\n",
        "values"
      ],
      "execution_count": 0,
      "outputs": []
    },
    {
      "cell_type": "code",
      "metadata": {
        "id": "cgckxkmD71Hv",
        "colab_type": "code",
        "colab": {}
      },
      "source": [
        "%time computer_reciprocals(values)"
      ],
      "execution_count": 0,
      "outputs": []
    },
    {
      "cell_type": "code",
      "metadata": {
        "id": "Y802luqK8H-o",
        "colab_type": "code",
        "colab": {}
      },
      "source": [
        "%time 1.0/values"
      ],
      "execution_count": 0,
      "outputs": []
    },
    {
      "cell_type": "markdown",
      "metadata": {
        "id": "i44TOLCMBLmg",
        "colab_type": "text"
      },
      "source": [
        "###단항"
      ]
    },
    {
      "cell_type": "code",
      "metadata": {
        "id": "7bTUaDeUA8dR",
        "colab_type": "code",
        "colab": {}
      },
      "source": [
        "arr = np.arange(10)\n",
        "arr"
      ],
      "execution_count": 0,
      "outputs": []
    },
    {
      "cell_type": "code",
      "metadata": {
        "id": "I3TPmkfiBB4w",
        "colab_type": "code",
        "colab": {}
      },
      "source": [
        "np.exp(arr)"
      ],
      "execution_count": 0,
      "outputs": []
    },
    {
      "cell_type": "code",
      "metadata": {
        "id": "AAo76jE7BUwI",
        "colab_type": "code",
        "colab": {}
      },
      "source": [
        "np.log2(arr)"
      ],
      "execution_count": 0,
      "outputs": []
    },
    {
      "cell_type": "code",
      "metadata": {
        "id": "X_qgdwgvBjCI",
        "colab_type": "code",
        "colab": {}
      },
      "source": [
        "np.sign(arr)"
      ],
      "execution_count": 0,
      "outputs": []
    },
    {
      "cell_type": "code",
      "metadata": {
        "id": "o9md4iz5BnOI",
        "colab_type": "code",
        "colab": {}
      },
      "source": [
        "np.modf(arr)"
      ],
      "execution_count": 0,
      "outputs": []
    },
    {
      "cell_type": "code",
      "metadata": {
        "id": "l-zrLhu0Cw7Y",
        "colab_type": "code",
        "colab": {}
      },
      "source": [
        "np.logical_not(arr < 2)"
      ],
      "execution_count": 0,
      "outputs": []
    },
    {
      "cell_type": "code",
      "metadata": {
        "id": "pHf2R6PADPsB",
        "colab_type": "code",
        "colab": {}
      },
      "source": [
        "arr < 2"
      ],
      "execution_count": 0,
      "outputs": []
    },
    {
      "cell_type": "markdown",
      "metadata": {
        "id": "QjXIjdnjDirI",
        "colab_type": "text"
      },
      "source": [
        "###이항"
      ]
    },
    {
      "cell_type": "code",
      "metadata": {
        "id": "x17zn8WMDlIp",
        "colab_type": "code",
        "colab": {}
      },
      "source": [
        "x=np.random.randn(8)\n",
        "y=np.random.randn(8)"
      ],
      "execution_count": 0,
      "outputs": []
    },
    {
      "cell_type": "code",
      "metadata": {
        "id": "_nJ6HkwJDrc4",
        "colab_type": "code",
        "colab": {}
      },
      "source": [
        "x, y"
      ],
      "execution_count": 0,
      "outputs": []
    },
    {
      "cell_type": "code",
      "metadata": {
        "id": "6vm6LuqtDtSQ",
        "colab_type": "code",
        "colab": {}
      },
      "source": [
        "np.add(x, y)"
      ],
      "execution_count": 0,
      "outputs": []
    },
    {
      "cell_type": "code",
      "metadata": {
        "id": "_ouCZNtIDyIH",
        "colab_type": "code",
        "colab": {}
      },
      "source": [
        "np.divide(x, y)"
      ],
      "execution_count": 0,
      "outputs": []
    },
    {
      "cell_type": "code",
      "metadata": {
        "colab_type": "code",
        "id": "1TX_MG-JAev2",
        "colab": {}
      },
      "source": [
        "np.maximum(x, y)"
      ],
      "execution_count": 0,
      "outputs": []
    },
    {
      "cell_type": "markdown",
      "metadata": {
        "id": "MkNR9xQIEQOc",
        "colab_type": "text"
      },
      "source": [
        "##Numpy 데이터 처리"
      ]
    },
    {
      "cell_type": "code",
      "metadata": {
        "id": "QUHrgKdTEXDo",
        "colab_type": "code",
        "colab": {}
      },
      "source": [
        "xarr=np.array([1.1,1.2,1.3,1.4,1.5])\n",
        "yarr=np.array([2.1,2.2,2.3,2.4,2.5])\n",
        "cond=np.array([True, False, True, True, False])"
      ],
      "execution_count": 0,
      "outputs": []
    },
    {
      "cell_type": "markdown",
      "metadata": {
        "id": "rIUQmX04E-XJ",
        "colab_type": "text"
      },
      "source": [
        "*np.where(조건, 조건에 맞을 때 값, 조건과 다를 때 값)*"
      ]
    },
    {
      "cell_type": "code",
      "metadata": {
        "id": "lHY6Fn1yFJNg",
        "colab_type": "code",
        "colab": {}
      },
      "source": [
        "result=np.where(cond, xarr, yarr)\n",
        "result"
      ],
      "execution_count": 0,
      "outputs": []
    },
    {
      "cell_type": "code",
      "metadata": {
        "id": "SypICUAcFSjI",
        "colab_type": "code",
        "colab": {}
      },
      "source": [
        "arr = np.random.randn(4, 5)\n",
        "arr"
      ],
      "execution_count": 0,
      "outputs": []
    },
    {
      "cell_type": "code",
      "metadata": {
        "id": "_O14AJWTFXDo",
        "colab_type": "code",
        "colab": {}
      },
      "source": [
        "np.where(arr>0, 2, arr)"
      ],
      "execution_count": 0,
      "outputs": []
    },
    {
      "cell_type": "markdown",
      "metadata": {
        "id": "h1r9PZM_FiDp",
        "colab_type": "text"
      },
      "source": [
        "###수학 및 통계 메서드"
      ]
    },
    {
      "cell_type": "code",
      "metadata": {
        "id": "cexgTayXFmaA",
        "colab_type": "code",
        "colab": {}
      },
      "source": [
        "arr = np.random.randn(5, 4)\n",
        "arr"
      ],
      "execution_count": 0,
      "outputs": []
    },
    {
      "cell_type": "code",
      "metadata": {
        "id": "Yx4jVQj1Fpvo",
        "colab_type": "code",
        "colab": {}
      },
      "source": [
        "arr.mean()"
      ],
      "execution_count": 0,
      "outputs": []
    },
    {
      "cell_type": "code",
      "metadata": {
        "id": "8s-ujZSTFq2A",
        "colab_type": "code",
        "colab": {}
      },
      "source": [
        "np.mean(arr)"
      ],
      "execution_count": 0,
      "outputs": []
    },
    {
      "cell_type": "code",
      "metadata": {
        "id": "hFFyrMO7FwrI",
        "colab_type": "code",
        "colab": {}
      },
      "source": [
        "arr.mean(axis=0)"
      ],
      "execution_count": 0,
      "outputs": []
    },
    {
      "cell_type": "code",
      "metadata": {
        "id": "jKvGSQw_F4Bw",
        "colab_type": "code",
        "colab": {}
      },
      "source": [
        "arr.mean(axis=1)"
      ],
      "execution_count": 0,
      "outputs": []
    },
    {
      "cell_type": "code",
      "metadata": {
        "id": "PnrAvvNpGMnB",
        "colab_type": "code",
        "colab": {}
      },
      "source": [
        "arr.mean(0)"
      ],
      "execution_count": 0,
      "outputs": []
    },
    {
      "cell_type": "code",
      "metadata": {
        "id": "dXFHm2EJGSzg",
        "colab_type": "code",
        "colab": {}
      },
      "source": [
        "arr.mean(1)"
      ],
      "execution_count": 0,
      "outputs": []
    },
    {
      "cell_type": "code",
      "metadata": {
        "id": "BdglVe7OGcxB",
        "colab_type": "code",
        "colab": {}
      },
      "source": [
        "arr=np.arange(0,9).reshape(3,3)\n",
        "arr"
      ],
      "execution_count": 0,
      "outputs": []
    },
    {
      "cell_type": "code",
      "metadata": {
        "id": "KoT3wrKPGdgx",
        "colab_type": "code",
        "colab": {}
      },
      "source": [
        "arr.sum(0)"
      ],
      "execution_count": 0,
      "outputs": []
    },
    {
      "cell_type": "code",
      "metadata": {
        "id": "ROe54nT5Gm7o",
        "colab_type": "code",
        "colab": {}
      },
      "source": [
        "arr.sum(1)"
      ],
      "execution_count": 0,
      "outputs": []
    },
    {
      "cell_type": "code",
      "metadata": {
        "id": "EMTnMUqqGtlp",
        "colab_type": "code",
        "colab": {}
      },
      "source": [
        "arr.cumsum(0)"
      ],
      "execution_count": 0,
      "outputs": []
    },
    {
      "cell_type": "code",
      "metadata": {
        "id": "6k460KaKG0rx",
        "colab_type": "code",
        "colab": {}
      },
      "source": [
        "arr.cumprod(0)"
      ],
      "execution_count": 0,
      "outputs": []
    },
    {
      "cell_type": "code",
      "metadata": {
        "id": "LPX4Lr_dG-9x",
        "colab_type": "code",
        "colab": {}
      },
      "source": [
        "arr = np.random.randn(100)\n",
        "arr"
      ],
      "execution_count": 0,
      "outputs": []
    },
    {
      "cell_type": "code",
      "metadata": {
        "id": "02V7qdXaHCO6",
        "colab_type": "code",
        "colab": {}
      },
      "source": [
        "arr.shape"
      ],
      "execution_count": 0,
      "outputs": []
    },
    {
      "cell_type": "code",
      "metadata": {
        "id": "8EYIgmjZHF_B",
        "colab_type": "code",
        "colab": {}
      },
      "source": [
        "(arr>0).sum()"
      ],
      "execution_count": 0,
      "outputs": []
    },
    {
      "cell_type": "code",
      "metadata": {
        "id": "DsZ64T6LHRwR",
        "colab_type": "code",
        "colab": {}
      },
      "source": [
        "np.random.seed(42)\n",
        "arr = np.random.randn(8)\n",
        "arr"
      ],
      "execution_count": 0,
      "outputs": []
    },
    {
      "cell_type": "code",
      "metadata": {
        "id": "RMT_zr1HHZup",
        "colab_type": "code",
        "colab": {}
      },
      "source": [
        "arr.sort()\n",
        "arr"
      ],
      "execution_count": 0,
      "outputs": []
    },
    {
      "cell_type": "code",
      "metadata": {
        "id": "ByL0YucLHajw",
        "colab_type": "code",
        "colab": {}
      },
      "source": [
        "arr = np.random.randn(5, 3)\n",
        "arr"
      ],
      "execution_count": 0,
      "outputs": []
    },
    {
      "cell_type": "code",
      "metadata": {
        "id": "AHFJiA-HHvpJ",
        "colab_type": "code",
        "colab": {}
      },
      "source": [
        "arr.sort(0)\n",
        "arr"
      ],
      "execution_count": 0,
      "outputs": []
    },
    {
      "cell_type": "code",
      "metadata": {
        "id": "18H9JQUyIA2y",
        "colab_type": "code",
        "colab": {}
      },
      "source": [
        "arr.sort(1)\n",
        "arr"
      ],
      "execution_count": 0,
      "outputs": []
    },
    {
      "cell_type": "markdown",
      "metadata": {
        "id": "11QJuyzeIDgF",
        "colab_type": "text"
      },
      "source": [
        "###집합"
      ]
    },
    {
      "cell_type": "code",
      "metadata": {
        "id": "JVyrj4xeIVMR",
        "colab_type": "code",
        "colab": {}
      },
      "source": [
        "names = np.array(['Bob','Joe','Will','Bob','Will','Joe','Joe'])"
      ],
      "execution_count": 0,
      "outputs": []
    },
    {
      "cell_type": "code",
      "metadata": {
        "id": "Y7dQaFjbHx3A",
        "colab_type": "code",
        "colab": {}
      },
      "source": [
        "np.unique(names)"
      ],
      "execution_count": 0,
      "outputs": []
    },
    {
      "cell_type": "code",
      "metadata": {
        "id": "rrk6L2rFqe8U",
        "colab_type": "code",
        "colab": {}
      },
      "source": [
        "names_b = np.array(['Joe'])"
      ],
      "execution_count": 0,
      "outputs": []
    },
    {
      "cell_type": "code",
      "metadata": {
        "id": "iGD-emtgqmQ9",
        "colab_type": "code",
        "colab": {}
      },
      "source": [
        "np.in1d(names, names_b)"
      ],
      "execution_count": 0,
      "outputs": []
    },
    {
      "cell_type": "markdown",
      "metadata": {
        "id": "FsDedk5MHu99",
        "colab_type": "text"
      },
      "source": [
        "##배열의 파일 입출력"
      ]
    },
    {
      "cell_type": "code",
      "metadata": {
        "id": "6Eno1qpxIplA",
        "colab_type": "code",
        "colab": {}
      },
      "source": [
        "arr = np.arange(10)\n",
        "arr"
      ],
      "execution_count": 0,
      "outputs": []
    },
    {
      "cell_type": "code",
      "metadata": {
        "id": "Tb5NLOgbrPhN",
        "colab_type": "code",
        "colab": {}
      },
      "source": [
        "np.save('some_arrar', arr)"
      ],
      "execution_count": 0,
      "outputs": []
    },
    {
      "cell_type": "code",
      "metadata": {
        "id": "IQj3psgsrSxW",
        "colab_type": "code",
        "colab": {}
      },
      "source": [
        "np.load('some_arrar.npy')"
      ],
      "execution_count": 0,
      "outputs": []
    },
    {
      "cell_type": "code",
      "metadata": {
        "id": "z8Tzr1WtrY2t",
        "colab_type": "code",
        "colab": {}
      },
      "source": [
        "np.savez('array_archive.npz',a=arr,b=arr)"
      ],
      "execution_count": 0,
      "outputs": []
    },
    {
      "cell_type": "code",
      "metadata": {
        "id": "Xr_RJK_vrOTU",
        "colab_type": "code",
        "colab": {}
      },
      "source": [
        "arch=np.load('array_archive.npz')"
      ],
      "execution_count": 0,
      "outputs": []
    },
    {
      "cell_type": "code",
      "metadata": {
        "id": "ULx1pB3VrkBd",
        "colab_type": "code",
        "colab": {}
      },
      "source": [
        "arch['a']"
      ],
      "execution_count": 0,
      "outputs": []
    },
    {
      "cell_type": "code",
      "metadata": {
        "id": "qLsFpuEQrpt9",
        "colab_type": "code",
        "colab": {}
      },
      "source": [
        "arch['b']"
      ],
      "execution_count": 0,
      "outputs": []
    },
    {
      "cell_type": "markdown",
      "metadata": {
        "id": "SP4yOGMpsQuo",
        "colab_type": "text"
      },
      "source": [
        "##구조화된 데이터 배열"
      ]
    },
    {
      "cell_type": "code",
      "metadata": {
        "id": "CdYVWppVsVVF",
        "colab_type": "code",
        "colab": {}
      },
      "source": [
        "name = ['Alice', 'Bob', 'Cathy', 'Doug']\n",
        "age = [25, 45, 37, 19]\n",
        "weight = [55.0, 85.5, 68.0, 61.5]"
      ],
      "execution_count": 0,
      "outputs": []
    },
    {
      "cell_type": "code",
      "metadata": {
        "id": "OOut8DbMslLu",
        "colab_type": "code",
        "colab": {}
      },
      "source": [
        "data= np.zeros(4, dtype={'names':('name', 'age', 'weight'),\n",
        "                       'formats':('U10', 'i4', 'f8')})"
      ],
      "execution_count": 0,
      "outputs": []
    },
    {
      "cell_type": "code",
      "metadata": {
        "id": "DQwXXn-ltHot",
        "colab_type": "code",
        "colab": {}
      },
      "source": [
        "data.dtype"
      ],
      "execution_count": 0,
      "outputs": []
    },
    {
      "cell_type": "code",
      "metadata": {
        "id": "t0qMCiDitJlN",
        "colab_type": "code",
        "colab": {}
      },
      "source": [
        "data['name'] = name\n",
        "data['age'] = age\n",
        "data['weight'] = weight"
      ],
      "execution_count": 0,
      "outputs": []
    },
    {
      "cell_type": "code",
      "metadata": {
        "id": "EIw-AX3DtbEd",
        "colab_type": "code",
        "colab": {}
      },
      "source": [
        "data"
      ],
      "execution_count": 0,
      "outputs": []
    },
    {
      "cell_type": "code",
      "metadata": {
        "id": "llvb91CItbyF",
        "colab_type": "code",
        "colab": {}
      },
      "source": [
        "data['name']"
      ],
      "execution_count": 0,
      "outputs": []
    },
    {
      "cell_type": "code",
      "metadata": {
        "id": "QXyjt7kuvMp3",
        "colab_type": "code",
        "colab": {}
      },
      "source": [
        "data[0]"
      ],
      "execution_count": 0,
      "outputs": []
    },
    {
      "cell_type": "code",
      "metadata": {
        "id": "1mVa4l1gvPKd",
        "colab_type": "code",
        "colab": {}
      },
      "source": [
        "data[data['age']<30]"
      ],
      "execution_count": 0,
      "outputs": []
    }
  ]
}