{
  "nbformat": 4,
  "nbformat_minor": 0,
  "metadata": {
    "colab": {
      "name": "Web scraping_2.ipynb",
      "provenance": [],
      "private_outputs": true,
      "collapsed_sections": [
        "JUmNdBPEbO0v"
      ],
      "include_colab_link": true
    },
    "kernelspec": {
      "name": "python3",
      "display_name": "Python 3"
    }
  },
  "cells": [
    {
      "cell_type": "markdown",
      "metadata": {
        "id": "view-in-github",
        "colab_type": "text"
      },
      "source": [
        "<a href=\"https://colab.research.google.com/github/bjh5098/Social-Network-Analysis-and-Text-Mining/blob/master/Web_scraping_2.ipynb\" target=\"_parent\"><img src=\"https://colab.research.google.com/assets/colab-badge.svg\" alt=\"Open In Colab\"/></a>"
      ]
    },
    {
      "cell_type": "markdown",
      "metadata": {
        "id": "edpG91GVbZ6Y",
        "colab_type": "text"
      },
      "source": [
        "#고급 HTML 분석"
      ]
    },
    {
      "cell_type": "markdown",
      "metadata": {
        "id": "BhhZMBtNiKnx",
        "colab_type": "text"
      },
      "source": [
        "## find() & findall()"
      ]
    },
    {
      "cell_type": "code",
      "metadata": {
        "id": "V-gJSiSUpjWk",
        "colab_type": "code",
        "colab": {}
      },
      "source": [
        "from urllib.request import urlopen\n",
        "from bs4 import BeautifulSoup"
      ],
      "execution_count": 0,
      "outputs": []
    },
    {
      "cell_type": "code",
      "metadata": {
        "id": "pfO6p7ITLtTu",
        "colab_type": "code",
        "colab": {}
      },
      "source": [
        "html = urlopen('http://www.pythonscraping.com/pages/warandpeace.html')\n",
        "bs = BeautifulSoup(html, \"html.parser\")"
      ],
      "execution_count": 0,
      "outputs": []
    },
    {
      "cell_type": "code",
      "metadata": {
        "id": "yqxd4AbZMCGD",
        "colab_type": "code",
        "colab": {}
      },
      "source": [
        "print(bs)"
      ],
      "execution_count": 0,
      "outputs": []
    },
    {
      "cell_type": "markdown",
      "metadata": {
        "id": "JUmNdBPEbO0v",
        "colab_type": "text"
      },
      "source": [
        "### find()"
      ]
    },
    {
      "cell_type": "code",
      "metadata": {
        "id": "rUZ8hSaGbD9Z",
        "colab_type": "code",
        "colab": {}
      },
      "source": [
        "name = bs.find('span', {'class': 'green'})"
      ],
      "execution_count": 0,
      "outputs": []
    },
    {
      "cell_type": "code",
      "metadata": {
        "id": "jatGlQ5XbKzB",
        "colab_type": "code",
        "colab": {}
      },
      "source": [
        "print(name)"
      ],
      "execution_count": 0,
      "outputs": []
    },
    {
      "cell_type": "markdown",
      "metadata": {
        "id": "OCYOy6RabUQ4",
        "colab_type": "text"
      },
      "source": [
        "### findall()"
      ]
    },
    {
      "cell_type": "code",
      "metadata": {
        "id": "5gdCgz9BMEID",
        "colab_type": "code",
        "colab": {}
      },
      "source": [
        "name_lists = bs.findAll('span', {'class': 'green'})"
      ],
      "execution_count": 0,
      "outputs": []
    },
    {
      "cell_type": "code",
      "metadata": {
        "id": "mMkAjhthYZgL",
        "colab_type": "code",
        "colab": {}
      },
      "source": [
        "print(name_lists)"
      ],
      "execution_count": 0,
      "outputs": []
    },
    {
      "cell_type": "code",
      "metadata": {
        "id": "MAqHEofHdX5C",
        "colab_type": "code",
        "colab": {}
      },
      "source": [
        "prince_lists = bs.findAll('span', {'class': 'green'}, text='the prince')"
      ],
      "execution_count": 0,
      "outputs": []
    },
    {
      "cell_type": "code",
      "metadata": {
        "id": "ihP2ASdhdfUI",
        "colab_type": "code",
        "colab": {}
      },
      "source": [
        "prince_lists"
      ],
      "execution_count": 0,
      "outputs": []
    },
    {
      "cell_type": "code",
      "metadata": {
        "id": "nc7SIA5ZZ7-S",
        "colab_type": "code",
        "colab": {}
      },
      "source": [
        "print(name_lists[0])"
      ],
      "execution_count": 0,
      "outputs": []
    },
    {
      "cell_type": "code",
      "metadata": {
        "id": "eCBwiqEcYfFh",
        "colab_type": "code",
        "colab": {}
      },
      "source": [
        "print(name_lists[0].get_text())"
      ],
      "execution_count": 0,
      "outputs": []
    },
    {
      "cell_type": "code",
      "metadata": {
        "id": "PMQw3QOBYbT6",
        "colab_type": "code",
        "colab": {}
      },
      "source": [
        "nameList = []\n",
        "for name in name_lists:\n",
        "    nameList.append(name.get_text().replace('\\n',' '))\n",
        "    print(name.get_text())"
      ],
      "execution_count": 0,
      "outputs": []
    },
    {
      "cell_type": "code",
      "metadata": {
        "id": "x_wzZYeiaJLb",
        "colab_type": "code",
        "colab": {}
      },
      "source": [
        "nameList[0]"
      ],
      "execution_count": 0,
      "outputs": []
    },
    {
      "cell_type": "code",
      "metadata": {
        "id": "kNxF0TbjaYRI",
        "colab_type": "code",
        "colab": {}
      },
      "source": [
        "nameList[1]"
      ],
      "execution_count": 0,
      "outputs": []
    },
    {
      "cell_type": "markdown",
      "metadata": {
        "id": "GJcuuYjyiVV_",
        "colab_type": "text"
      },
      "source": [
        "## 트리 이동"
      ]
    },
    {
      "cell_type": "code",
      "metadata": {
        "id": "qlOT0DmxiYZn",
        "colab_type": "code",
        "colab": {}
      },
      "source": [
        "from urllib.request import urlopen\n",
        "from bs4 import BeautifulSoup\n",
        "\n",
        "html = urlopen('http://www.pythonscraping.com/pages/page3.html')\n",
        "bs = BeautifulSoup(html, 'html.parser')"
      ],
      "execution_count": 0,
      "outputs": []
    },
    {
      "cell_type": "code",
      "metadata": {
        "id": "7sFdMn1v7APD",
        "colab_type": "code",
        "colab": {}
      },
      "source": [
        "for child in bs.find(\"table\", {\"id\":\"giftList\"}).children:\n",
        "    print(child)"
      ],
      "execution_count": 0,
      "outputs": []
    },
    {
      "cell_type": "code",
      "metadata": {
        "id": "z3m94-BpCJvB",
        "colab_type": "code",
        "colab": {}
      },
      "source": [
        "for descen in bs.find(\"table\", {\"id\":\"giftList\"}).descendants:\n",
        "    print(descen)"
      ],
      "execution_count": 0,
      "outputs": []
    },
    {
      "cell_type": "code",
      "metadata": {
        "id": "7vUIp8jz7DOC",
        "colab_type": "code",
        "colab": {}
      },
      "source": [
        "for sibling in bs.find(\"table\", {\"id\":\"giftList\"}).tr.next_siblings:\n",
        "    print(sibling)"
      ],
      "execution_count": 0,
      "outputs": []
    },
    {
      "cell_type": "code",
      "metadata": {
        "id": "6t_YKE8S0bsM",
        "colab_type": "code",
        "colab": {}
      },
      "source": [
        "print(bs.find('img', {'src':'../img/gifts/img1.jpg'}).parent.previous_sibling.get_text())"
      ],
      "execution_count": 0,
      "outputs": []
    },
    {
      "cell_type": "markdown",
      "metadata": {
        "id": "j7tORmCjZ0xk",
        "colab_type": "text"
      },
      "source": [
        "## 정규 표현식 활용"
      ]
    },
    {
      "cell_type": "code",
      "metadata": {
        "id": "36tutee1Z5AJ",
        "colab_type": "code",
        "colab": {}
      },
      "source": [
        "import re"
      ],
      "execution_count": 0,
      "outputs": []
    },
    {
      "cell_type": "code",
      "metadata": {
        "id": "ywtJ2ZU_Z8Nm",
        "colab_type": "code",
        "colab": {}
      },
      "source": [
        "pattern = re.compile('aa*bbbbb(cc)*(d| )')"
      ],
      "execution_count": 0,
      "outputs": []
    },
    {
      "cell_type": "code",
      "metadata": {
        "id": "ifGKwco2aE2r",
        "colab_type": "code",
        "colab": {}
      },
      "source": [
        "result = pattern.match(\"3 aabbbbbccd \")\n",
        "print(result)"
      ],
      "execution_count": 0,
      "outputs": []
    },
    {
      "cell_type": "code",
      "metadata": {
        "id": "XRv5Ozjmafq8",
        "colab_type": "code",
        "colab": {}
      },
      "source": [
        "result = pattern.search(\"3 aabbbbbccd \")\n",
        "print(result)"
      ],
      "execution_count": 0,
      "outputs": []
    },
    {
      "cell_type": "code",
      "metadata": {
        "id": "S2v5uB7sa3qM",
        "colab_type": "code",
        "colab": {}
      },
      "source": [
        "email_pattern = re.compile('[A-Za-z0-9\\._+]+@[A-Za-z]+\\.(com|org|edu|net)')"
      ],
      "execution_count": 0,
      "outputs": []
    },
    {
      "cell_type": "code",
      "metadata": {
        "id": "Xx3NZnYfbZf1",
        "colab_type": "code",
        "colab": {}
      },
      "source": [
        "result = email_pattern.match('paulkimds@gmail.com')\n",
        "print(result)"
      ],
      "execution_count": 0,
      "outputs": []
    }
  ]
}