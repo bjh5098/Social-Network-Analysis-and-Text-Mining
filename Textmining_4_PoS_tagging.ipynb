{
  "nbformat": 4,
  "nbformat_minor": 0,
  "metadata": {
    "colab": {
      "name": "Textmining_4 - PoS tagging.ipynb",
      "provenance": [],
      "private_outputs": true,
      "collapsed_sections": [
        "UafWFZD7RszV",
        "wRKs31CJg4kU",
        "09bjEjQvlV7U",
        "lhFUXtJz0qr6",
        "6GP6bahEkom0"
      ],
      "include_colab_link": true
    },
    "kernelspec": {
      "name": "python3",
      "display_name": "Python 3"
    }
  },
  "cells": [
    {
      "cell_type": "markdown",
      "metadata": {
        "id": "view-in-github",
        "colab_type": "text"
      },
      "source": [
        "<a href=\"https://colab.research.google.com/github/bjh5098/Social-Network-Analysis-and-Text-Mining/blob/master/Textmining_4_PoS_tagging.ipynb\" target=\"_parent\"><img src=\"https://colab.research.google.com/assets/colab-badge.svg\" alt=\"Open In Colab\"/></a>"
      ]
    },
    {
      "cell_type": "markdown",
      "metadata": {
        "id": "UafWFZD7RszV",
        "colab_type": "text"
      },
      "source": [
        "#Spacy 품사 태깅(PoS tagging)"
      ]
    },
    {
      "cell_type": "code",
      "metadata": {
        "id": "FKv-PF7cRlj7",
        "colab_type": "code",
        "colab": {}
      },
      "source": [
        "import spacy"
      ],
      "execution_count": 0,
      "outputs": []
    },
    {
      "cell_type": "code",
      "metadata": {
        "id": "Ca2AZwMERy77",
        "colab_type": "code",
        "colab": {}
      },
      "source": [
        "nlp = spacy.load('en')"
      ],
      "execution_count": 0,
      "outputs": []
    },
    {
      "cell_type": "code",
      "metadata": {
        "id": "Wj0tseIlR40r",
        "colab_type": "code",
        "colab": {}
      },
      "source": [
        "sent_0 = nlp(u'Mathieu and I went to the park.')\n",
        "sent_1 = nlp(u'If Clement was asked to take out the garbage, he would refuse.')\n",
        "sent_2 = nlp(u'Baptiste was in charge of the refuse treatment center.')\n",
        "sent_3 = nlp(u'Marie took out her rather suspicious and fishy cat to fish for fish.')"
      ],
      "execution_count": 0,
      "outputs": []
    },
    {
      "cell_type": "code",
      "metadata": {
        "id": "qZd9Y07ySlfD",
        "colab_type": "code",
        "colab": {}
      },
      "source": [
        "for token in sent_0:\n",
        "    print(token.text, token.pos_, token.tag_)\n",
        "\n",
        "for token in sent_1:\n",
        "    print(token.text, token.pos_, token.tag_)\n",
        "\n",
        "for token in sent_2:\n",
        "    print(token.text, token.pos_, token.tag_)\n",
        "\n",
        "for token in sent_3:\n",
        "    print(token.text, token.pos_, token.tag_)"
      ],
      "execution_count": 0,
      "outputs": []
    },
    {
      "cell_type": "code",
      "metadata": {
        "id": "Mblk7JngSo3c",
        "colab_type": "code",
        "colab": {}
      },
      "source": [
        "sent_list = [sent_0, sent_1, sent_2, sent_3]"
      ],
      "execution_count": 0,
      "outputs": []
    },
    {
      "cell_type": "code",
      "metadata": {
        "id": "zGDx2VLoSu1d",
        "colab_type": "code",
        "colab": {}
      },
      "source": [
        "for i, sent in enumerate(sent_list):\n",
        "    print('sent{}:---------------------------------------------------'.format(i))    \n",
        "    for token in sent:\n",
        "        print(token.text, token.pos_, token.tag_)    "
      ],
      "execution_count": 0,
      "outputs": []
    },
    {
      "cell_type": "markdown",
      "metadata": {
        "id": "MxUgdz4nUfg0",
        "colab_type": "text"
      },
      "source": [
        "*   Refuse : verb 동사\n",
        "*   Clement: 치우기(take out)를 거부(refuse)하는 대상(object)"
      ]
    },
    {
      "cell_type": "code",
      "metadata": {
        "id": "g48SHzNpUDi1",
        "colab_type": "code",
        "colab": {}
      },
      "source": [
        "for token in sent_1:\n",
        "    print(token.text, token.pos_, token.tag_)"
      ],
      "execution_count": 0,
      "outputs": []
    },
    {
      "cell_type": "code",
      "metadata": {
        "id": "JGs8waLGUHz7",
        "colab_type": "code",
        "colab": {}
      },
      "source": [
        "from spacy import displacy\n",
        "displacy.render(sent_1, style='dep', jupyter=True)"
      ],
      "execution_count": 0,
      "outputs": []
    },
    {
      "cell_type": "markdown",
      "metadata": {
        "id": "PyTxi-4vVBgZ",
        "colab_type": "text"
      },
      "source": [
        "*  fishy adj 형용사\n",
        "*  to fish verb 동사\n",
        "*  for fish noun 명사"
      ]
    },
    {
      "cell_type": "code",
      "metadata": {
        "id": "Lg6DKvQUYums",
        "colab_type": "code",
        "colab": {}
      },
      "source": [
        "for token in sent_3:\n",
        "    print(token.text, token.pos_, token.tag_)"
      ],
      "execution_count": 0,
      "outputs": []
    },
    {
      "cell_type": "code",
      "metadata": {
        "id": "02EeykPvYvUN",
        "colab_type": "code",
        "colab": {}
      },
      "source": [
        "from spacy import displacy\n",
        "displacy.render(sent_3, style='dep', jupyter=True)"
      ],
      "execution_count": 0,
      "outputs": []
    },
    {
      "cell_type": "markdown",
      "metadata": {
        "id": "_pWD7iPQYxcc",
        "colab_type": "text"
      },
      "source": [
        "## Spacy 품사 태거 학습"
      ]
    },
    {
      "cell_type": "code",
      "metadata": {
        "id": "eJg_e388ayLE",
        "colab_type": "code",
        "colab": {}
      },
      "source": [
        "import random\n",
        "import spacy"
      ],
      "execution_count": 0,
      "outputs": []
    },
    {
      "cell_type": "markdown",
      "metadata": {
        "id": "cExZgwigfUwk",
        "colab_type": "text"
      },
      "source": [
        "***Tag 정의***"
      ]
    },
    {
      "cell_type": "code",
      "metadata": {
        "id": "0B8pbSzafTJf",
        "colab_type": "code",
        "colab": {}
      },
      "source": [
        "TAG_MAP = {\n",
        "    'N': {'pos': 'NOUN'},\n",
        "    'V': {'pos': 'VERB'},\n",
        "    'J': {'pos': 'ADJ'}\n",
        "}"
      ],
      "execution_count": 0,
      "outputs": []
    },
    {
      "cell_type": "markdown",
      "metadata": {
        "id": "CegvHJdofcMN",
        "colab_type": "text"
      },
      "source": [
        "***훈련 데이터***"
      ]
    },
    {
      "cell_type": "code",
      "metadata": {
        "id": "-ogW67dTfinc",
        "colab_type": "code",
        "colab": {}
      },
      "source": [
        "TRAIN_DATA = [\n",
        "    (\"I like green eggs\", {'tags': ['N', 'V', 'J', 'N']}),\n",
        "    (\"Eat blue ham\", {'tags': ['V', 'J', 'N']})]"
      ],
      "execution_count": 0,
      "outputs": []
    },
    {
      "cell_type": "markdown",
      "metadata": {
        "id": "XXdjiJ2HftOl",
        "colab_type": "text"
      },
      "source": [
        "***Blank 언어 모델 정의, 품사태거 추가***"
      ]
    },
    {
      "cell_type": "code",
      "metadata": {
        "id": "IeiEhZSSf5k0",
        "colab_type": "code",
        "colab": {}
      },
      "source": [
        "nlp = spacy.blank('en')\n",
        "tagger = nlp.create_pipe('tagger')"
      ],
      "execution_count": 0,
      "outputs": []
    },
    {
      "cell_type": "markdown",
      "metadata": {
        "id": "wh6uHySHgJ-W",
        "colab_type": "text"
      },
      "source": [
        "***학습용 라벨을 품사 태거에 추가***"
      ]
    },
    {
      "cell_type": "code",
      "metadata": {
        "id": "CC3243-ef-8M",
        "colab_type": "code",
        "colab": {}
      },
      "source": [
        "for tag, values in TAG_MAP.items():\n",
        "    tagger.add_label(tag, values)\n",
        "nlp.add_pipe(tagger)"
      ],
      "execution_count": 0,
      "outputs": []
    },
    {
      "cell_type": "markdown",
      "metadata": {
        "id": "gDNmBnsLgPVm",
        "colab_type": "text"
      },
      "source": [
        "***품사 태거 학습***"
      ]
    },
    {
      "cell_type": "code",
      "metadata": {
        "id": "V8kteGMdgTkE",
        "colab_type": "code",
        "colab": {}
      },
      "source": [
        "optimizer = nlp.begin_training()\n",
        "\n",
        "for i in range(25):\n",
        "    random.shuffle(TRAIN_DATA)\n",
        "    losses = {}\n",
        "    for text, annotations in TRAIN_DATA:\n",
        "        nlp.update([text], [annotations], sgd=optimizer, losses=losses)\n",
        "    print(losses)"
      ],
      "execution_count": 0,
      "outputs": []
    },
    {
      "cell_type": "markdown",
      "metadata": {
        "id": "hExHUAk3gbQ8",
        "colab_type": "text"
      },
      "source": [
        "***학습한 품사 태거 테스트***"
      ]
    },
    {
      "cell_type": "code",
      "metadata": {
        "id": "nQfdchROgiqm",
        "colab_type": "code",
        "colab": {}
      },
      "source": [
        "test_text = \"I like blue eggs\"\n",
        "doc = nlp(test_text)\n",
        "print('Tags', [(t.text, t.tag_, t.pos_) for t in doc])"
      ],
      "execution_count": 0,
      "outputs": []
    },
    {
      "cell_type": "markdown",
      "metadata": {
        "id": "VRxxuTasglH1",
        "colab_type": "text"
      },
      "source": [
        "***학습한 품사 태거 저장***"
      ]
    },
    {
      "cell_type": "code",
      "metadata": {
        "id": "v4lmK52fgpAn",
        "colab_type": "code",
        "colab": {}
      },
      "source": [
        "nlp.to_disk('/content')"
      ],
      "execution_count": 0,
      "outputs": []
    },
    {
      "cell_type": "markdown",
      "metadata": {
        "id": "LMp4LXzVgviU",
        "colab_type": "text"
      },
      "source": [
        "***학습한 품사 태거 불러오기 및 사용***"
      ]
    },
    {
      "cell_type": "code",
      "metadata": {
        "id": "BePuosnvg2EM",
        "colab_type": "code",
        "colab": {}
      },
      "source": [
        "nlp2 =spacy.load('/content')\n",
        "doc2 = nlp2(test_text)\n",
        "print('Tags', [(t.text, t.tag_, t.pos_) for t in doc2])"
      ],
      "execution_count": 0,
      "outputs": []
    },
    {
      "cell_type": "markdown",
      "metadata": {
        "id": "wRKs31CJg4kU",
        "colab_type": "text"
      },
      "source": [
        "#nltk 품사 태깅(PoS tagging)"
      ]
    },
    {
      "cell_type": "code",
      "metadata": {
        "id": "_RKCcvwlg-rc",
        "colab_type": "code",
        "colab": {}
      },
      "source": [
        "from nltk import sent_tokenize, word_tokenize"
      ],
      "execution_count": 0,
      "outputs": []
    },
    {
      "cell_type": "markdown",
      "metadata": {
        "id": "52ov97Bmi829",
        "colab_type": "text"
      },
      "source": [
        "***corpus 다운로드***"
      ]
    },
    {
      "cell_type": "code",
      "metadata": {
        "id": "o58ek3zShLa8",
        "colab_type": "code",
        "colab": {}
      },
      "source": [
        "nltk.download('punkt')"
      ],
      "execution_count": 0,
      "outputs": []
    },
    {
      "cell_type": "code",
      "metadata": {
        "id": "8O63R9sCibwN",
        "colab_type": "code",
        "colab": {}
      },
      "source": [
        "nltk.download('averaged_perceptron_tagger')"
      ],
      "execution_count": 0,
      "outputs": []
    },
    {
      "cell_type": "markdown",
      "metadata": {
        "id": "TVQjOCTljFSK",
        "colab_type": "text"
      },
      "source": [
        "***문장 토큰화***"
      ]
    },
    {
      "cell_type": "code",
      "metadata": {
        "id": "ulVOD6bXhI4c",
        "colab_type": "code",
        "colab": {}
      },
      "source": [
        "text = word_tokenize(\"And now for something completely different\")"
      ],
      "execution_count": 0,
      "outputs": []
    },
    {
      "cell_type": "code",
      "metadata": {
        "id": "zp2My3JFhP9E",
        "colab_type": "code",
        "colab": {}
      },
      "source": [
        "print(text)"
      ],
      "execution_count": 0,
      "outputs": []
    },
    {
      "cell_type": "markdown",
      "metadata": {
        "id": "2qSswgfXjJp5",
        "colab_type": "text"
      },
      "source": [
        "***PoS tagging***"
      ]
    },
    {
      "cell_type": "code",
      "metadata": {
        "id": "3QdJq-fbiyeF",
        "colab_type": "code",
        "colab": {}
      },
      "source": [
        "nltk.pos_tag(text)"
      ],
      "execution_count": 0,
      "outputs": []
    },
    {
      "cell_type": "markdown",
      "metadata": {
        "id": "-Sb0B5FijixN",
        "colab_type": "text"
      },
      "source": [
        "***nltk 품사 태깅 참조: - https://www.nltk.org/book/ch05.html***"
      ]
    },
    {
      "cell_type": "markdown",
      "metadata": {
        "id": "X2qJr4BekCrM",
        "colab_type": "text"
      },
      "source": [
        "#Spacy 품사 태그 활용 예"
      ]
    },
    {
      "cell_type": "markdown",
      "metadata": {
        "id": "09bjEjQvlV7U",
        "colab_type": "text"
      },
      "source": [
        "##문장 특정 품사(동사, VERB)만 찾아서 대문자로 변환하기"
      ]
    },
    {
      "cell_type": "code",
      "metadata": {
        "id": "h-oiKVFMkGds",
        "colab_type": "code",
        "colab": {}
      },
      "source": [
        "def make_verb_upper(text, pos):\n",
        "    if pos == 'VERB':\n",
        "        return text.upper()\n",
        "    else:\n",
        "        return text"
      ],
      "execution_count": 0,
      "outputs": []
    },
    {
      "cell_type": "code",
      "metadata": {
        "id": "0lEImcRvkRrT",
        "colab_type": "code",
        "colab": {}
      },
      "source": [
        "doc = nlp('Tom ran swiftly and walked slowly')"
      ],
      "execution_count": 0,
      "outputs": []
    },
    {
      "cell_type": "code",
      "metadata": {
        "id": "ovGOtA6CkZ1s",
        "colab_type": "code",
        "colab": {}
      },
      "source": [
        "text = ''.join(make_verb_upper(w.text_with_ws, w.pos_) for w in doc)"
      ],
      "execution_count": 0,
      "outputs": []
    },
    {
      "cell_type": "code",
      "metadata": {
        "id": "rzwMKserknm0",
        "colab_type": "code",
        "colab": {}
      },
      "source": [
        "print(text)"
      ],
      "execution_count": 0,
      "outputs": []
    },
    {
      "cell_type": "markdown",
      "metadata": {
        "id": "lhFUXtJz0qr6",
        "colab_type": "text"
      },
      "source": [
        "##문장 내 특정 품사(명사, NOUN) 추출하기"
      ]
    },
    {
      "cell_type": "code",
      "metadata": {
        "id": "9IFYv_Dq0yB-",
        "colab_type": "code",
        "colab": {}
      },
      "source": [
        "def extract_noun(text, pos):        \n",
        "    if pos == 'NOUN':\n",
        "        return text"
      ],
      "execution_count": 0,
      "outputs": []
    },
    {
      "cell_type": "code",
      "metadata": {
        "id": "ODaBhUE31AzH",
        "colab_type": "code",
        "colab": {}
      },
      "source": [
        "doc = nlp('Marie took out her rather suspicious and fishy cat to fish for fish.')"
      ],
      "execution_count": 0,
      "outputs": []
    },
    {
      "cell_type": "code",
      "metadata": {
        "id": "lMlsncNh2vX_",
        "colab_type": "code",
        "colab": {}
      },
      "source": [
        "for token in doc:\n",
        "    print(token.text, token.pos_, token.tag_)"
      ],
      "execution_count": 0,
      "outputs": []
    },
    {
      "cell_type": "code",
      "metadata": {
        "id": "gvdZ0LJX0xLG",
        "colab_type": "code",
        "colab": {}
      },
      "source": [
        "noun_list = []\n",
        "\n",
        "for w in doc:\n",
        "    temp = extract_noun(w.text_with_ws, w.pos_)\n",
        "    if temp != None:\n",
        "        noun_list.append(temp.strip())"
      ],
      "execution_count": 0,
      "outputs": []
    },
    {
      "cell_type": "code",
      "metadata": {
        "id": "46t9z0ok2k0f",
        "colab_type": "code",
        "colab": {}
      },
      "source": [
        "noun_list"
      ],
      "execution_count": 0,
      "outputs": []
    },
    {
      "cell_type": "markdown",
      "metadata": {
        "id": "6GP6bahEkom0",
        "colab_type": "text"
      },
      "source": [
        "##특정 품사의 발생 횟수 확인 하기"
      ]
    },
    {
      "cell_type": "code",
      "metadata": {
        "id": "cKHHWAQCllU1",
        "colab_type": "code",
        "colab": {}
      },
      "source": [
        "import pandas as pd\n"
      ],
      "execution_count": 0,
      "outputs": []
    },
    {
      "cell_type": "code",
      "metadata": {
        "id": "GJaboUG6_iXI",
        "colab_type": "code",
        "colab": {}
      },
      "source": [
        "harry_potter = open(\"HP1.txt\").read()"
      ],
      "execution_count": 0,
      "outputs": []
    },
    {
      "cell_type": "code",
      "metadata": {
        "id": "me-bAsso_okn",
        "colab_type": "code",
        "colab": {}
      },
      "source": [
        "print(harry_potter)"
      ],
      "execution_count": 0,
      "outputs": []
    },
    {
      "cell_type": "code",
      "metadata": {
        "id": "R0yri3BH_6EX",
        "colab_type": "code",
        "colab": {}
      },
      "source": [
        "import spacy"
      ],
      "execution_count": 0,
      "outputs": []
    },
    {
      "cell_type": "code",
      "metadata": {
        "id": "rOxYBWCsAAi_",
        "colab_type": "code",
        "colab": {}
      },
      "source": [
        "nlp = spacy.load('en')\n",
        "hp = nlp(harry_potter)"
      ],
      "execution_count": 0,
      "outputs": []
    },
    {
      "cell_type": "markdown",
      "metadata": {
        "id": "oT7mO8ItAOO_",
        "colab_type": "text"
      },
      "source": [
        "***문장별 단어 수 확인***"
      ]
    },
    {
      "cell_type": "code",
      "metadata": {
        "id": "uxgPA4fnAyzP",
        "colab_type": "code",
        "colab": {}
      },
      "source": [
        "hpSents[0]"
      ],
      "execution_count": 0,
      "outputs": []
    },
    {
      "cell_type": "code",
      "metadata": {
        "id": "cVsfxNWTA16Y",
        "colab_type": "code",
        "colab": {}
      },
      "source": [
        "len(hpSents[0])"
      ],
      "execution_count": 0,
      "outputs": []
    },
    {
      "cell_type": "code",
      "metadata": {
        "id": "dZ036k3KAcFH",
        "colab_type": "code",
        "colab": {}
      },
      "source": [
        "hpSents = list(hp.sents)\n",
        "hpSentenceLengths = [len(sent) for sent in hpSents]"
      ],
      "execution_count": 0,
      "outputs": []
    },
    {
      "cell_type": "code",
      "metadata": {
        "id": "pVyKF9WcAnIv",
        "colab_type": "code",
        "colab": {}
      },
      "source": [
        "hpSentenceLengths"
      ],
      "execution_count": 0,
      "outputs": []
    },
    {
      "cell_type": "markdown",
      "metadata": {
        "id": "lADINEcAB3Z4",
        "colab_type": "text"
      },
      "source": [
        "***가장 긴 문장 찾기***"
      ]
    },
    {
      "cell_type": "code",
      "metadata": {
        "id": "LZGjRLX4Aofg",
        "colab_type": "code",
        "colab": {}
      },
      "source": [
        "[sent for sent in hpSents if len(sent) == max(hpSentenceLengths)]"
      ],
      "execution_count": 0,
      "outputs": []
    },
    {
      "cell_type": "code",
      "metadata": {
        "id": "ZHjzPpnHBbV_",
        "colab_type": "code",
        "colab": {}
      },
      "source": [
        "hpPOS = pd.Series(hp.count_by(spacy.attrs.POS))/len(hp)"
      ],
      "execution_count": 0,
      "outputs": []
    },
    {
      "cell_type": "code",
      "metadata": {
        "id": "0KNIhCWFBiPX",
        "colab_type": "code",
        "colab": {}
      },
      "source": [
        "print(hpPOS)"
      ],
      "execution_count": 0,
      "outputs": []
    },
    {
      "cell_type": "code",
      "metadata": {
        "id": "iqY3-oF-Eh0o",
        "colab_type": "code",
        "colab": {}
      },
      "source": [
        "tagDict = {w.pos: w.pos_ for w in hp}"
      ],
      "execution_count": 0,
      "outputs": []
    },
    {
      "cell_type": "code",
      "metadata": {
        "id": "GvfepnKpEoXB",
        "colab_type": "code",
        "colab": {}
      },
      "source": [
        "print(tagDict)"
      ],
      "execution_count": 0,
      "outputs": []
    },
    {
      "cell_type": "code",
      "metadata": {
        "id": "cclWDRbeCK-x",
        "colab_type": "code",
        "colab": {}
      },
      "source": [
        "df = pd.DataFrame([hpPOS], index=['Harry Potter'])"
      ],
      "execution_count": 0,
      "outputs": []
    },
    {
      "cell_type": "code",
      "metadata": {
        "id": "WL1sSElFDuH4",
        "colab_type": "code",
        "colab": {}
      },
      "source": [
        "df.columns = [tagDict[column] for column in df.columns]"
      ],
      "execution_count": 0,
      "outputs": []
    },
    {
      "cell_type": "code",
      "metadata": {
        "id": "44Unctt4D87P",
        "colab_type": "code",
        "colab": {}
      },
      "source": [
        "print(df)"
      ],
      "execution_count": 0,
      "outputs": []
    },
    {
      "cell_type": "code",
      "metadata": {
        "id": "4xcFTGnQEy-3",
        "colab_type": "code",
        "colab": {}
      },
      "source": [
        "df.T.plot(kind='bar')"
      ],
      "execution_count": 0,
      "outputs": []
    },
    {
      "cell_type": "code",
      "metadata": {
        "id": "K97I-pjhODIA",
        "colab_type": "code",
        "colab": {}
      },
      "source": [
        "fig_size = plt.rcParams[\"figure.figsize\"]\n",
        "fig_size = [12, 8]\n",
        "# fig_size[0] = 8\n",
        "# fig_size[1] = 8\n",
        "plt.rcParams[\"figure.figsize\"] = fig_size"
      ],
      "execution_count": 0,
      "outputs": []
    },
    {
      "cell_type": "code",
      "metadata": {
        "id": "vrrnP91zOYER",
        "colab_type": "code",
        "colab": {}
      },
      "source": [
        "df.T.plot(kind='bar')"
      ],
      "execution_count": 0,
      "outputs": []
    },
    {
      "cell_type": "markdown",
      "metadata": {
        "id": "Q_ApRsMOOZ-4",
        "colab_type": "text"
      },
      "source": [
        "***품사별 빈도 출력***"
      ]
    },
    {
      "cell_type": "code",
      "metadata": {
        "id": "vOOYbslwOnVa",
        "colab_type": "code",
        "colab": {}
      },
      "source": [
        "hpPRON = [w for w in hp if w.pos_=='PRON']"
      ],
      "execution_count": 0,
      "outputs": []
    },
    {
      "cell_type": "code",
      "metadata": {
        "id": "6RncsjqfO-e3",
        "colab_type": "code",
        "colab": {}
      },
      "source": [
        "from collections import Counter"
      ],
      "execution_count": 0,
      "outputs": []
    },
    {
      "cell_type": "code",
      "metadata": {
        "id": "RYhXdUoOOu0o",
        "colab_type": "code",
        "colab": {}
      },
      "source": [
        "Counter([w.string.strip() for w in hpPRON]).most_common(10)"
      ],
      "execution_count": 0,
      "outputs": []
    }
  ]
}