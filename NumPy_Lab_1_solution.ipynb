{
  "nbformat": 4,
  "nbformat_minor": 0,
  "metadata": {
    "colab": {
      "name": "NumPy Lab-1 solution.ipynb",
      "version": "0.3.2",
      "provenance": [],
      "private_outputs": true,
      "collapsed_sections": [],
      "include_colab_link": true
    },
    "kernelspec": {
      "name": "python3",
      "display_name": "Python 3"
    }
  },
  "cells": [
    {
      "cell_type": "markdown",
      "metadata": {
        "id": "view-in-github",
        "colab_type": "text"
      },
      "source": [
        "<a href=\"https://colab.research.google.com/github/bjh5098/Social-Network-Analysis-and-Text-Mining/blob/master/NumPy_Lab_1_solution.ipynb\" target=\"_parent\"><img src=\"https://colab.research.google.com/assets/colab-badge.svg\" alt=\"Open In Colab\"/></a>"
      ]
    },
    {
      "cell_type": "code",
      "metadata": {
        "id": "H3LgTFbi1bR1",
        "colab_type": "code",
        "colab": {}
      },
      "source": [
        "import numpy as np"
      ],
      "execution_count": 0,
      "outputs": []
    },
    {
      "cell_type": "code",
      "metadata": {
        "id": "2SFEoSRCCm7y",
        "colab_type": "code",
        "colab": {}
      },
      "source": [
        "np.zeros(10, dtype=int)"
      ],
      "execution_count": 0,
      "outputs": []
    },
    {
      "cell_type": "code",
      "metadata": {
        "id": "iQ6vyk7o1rsh",
        "colab_type": "code",
        "colab": {}
      },
      "source": [
        "np.ones((3, 5), dtype=float)"
      ],
      "execution_count": 0,
      "outputs": []
    },
    {
      "cell_type": "code",
      "metadata": {
        "id": "xkA2EsE613OF",
        "colab_type": "code",
        "colab": {}
      },
      "source": [
        "np.random.randint(10, size=6)"
      ],
      "execution_count": 0,
      "outputs": []
    },
    {
      "cell_type": "code",
      "metadata": {
        "id": "YsrK-jOs4thN",
        "colab_type": "code",
        "colab": {}
      },
      "source": [
        "np.random.randint(10, size=(3,4))"
      ],
      "execution_count": 0,
      "outputs": []
    },
    {
      "cell_type": "code",
      "metadata": {
        "id": "oZ7_C2gO6lbe",
        "colab_type": "code",
        "colab": {}
      },
      "source": [
        "arra1= np.random.randint(10, size=6)\n",
        "arra1"
      ],
      "execution_count": 0,
      "outputs": []
    },
    {
      "cell_type": "code",
      "metadata": {
        "id": "vLKgO41G6mXu",
        "colab_type": "code",
        "colab": {}
      },
      "source": [
        "arra2 = np.random.randint(10, size=(3,4))\n",
        "arra2"
      ],
      "execution_count": 0,
      "outputs": []
    },
    {
      "cell_type": "code",
      "metadata": {
        "id": "ZzXPWTGD4wj1",
        "colab_type": "code",
        "colab": {}
      },
      "source": [
        "arra3 =np.random.randint(10, size=(3,3,4))\n",
        "arra3"
      ],
      "execution_count": 0,
      "outputs": []
    },
    {
      "cell_type": "code",
      "metadata": {
        "id": "WQm7MBRf60GH",
        "colab_type": "code",
        "colab": {}
      },
      "source": [
        "arra1[1::2]"
      ],
      "execution_count": 0,
      "outputs": []
    },
    {
      "cell_type": "code",
      "metadata": {
        "id": "rHvot2uh8B8-",
        "colab_type": "code",
        "colab": {}
      },
      "source": [
        "arra2[:4, ::2]"
      ],
      "execution_count": 0,
      "outputs": []
    },
    {
      "cell_type": "code",
      "metadata": {
        "id": "Z10nOHJf6zI9",
        "colab_type": "code",
        "colab": {}
      },
      "source": [
        "arra2[::-1,::-1]"
      ],
      "execution_count": 0,
      "outputs": []
    },
    {
      "cell_type": "code",
      "metadata": {
        "id": "b0X_wziQD3pH",
        "colab_type": "code",
        "colab": {}
      },
      "source": [
        "arra2"
      ],
      "execution_count": 0,
      "outputs": []
    },
    {
      "cell_type": "code",
      "metadata": {
        "id": "raVno0fK7Iiu",
        "colab_type": "code",
        "colab": {}
      },
      "source": [
        "arra3[0, :, :]"
      ],
      "execution_count": 0,
      "outputs": []
    },
    {
      "cell_type": "code",
      "metadata": {
        "id": "Jeq9AU5a7C0d",
        "colab_type": "code",
        "colab": {}
      },
      "source": [
        "np.maximum(arra2, arra3[0])"
      ],
      "execution_count": 0,
      "outputs": []
    },
    {
      "cell_type": "code",
      "metadata": {
        "id": "S1zMg-mk45CF",
        "colab_type": "code",
        "colab": {}
      },
      "source": [
        "\"arra3 ndim:{} \".format(arra3.ndim)"
      ],
      "execution_count": 0,
      "outputs": []
    },
    {
      "cell_type": "code",
      "metadata": {
        "id": "UphLF-VV5PAV",
        "colab_type": "code",
        "colab": {}
      },
      "source": [
        "\"arra3 shape:{} \".format(arra3.shape)"
      ],
      "execution_count": 0,
      "outputs": []
    },
    {
      "cell_type": "code",
      "metadata": {
        "id": "L5cdalTg5GDt",
        "colab_type": "code",
        "colab": {}
      },
      "source": [
        "\"arra3 size:{} \".format(arra3.size)"
      ],
      "execution_count": 0,
      "outputs": []
    },
    {
      "cell_type": "code",
      "metadata": {
        "id": "zb9VKqhY-lli",
        "colab_type": "code",
        "colab": {}
      },
      "source": [
        "\"arra3 data type:{}\".format(arra3.dtype)"
      ],
      "execution_count": 0,
      "outputs": []
    }
  ]
}