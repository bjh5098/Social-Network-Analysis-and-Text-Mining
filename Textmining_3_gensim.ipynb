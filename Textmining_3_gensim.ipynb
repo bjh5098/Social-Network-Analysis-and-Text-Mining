{
  "nbformat": 4,
  "nbformat_minor": 0,
  "metadata": {
    "colab": {
      "name": "Textmining_3 - gensim.ipynb",
      "provenance": [],
      "private_outputs": true,
      "collapsed_sections": [
        "2x9r0pgKcNQM",
        "uXeWCDAFS45T",
        "Q42_cBYa1jGT",
        "b1L6fPpV3ziM",
        "YGF8gOn26R-z"
      ],
      "toc_visible": true,
      "include_colab_link": true
    },
    "kernelspec": {
      "name": "python3",
      "display_name": "Python 3"
    }
  },
  "cells": [
    {
      "cell_type": "markdown",
      "metadata": {
        "id": "view-in-github",
        "colab_type": "text"
      },
      "source": [
        "<a href=\"https://colab.research.google.com/github/bjh5098/Social-Network-Analysis-and-Text-Mining/blob/master/Textmining_3_gensim.ipynb\" target=\"_parent\"><img src=\"https://colab.research.google.com/assets/colab-badge.svg\" alt=\"Open In Colab\"/></a>"
      ]
    },
    {
      "cell_type": "markdown",
      "metadata": {
        "id": "KnlTPtMpb2d8",
        "colab_type": "text"
      },
      "source": [
        "# Gensim 활용 텍스트 벡터화, 변환 및 N-그램"
      ]
    },
    {
      "cell_type": "markdown",
      "metadata": {
        "id": "2ze_LE7WSt2N",
        "colab_type": "text"
      },
      "source": [
        "*   pip install --upgrade gensim\n",
        "*   conda install -c conda-forge gensim"
      ]
    },
    {
      "cell_type": "markdown",
      "metadata": {
        "id": "2x9r0pgKcNQM",
        "colab_type": "text"
      },
      "source": [
        "## Text preprocessing"
      ]
    },
    {
      "cell_type": "code",
      "metadata": {
        "id": "MbX4s6H9YEg0",
        "colab_type": "code",
        "colab": {}
      },
      "source": [
        "from gensim import corpora"
      ],
      "execution_count": 0,
      "outputs": []
    },
    {
      "cell_type": "code",
      "metadata": {
        "id": "YCpV3N1zripZ",
        "colab_type": "code",
        "colab": {}
      },
      "source": [
        "documents = [u\"Football club Arsenal defeat local rivals this weekend.\", u\"Weekend football frenzy takes over London.\", u\"Bank open for take over bids after losing millions.\", u\"London football clubs bid to move to Wembley stadium.\", u\"Arsenal bid 50 million pounds for striker Kane.\", u\"Financial troubles result in loss of millions for bank.\", u\"Western bank files for bankruptcy after financial losses.\", u\"London football club is taken over by oil millionaire from Russia.\", u\"Banking on finances not working for New York.\"]"
      ],
      "execution_count": 0,
      "outputs": []
    },
    {
      "cell_type": "code",
      "metadata": {
        "id": "F1IKjtOkrj2-",
        "colab_type": "code",
        "colab": {}
      },
      "source": [
        "documents"
      ],
      "execution_count": 0,
      "outputs": []
    },
    {
      "cell_type": "code",
      "metadata": {
        "id": "xWQVXWtNrnL2",
        "colab_type": "code",
        "colab": {}
      },
      "source": [
        "import spacy\n",
        "nlp = spacy.load(\"en\")"
      ],
      "execution_count": 0,
      "outputs": []
    },
    {
      "cell_type": "code",
      "metadata": {
        "id": "bNCa19XHro-u",
        "colab_type": "code",
        "colab": {}
      },
      "source": [
        "texts = []\n",
        "for document in documents:\n",
        "    text = []\n",
        "    doc = nlp(document)\n",
        "    for w in doc:\n",
        "        if not w.is_stop and not w.is_punct and not w.like_num:\n",
        "            text.append(w.lemma_)\n",
        "    texts.append(text)"
      ],
      "execution_count": 0,
      "outputs": []
    },
    {
      "cell_type": "code",
      "metadata": {
        "id": "GbMrksNnrzKv",
        "colab_type": "code",
        "colab": {}
      },
      "source": [
        "print(texts)"
      ],
      "execution_count": 0,
      "outputs": []
    },
    {
      "cell_type": "markdown",
      "metadata": {
        "id": "uXeWCDAFS45T",
        "colab_type": "text"
      },
      "source": [
        "##Bag-of-Words (BoW)"
      ]
    },
    {
      "cell_type": "code",
      "metadata": {
        "id": "ep6-mjE1r3Om",
        "colab_type": "code",
        "colab": {}
      },
      "source": [
        "from gensim import corpora"
      ],
      "execution_count": 0,
      "outputs": []
    },
    {
      "cell_type": "code",
      "metadata": {
        "id": "7l4H31gxYHb0",
        "colab_type": "code",
        "colab": {}
      },
      "source": [
        "dictionary = corpora.Dictionary(texts)"
      ],
      "execution_count": 0,
      "outputs": []
    },
    {
      "cell_type": "code",
      "metadata": {
        "id": "gHq0iRB4ucbt",
        "colab_type": "code",
        "colab": {}
      },
      "source": [
        "print(dictionary[0])"
      ],
      "execution_count": 0,
      "outputs": []
    },
    {
      "cell_type": "code",
      "metadata": {
        "id": "YI7E2Bkrueku",
        "colab_type": "code",
        "colab": {}
      },
      "source": [
        "print(dictionary.token2id)"
      ],
      "execution_count": 0,
      "outputs": []
    },
    {
      "cell_type": "code",
      "metadata": {
        "id": "zmC3zxGKu2NI",
        "colab_type": "code",
        "colab": {}
      },
      "source": [
        "corpus = [dictionary.doc2bow(text) for text in texts]"
      ],
      "execution_count": 0,
      "outputs": []
    },
    {
      "cell_type": "code",
      "metadata": {
        "id": "zemTNNHfvADx",
        "colab_type": "code",
        "colab": {}
      },
      "source": [
        "corpus"
      ],
      "execution_count": 0,
      "outputs": []
    },
    {
      "cell_type": "markdown",
      "metadata": {
        "id": "SIzVCk3m0voT",
        "colab_type": "text"
      },
      "source": [
        "***사전 저장하고 불러오기***"
      ]
    },
    {
      "cell_type": "code",
      "metadata": {
        "id": "zYOu68Z2yPD8",
        "colab_type": "code",
        "colab": {}
      },
      "source": [
        "dictionary.save_as_text('example.dict')"
      ],
      "execution_count": 0,
      "outputs": []
    },
    {
      "cell_type": "code",
      "metadata": {
        "id": "j9D5EhuwySB9",
        "colab_type": "code",
        "colab": {}
      },
      "source": [
        "dictionary =  corpora.Dictionary.load_from_text('example.dict')"
      ],
      "execution_count": 0,
      "outputs": []
    },
    {
      "cell_type": "code",
      "metadata": {
        "id": "VxJ01jQVzT-s",
        "colab_type": "code",
        "colab": {}
      },
      "source": [
        "print(dictionary.token2id)"
      ],
      "execution_count": 0,
      "outputs": []
    },
    {
      "cell_type": "markdown",
      "metadata": {
        "id": "he6MKhxg09gU",
        "colab_type": "text"
      },
      "source": [
        "***코퍼스(corpus) 저장하고 불러오기***"
      ]
    },
    {
      "cell_type": "code",
      "metadata": {
        "id": "VG3NgzSSvGUF",
        "colab_type": "code",
        "colab": {}
      },
      "source": [
        "corpora.MmCorpus.serialize('example.mm', corpus)"
      ],
      "execution_count": 0,
      "outputs": []
    },
    {
      "cell_type": "code",
      "metadata": {
        "id": "9rGzPX_uxY6G",
        "colab_type": "code",
        "colab": {}
      },
      "source": [
        "mm = corpora.MmCorpus('example.mm')"
      ],
      "execution_count": 0,
      "outputs": []
    },
    {
      "cell_type": "code",
      "metadata": {
        "id": "q75lND7_ywS8",
        "colab_type": "code",
        "colab": {}
      },
      "source": [
        "print(mm)"
      ],
      "execution_count": 0,
      "outputs": []
    },
    {
      "cell_type": "code",
      "metadata": {
        "id": "XdiMLPYTy1yN",
        "colab_type": "code",
        "colab": {}
      },
      "source": [
        "print(list(mm))"
      ],
      "execution_count": 0,
      "outputs": []
    },
    {
      "cell_type": "markdown",
      "metadata": {
        "id": "Q42_cBYa1jGT",
        "colab_type": "text"
      },
      "source": [
        "##Term Frequency - Inverse Document Frequency (TF-IDF)"
      ]
    },
    {
      "cell_type": "code",
      "metadata": {
        "id": "sWaEGr3L24Gm",
        "colab_type": "code",
        "colab": {}
      },
      "source": [
        "from gensim import models\n",
        "tfidf = models.TfidfModel(corpus)"
      ],
      "execution_count": 0,
      "outputs": []
    },
    {
      "cell_type": "code",
      "metadata": {
        "id": "8eNziAdg28zM",
        "colab_type": "code",
        "colab": {}
      },
      "source": [
        "for document in tfidf[corpus]:\n",
        "    print(document)"
      ],
      "execution_count": 0,
      "outputs": []
    },
    {
      "cell_type": "code",
      "metadata": {
        "id": "y0qQAdD03Sat",
        "colab_type": "code",
        "colab": {}
      },
      "source": [
        "list(tfidf[corpus])"
      ],
      "execution_count": 0,
      "outputs": []
    },
    {
      "cell_type": "code",
      "metadata": {
        "id": "gDRgbkY-24pE",
        "colab_type": "code",
        "colab": {}
      },
      "source": [
        "tfidf = models.TfidfModel(mm)\n",
        "for document in tfidf[mm]:\n",
        "    print(document)"
      ],
      "execution_count": 0,
      "outputs": []
    },
    {
      "cell_type": "markdown",
      "metadata": {
        "id": "b1L6fPpV3ziM",
        "colab_type": "text"
      },
      "source": [
        "## N-gram"
      ]
    },
    {
      "cell_type": "code",
      "metadata": {
        "id": "YDedw_N-3_Er",
        "colab_type": "code",
        "colab": {}
      },
      "source": [
        "from gensim import models"
      ],
      "execution_count": 0,
      "outputs": []
    },
    {
      "cell_type": "code",
      "metadata": {
        "id": "NNWSyBfhuWRQ",
        "colab_type": "code",
        "colab": {}
      },
      "source": [
        "bigram = models.Phrases(texts) \n",
        "texts = [bigram[line] for line in texts]"
      ],
      "execution_count": 0,
      "outputs": []
    },
    {
      "cell_type": "code",
      "metadata": {
        "id": "8RwBiHX14ULa",
        "colab_type": "code",
        "colab": {}
      },
      "source": [
        "texts"
      ],
      "execution_count": 0,
      "outputs": []
    },
    {
      "cell_type": "markdown",
      "metadata": {
        "id": "dEbr8sm56H2L",
        "colab_type": "text"
      },
      "source": [
        "***바이그램 단어 추가하기***"
      ]
    },
    {
      "cell_type": "code",
      "metadata": {
        "id": "u7Sx9_Xm4SVL",
        "colab_type": "code",
        "colab": {}
      },
      "source": [
        "dictionary = corpora.Dictionary(texts)"
      ],
      "execution_count": 0,
      "outputs": []
    },
    {
      "cell_type": "code",
      "metadata": {
        "id": "5Lg2NNln5YjT",
        "colab_type": "code",
        "colab": {}
      },
      "source": [
        "print(dictionary.token2id)"
      ],
      "execution_count": 0,
      "outputs": []
    },
    {
      "cell_type": "code",
      "metadata": {
        "id": "8gq70pbZ6Fmq",
        "colab_type": "code",
        "colab": {}
      },
      "source": [
        "corpus = [dictionary.doc2bow(text) for text in texts]"
      ],
      "execution_count": 0,
      "outputs": []
    },
    {
      "cell_type": "code",
      "metadata": {
        "id": "JIf_uDD_5VWF",
        "colab_type": "code",
        "colab": {}
      },
      "source": [
        "print(corpus)"
      ],
      "execution_count": 0,
      "outputs": []
    },
    {
      "cell_type": "markdown",
      "metadata": {
        "id": "YGF8gOn26R-z",
        "colab_type": "text"
      },
      "source": [
        "## 사전 용어집 필터"
      ]
    },
    {
      "cell_type": "code",
      "metadata": {
        "id": "PR75Bme75Bfm",
        "colab_type": "code",
        "colab": {}
      },
      "source": [
        "dictionary.filter_extremes(no_below=20, no_above=0.5) # 20개 문서 미만 또는 50% 이상의 문서"
      ],
      "execution_count": 0,
      "outputs": []
    }
  ]
}