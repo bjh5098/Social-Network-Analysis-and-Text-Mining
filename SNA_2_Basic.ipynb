{
  "nbformat": 4,
  "nbformat_minor": 0,
  "metadata": {
    "colab": {
      "name": "SNA_2_Basic.ipynb",
      "provenance": [],
      "private_outputs": true,
      "include_colab_link": true
    },
    "kernelspec": {
      "name": "python3",
      "display_name": "Python 3"
    }
  },
  "cells": [
    {
      "cell_type": "markdown",
      "metadata": {
        "id": "view-in-github",
        "colab_type": "text"
      },
      "source": [
        "<a href=\"https://colab.research.google.com/github/bjh5098/Social-Network-Analysis-and-Text-Mining/blob/master/SNA_2_Basic.ipynb\" target=\"_parent\"><img src=\"https://colab.research.google.com/assets/colab-badge.svg\" alt=\"Open In Colab\"/></a>"
      ]
    },
    {
      "cell_type": "markdown",
      "metadata": {
        "id": "ue5WA01gvvk6",
        "colab_type": "text"
      },
      "source": [
        "# 노드와 엣지"
      ]
    },
    {
      "cell_type": "markdown",
      "metadata": {
        "id": "vBDfdzGyEBYQ",
        "colab_type": "text"
      },
      "source": [
        "## 그래프, 노드, 엣지의 속성 추가하기"
      ]
    },
    {
      "cell_type": "markdown",
      "metadata": {
        "id": "97ncU7HeFAIU",
        "colab_type": "text"
      },
      "source": [
        "### 그래프 속성"
      ]
    },
    {
      "cell_type": "code",
      "metadata": {
        "id": "TZYVmtGIvDvr",
        "colab_type": "code",
        "colab": {}
      },
      "source": [
        "import networkx as nx"
      ],
      "execution_count": 0,
      "outputs": []
    },
    {
      "cell_type": "code",
      "metadata": {
        "id": "7gTeKjWSvBCq",
        "colab_type": "code",
        "colab": {}
      },
      "source": [
        "g = nx.Graph(firm = 'conglomerate')"
      ],
      "execution_count": 0,
      "outputs": []
    },
    {
      "cell_type": "code",
      "metadata": {
        "id": "qhUCqPBeEc28",
        "colab_type": "code",
        "colab": {}
      },
      "source": [
        "g.graph"
      ],
      "execution_count": 0,
      "outputs": []
    },
    {
      "cell_type": "code",
      "metadata": {
        "id": "MdR_DcT3Eh7k",
        "colab_type": "code",
        "colab": {}
      },
      "source": [
        "g.graph['firm'] = 'affiliate'"
      ],
      "execution_count": 0,
      "outputs": []
    },
    {
      "cell_type": "code",
      "metadata": {
        "id": "1iaePthNE9Bc",
        "colab_type": "code",
        "colab": {}
      },
      "source": [
        "g.graph"
      ],
      "execution_count": 0,
      "outputs": []
    },
    {
      "cell_type": "markdown",
      "metadata": {
        "id": "GIesmdpKE-Ek",
        "colab_type": "text"
      },
      "source": [
        "### 노드 속성"
      ]
    },
    {
      "cell_type": "code",
      "metadata": {
        "id": "50rCsqJAFEo1",
        "colab_type": "code",
        "colab": {}
      },
      "source": [
        "g.add_node(1, type = 'Big')"
      ],
      "execution_count": 0,
      "outputs": []
    },
    {
      "cell_type": "code",
      "metadata": {
        "id": "zybQygS0FIrx",
        "colab_type": "code",
        "colab": {}
      },
      "source": [
        "g.add_nodes_from([3, 4], type='small')"
      ],
      "execution_count": 0,
      "outputs": []
    },
    {
      "cell_type": "code",
      "metadata": {
        "id": "0AE_xxYhFVDs",
        "colab_type": "code",
        "colab": {}
      },
      "source": [
        "g.node"
      ],
      "execution_count": 0,
      "outputs": []
    },
    {
      "cell_type": "code",
      "metadata": {
        "id": "OOTHETrJFX7E",
        "colab_type": "code",
        "colab": {}
      },
      "source": [
        "g.node[1]"
      ],
      "execution_count": 0,
      "outputs": []
    },
    {
      "cell_type": "code",
      "metadata": {
        "id": "-nTr9huGF41U",
        "colab_type": "code",
        "colab": {}
      },
      "source": [
        "g.node[1]['year'] = 2019"
      ],
      "execution_count": 0,
      "outputs": []
    },
    {
      "cell_type": "code",
      "metadata": {
        "id": "wI_ePDJnFk0k",
        "colab_type": "code",
        "colab": {}
      },
      "source": [
        "g.nodes(data=True)"
      ],
      "execution_count": 0,
      "outputs": []
    },
    {
      "cell_type": "markdown",
      "metadata": {
        "id": "RQG7IHirFn9U",
        "colab_type": "text"
      },
      "source": [
        "### 엣지 속성\n"
      ]
    },
    {
      "cell_type": "code",
      "metadata": {
        "id": "xrrBXh8sGIUE",
        "colab_type": "code",
        "colab": {}
      },
      "source": [
        "g.add_edge(1, 2, weight=4.7)"
      ],
      "execution_count": 0,
      "outputs": []
    },
    {
      "cell_type": "code",
      "metadata": {
        "id": "AVGQnv0CGOce",
        "colab_type": "code",
        "colab": {}
      },
      "source": [
        "g.add_edges_from([(3, 4), (4, 5)], weight=4.7)"
      ],
      "execution_count": 0,
      "outputs": []
    },
    {
      "cell_type": "code",
      "metadata": {
        "id": "-RlSijqpGV0V",
        "colab_type": "code",
        "colab": {}
      },
      "source": [
        "g.add_edges_from([(1, 2, {'color':'blue'}), (2, 3, {'weight':8})])"
      ],
      "execution_count": 0,
      "outputs": []
    },
    {
      "cell_type": "code",
      "metadata": {
        "id": "zhazvECDGnpV",
        "colab_type": "code",
        "colab": {}
      },
      "source": [
        "g[1][2]['weight'] = 10"
      ],
      "execution_count": 0,
      "outputs": []
    },
    {
      "cell_type": "code",
      "metadata": {
        "id": "BgtOV3OQGqu8",
        "colab_type": "code",
        "colab": {}
      },
      "source": [
        "g.edges()"
      ],
      "execution_count": 0,
      "outputs": []
    },
    {
      "cell_type": "code",
      "metadata": {
        "id": "h7MSEP36HC81",
        "colab_type": "code",
        "colab": {}
      },
      "source": [
        "g.edges(data=True)"
      ],
      "execution_count": 0,
      "outputs": []
    },
    {
      "cell_type": "code",
      "metadata": {
        "id": "lMLfR01FHQ_s",
        "colab_type": "code",
        "colab": {}
      },
      "source": [
        "list(g.edges(data=True))"
      ],
      "execution_count": 0,
      "outputs": []
    },
    {
      "cell_type": "code",
      "metadata": {
        "id": "NHJ2lObIHOvF",
        "colab_type": "code",
        "colab": {}
      },
      "source": [
        "nx.draw(g, with_labels=True)"
      ],
      "execution_count": 0,
      "outputs": []
    },
    {
      "cell_type": "markdown",
      "metadata": {
        "id": "nUKnuu6vJD8V",
        "colab_type": "text"
      },
      "source": [
        "## 방향성 그래프"
      ]
    },
    {
      "cell_type": "code",
      "metadata": {
        "id": "oSknomJmJLi9",
        "colab_type": "code",
        "colab": {}
      },
      "source": [
        "dg = nx.DiGraph()"
      ],
      "execution_count": 0,
      "outputs": []
    },
    {
      "cell_type": "code",
      "metadata": {
        "id": "1JZAPJI2Jm78",
        "colab_type": "code",
        "colab": {}
      },
      "source": [
        "dg.add_weighted_edges_from([(1, 2, 0.5), (3, 1, 0.75)])"
      ],
      "execution_count": 0,
      "outputs": []
    },
    {
      "cell_type": "code",
      "metadata": {
        "id": "ioLm3bfHKC1V",
        "colab_type": "code",
        "colab": {}
      },
      "source": [
        "dg.out_degree(1)"
      ],
      "execution_count": 0,
      "outputs": []
    },
    {
      "cell_type": "code",
      "metadata": {
        "id": "t_o-ZvJXJ5j0",
        "colab_type": "code",
        "colab": {}
      },
      "source": [
        "dg.out_degree(1, weight='weight')"
      ],
      "execution_count": 0,
      "outputs": []
    },
    {
      "cell_type": "code",
      "metadata": {
        "id": "9EC6kcavKE_d",
        "colab_type": "code",
        "colab": {}
      },
      "source": [
        "list(dg.successors(1))"
      ],
      "execution_count": 0,
      "outputs": []
    },
    {
      "cell_type": "code",
      "metadata": {
        "id": "gSv69UPOKQL9",
        "colab_type": "code",
        "colab": {}
      },
      "source": [
        "list(dg.successors(2))"
      ],
      "execution_count": 0,
      "outputs": []
    },
    {
      "cell_type": "code",
      "metadata": {
        "id": "gRdU6IVzKdMU",
        "colab_type": "code",
        "colab": {}
      },
      "source": [
        "list(dg.successors(3))"
      ],
      "execution_count": 0,
      "outputs": []
    },
    {
      "cell_type": "code",
      "metadata": {
        "id": "jqaSxQRCKLt1",
        "colab_type": "code",
        "colab": {}
      },
      "source": [
        "list(dg.neighbors(1))"
      ],
      "execution_count": 0,
      "outputs": []
    },
    {
      "cell_type": "code",
      "metadata": {
        "id": "VUZEHfB2KSNd",
        "colab_type": "code",
        "colab": {}
      },
      "source": [
        "list(dg.neighbors(2))"
      ],
      "execution_count": 0,
      "outputs": []
    },
    {
      "cell_type": "code",
      "metadata": {
        "id": "MdtAGQKcKf_d",
        "colab_type": "code",
        "colab": {}
      },
      "source": [
        "list(dg.neighbors(3))"
      ],
      "execution_count": 0,
      "outputs": []
    },
    {
      "cell_type": "code",
      "metadata": {
        "id": "uwnfVJybKoI0",
        "colab_type": "code",
        "colab": {}
      },
      "source": [
        "nx.draw(dg, with_labels=True, node_color='black', font_color='white')"
      ],
      "execution_count": 0,
      "outputs": []
    },
    {
      "cell_type": "code",
      "metadata": {
        "id": "I8FMZWReJlxE",
        "colab_type": "code",
        "colab": {}
      },
      "source": [
        "dg_n = nx.DiGraph(g)"
      ],
      "execution_count": 0,
      "outputs": []
    },
    {
      "cell_type": "code",
      "metadata": {
        "id": "vS8X3RkbJSgF",
        "colab_type": "code",
        "colab": {}
      },
      "source": [
        "nx.draw(dg_n, with_labels=True, node_color='black', font_color='white')"
      ],
      "execution_count": 0,
      "outputs": []
    },
    {
      "cell_type": "markdown",
      "metadata": {
        "id": "CRvdmM0DJXC9",
        "colab_type": "text"
      },
      "source": [
        "## 그래프 생성 및 조작"
      ]
    },
    {
      "cell_type": "markdown",
      "metadata": {
        "id": "E5FmvPJUOvJv",
        "colab_type": "text"
      },
      "source": [
        "* subgraph(G, nbunch) - induce subgraph of G on nodes in nbunch\n",
        "* union(G1,G2) - graph union\n",
        "* disjoint_union(G1,G2) - graph union assuming all nodes are different\n",
        "* cartesian_product(G1,G2) - return Cartesian product graph\n",
        "* compose(G1,G2) - combine graphs identifying nodes common to both\n",
        "* complement(G) - graph complement\n",
        "* create_empty_copy(G) - return an empty copy of the same graph class\n",
        "* convert_to_undirected(G) - return an undirected representation of G\n",
        "* convert_to_directed(G)"
      ]
    },
    {
      "cell_type": "markdown",
      "metadata": {
        "id": "D6FVSnKdQeyl",
        "colab_type": "text"
      },
      "source": [
        "### subgraph"
      ]
    },
    {
      "cell_type": "code",
      "metadata": {
        "id": "WJPvv6IqPHWl",
        "colab_type": "code",
        "colab": {}
      },
      "source": [
        "g = nx.Graph()"
      ],
      "execution_count": 0,
      "outputs": []
    },
    {
      "cell_type": "code",
      "metadata": {
        "id": "lAio06-ePKxu",
        "colab_type": "code",
        "colab": {}
      },
      "source": [
        "g.add_edges_from([(1,2), (1,4), (2, 3), (3, 4), (4, 5), (1, 5)])"
      ],
      "execution_count": 0,
      "outputs": []
    },
    {
      "cell_type": "code",
      "metadata": {
        "id": "Ozd6FGyNPWp9",
        "colab_type": "code",
        "colab": {}
      },
      "source": [
        "nx.draw(g, with_labels=True)"
      ],
      "execution_count": 0,
      "outputs": []
    },
    {
      "cell_type": "code",
      "metadata": {
        "id": "-xFqiAzrPxMd",
        "colab_type": "code",
        "colab": {}
      },
      "source": [
        "list(nx.subgraph(g, [3,2,5]))"
      ],
      "execution_count": 0,
      "outputs": []
    },
    {
      "cell_type": "code",
      "metadata": {
        "id": "8W0JUL9EO5LV",
        "colab_type": "code",
        "colab": {}
      },
      "source": [
        "nx.draw(nx.subgraph(g, [3,2,5]), with_labels=True)"
      ],
      "execution_count": 0,
      "outputs": []
    },
    {
      "cell_type": "markdown",
      "metadata": {
        "id": "fHZoT3ZnPGnt",
        "colab_type": "text"
      },
      "source": [
        "### Etc"
      ]
    },
    {
      "cell_type": "markdown",
      "metadata": {
        "id": "9UT4GlVtO-_9",
        "colab_type": "text"
      },
      "source": [
        "#### 그래프 생성"
      ]
    },
    {
      "cell_type": "code",
      "metadata": {
        "id": "0kshaxnhQ37F",
        "colab_type": "code",
        "colab": {}
      },
      "source": [
        "g1 = nx.Graph()\n",
        "g1.add_edges_from([(1,2), (1,4), (2,3), (3,4), (4,5), (1,5)])"
      ],
      "execution_count": 0,
      "outputs": []
    },
    {
      "cell_type": "code",
      "metadata": {
        "id": "MNyz0we0RCPG",
        "colab_type": "code",
        "colab": {}
      },
      "source": [
        "nx.draw(g1, with_labels=True,node_size=600, font_size=20, font_color='white', edge_color='red', node_color='black')"
      ],
      "execution_count": 0,
      "outputs": []
    },
    {
      "cell_type": "code",
      "metadata": {
        "id": "GQiP9dzdQ-wl",
        "colab_type": "code",
        "colab": {}
      },
      "source": [
        "g2 = nx.Graph()\n",
        "g2.add_edges_from([('a','b'), ('c', 'd'), ('a', 'd')])"
      ],
      "execution_count": 0,
      "outputs": []
    },
    {
      "cell_type": "code",
      "metadata": {
        "id": "V8RrN8URREH-",
        "colab_type": "code",
        "colab": {}
      },
      "source": [
        "nx.draw(g2, with_labels=True,node_size=600, font_size=20, font_color='white', edge_color='red', node_color='black')"
      ],
      "execution_count": 0,
      "outputs": []
    },
    {
      "cell_type": "markdown",
      "metadata": {
        "id": "urx5RP97RXo-",
        "colab_type": "text"
      },
      "source": [
        "#### Union"
      ]
    },
    {
      "cell_type": "code",
      "metadata": {
        "id": "29yXkerOSgvi",
        "colab_type": "code",
        "colab": {}
      },
      "source": [
        "union_g = nx.union(g1, g2)"
      ],
      "execution_count": 0,
      "outputs": []
    },
    {
      "cell_type": "code",
      "metadata": {
        "id": "Kl0z18BqTV52",
        "colab_type": "code",
        "colab": {}
      },
      "source": [
        "nx.draw(union_g, with_labels=True,node_size=600, font_size=20, font_color='white', edge_color='red', node_color='black')"
      ],
      "execution_count": 0,
      "outputs": []
    },
    {
      "cell_type": "code",
      "metadata": {
        "id": "13e3Tm6dSj8H",
        "colab_type": "code",
        "colab": {}
      },
      "source": [
        "dis_union_g = nx.disjoint_union(g1, g2)"
      ],
      "execution_count": 0,
      "outputs": []
    },
    {
      "cell_type": "code",
      "metadata": {
        "id": "gwE9nvYzS0n-",
        "colab_type": "code",
        "colab": {}
      },
      "source": [
        "nx.draw(dis_union_g, with_labels=True,node_size=600, font_size=20, font_color='white', edge_color='red', node_color='black')"
      ],
      "execution_count": 0,
      "outputs": []
    },
    {
      "cell_type": "markdown",
      "metadata": {
        "id": "IAFMmYW1UCTN",
        "colab_type": "text"
      },
      "source": [
        "#### Compose"
      ]
    },
    {
      "cell_type": "code",
      "metadata": {
        "id": "XR2UNQwIUxil",
        "colab_type": "code",
        "colab": {}
      },
      "source": [
        "g3 = nx.Graph()\n",
        "g4 = nx.Graph()\n",
        "g3.add_edges_from([('a','b'), ('c', 'd'), ('a', 'd')])\n",
        "g4.add_edges_from([(1,2),('a','b'), (1,'a'),(2,'b')])"
      ],
      "execution_count": 0,
      "outputs": []
    },
    {
      "cell_type": "code",
      "metadata": {
        "id": "0cfQSG9fVTTV",
        "colab_type": "code",
        "colab": {}
      },
      "source": [
        "nx.draw(g3, with_labels=True,node_size=600, font_size=20, font_color='white', edge_color='red', node_color='black')"
      ],
      "execution_count": 0,
      "outputs": []
    },
    {
      "cell_type": "code",
      "metadata": {
        "id": "JiPIxB4yVVQe",
        "colab_type": "code",
        "colab": {}
      },
      "source": [
        "nx.draw(g4, with_labels=True,node_size=600, font_size=20, font_color='white', edge_color='red', node_color='black')"
      ],
      "execution_count": 0,
      "outputs": []
    },
    {
      "cell_type": "code",
      "metadata": {
        "id": "eUd2xOcNU8bm",
        "colab_type": "code",
        "colab": {}
      },
      "source": [
        "com_g = nx.compose(g3,g4)"
      ],
      "execution_count": 0,
      "outputs": []
    },
    {
      "cell_type": "code",
      "metadata": {
        "id": "-UaevJBFUKJ-",
        "colab_type": "code",
        "colab": {}
      },
      "source": [
        "list(com_g.edges())"
      ],
      "execution_count": 0,
      "outputs": []
    },
    {
      "cell_type": "code",
      "metadata": {
        "id": "57wa4GajT72n",
        "colab_type": "code",
        "colab": {}
      },
      "source": [
        "nx.draw(com_g, with_labels=True,node_size=600, font_size=20, font_color='white', edge_color='red', node_color='black')"
      ],
      "execution_count": 0,
      "outputs": []
    },
    {
      "cell_type": "code",
      "metadata": {
        "id": "AW3uiteHT_EO",
        "colab_type": "code",
        "colab": {}
      },
      "source": [
        "com_g = nx.union(g3,g4)"
      ],
      "execution_count": 0,
      "outputs": []
    },
    {
      "cell_type": "markdown",
      "metadata": {
        "id": "ZiHINzNtYw8L",
        "colab_type": "text"
      },
      "source": [
        "#### complement"
      ]
    },
    {
      "cell_type": "code",
      "metadata": {
        "id": "YqPQQnIMZbNW",
        "colab_type": "code",
        "colab": {}
      },
      "source": [
        "nx.draw(g4, with_labels=True,node_size=600, font_size=20, font_color='white', edge_color='red', node_color='black')"
      ],
      "execution_count": 0,
      "outputs": []
    },
    {
      "cell_type": "code",
      "metadata": {
        "id": "nf3lttRrY-iO",
        "colab_type": "code",
        "colab": {}
      },
      "source": [
        "nx.draw(nx.complement(g4), with_labels=True,node_size=600, font_size=20, font_color='white', edge_color='red', node_color='black')"
      ],
      "execution_count": 0,
      "outputs": []
    },
    {
      "cell_type": "code",
      "metadata": {
        "id": "gg-1xLjF-57x",
        "colab_type": "code",
        "colab": {}
      },
      "source": [
        ""
      ],
      "execution_count": 0,
      "outputs": []
    }
  ]
}