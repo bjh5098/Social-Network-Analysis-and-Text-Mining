{
  "nbformat": 4,
  "nbformat_minor": 0,
  "metadata": {
    "colab": {
      "name": "SNA_Bipartite Graphs.ipynb",
      "provenance": [],
      "private_outputs": true,
      "include_colab_link": true
    },
    "kernelspec": {
      "name": "python3",
      "display_name": "Python 3"
    }
  },
  "cells": [
    {
      "cell_type": "markdown",
      "metadata": {
        "id": "view-in-github",
        "colab_type": "text"
      },
      "source": [
        "<a href=\"https://colab.research.google.com/github/bjh5098/Social-Network-Analysis-and-Text-Mining/blob/master/SNA_Bipartite_Graphs.ipynb\" target=\"_parent\"><img src=\"https://colab.research.google.com/assets/colab-badge.svg\" alt=\"Open In Colab\"/></a>"
      ]
    },
    {
      "cell_type": "markdown",
      "metadata": {
        "id": "DIy0HUYylsEk",
        "colab_type": "text"
      },
      "source": [
        "# Bipartite Graphs"
      ]
    },
    {
      "cell_type": "markdown",
      "metadata": {
        "id": "-WgoOw6SlyDP",
        "colab_type": "text"
      },
      "source": [
        "## Bipartite 1"
      ]
    },
    {
      "cell_type": "code",
      "metadata": {
        "id": "fXLPc6Ged0GE",
        "colab_type": "code",
        "colab": {}
      },
      "source": [
        "import networkx as nx"
      ],
      "execution_count": 0,
      "outputs": []
    },
    {
      "cell_type": "code",
      "metadata": {
        "id": "Ih7eUpJUeOtk",
        "colab_type": "code",
        "colab": {}
      },
      "source": [
        "B = nx.Graph([(1,6), (2,6), (2,7), (2,8), (2,9), (3,9), (4,10), (5,9), (5,10)])"
      ],
      "execution_count": 0,
      "outputs": []
    },
    {
      "cell_type": "code",
      "metadata": {
        "id": "9EV7t_SdhGtd",
        "colab_type": "code",
        "colab": {}
      },
      "source": [
        "list(B.edges)"
      ],
      "execution_count": 0,
      "outputs": []
    },
    {
      "cell_type": "code",
      "metadata": {
        "id": "Ys9rebZugo8X",
        "colab_type": "code",
        "colab": {}
      },
      "source": [
        "nx.draw(B, with_labels=True, node_size = 800, node_color='black', font_color='white', font_size=20)"
      ],
      "execution_count": 0,
      "outputs": []
    },
    {
      "cell_type": "code",
      "metadata": {
        "id": "oAFuECH_eSfn",
        "colab_type": "code",
        "colab": {}
      },
      "source": [
        "pos = {x+1: divmod(x, 5) for x in range(10)}\n",
        "pos"
      ],
      "execution_count": 0,
      "outputs": []
    },
    {
      "cell_type": "code",
      "metadata": {
        "id": "gEr-YyJye1xv",
        "colab_type": "code",
        "colab": {}
      },
      "source": [
        "nx.draw(B, pos, with_labels=True, node_size = 800, node_color='black', font_color='white', font_size=20)"
      ],
      "execution_count": 0,
      "outputs": []
    },
    {
      "cell_type": "code",
      "metadata": {
        "id": "FmWA1ctKiUQv",
        "colab_type": "code",
        "colab": {}
      },
      "source": [
        "B.nodes()"
      ],
      "execution_count": 0,
      "outputs": []
    },
    {
      "cell_type": "code",
      "metadata": {
        "id": "UEIWAtIhfFpm",
        "colab_type": "code",
        "colab": {}
      },
      "source": [
        "color = [pos[x][0] for x in B.nodes()]\n",
        "color"
      ],
      "execution_count": 0,
      "outputs": []
    },
    {
      "cell_type": "code",
      "metadata": {
        "id": "r9ZKBvq_fsAu",
        "colab_type": "code",
        "colab": {}
      },
      "source": [
        "nx.draw(B, pos, with_labels=True, node_size = 800, node_color=color, font_color='W',font_size=20)"
      ],
      "execution_count": 0,
      "outputs": []
    },
    {
      "cell_type": "markdown",
      "metadata": {
        "id": "_hbGHtVgl363",
        "colab_type": "text"
      },
      "source": [
        "## Bipartite 2"
      ]
    },
    {
      "cell_type": "code",
      "metadata": {
        "id": "gRSykqe-fsqG",
        "colab_type": "code",
        "colab": {}
      },
      "source": [
        "G44 = nx.grid_2d_graph(4, 4)\n",
        "nx.draw(G44)"
      ],
      "execution_count": 0,
      "outputs": []
    },
    {
      "cell_type": "code",
      "metadata": {
        "id": "5top5WrzjKKP",
        "colab_type": "code",
        "colab": {}
      },
      "source": [
        "G44.edges"
      ],
      "execution_count": 0,
      "outputs": []
    },
    {
      "cell_type": "code",
      "metadata": {
        "id": "aw1carehjBdG",
        "colab_type": "code",
        "colab": {}
      },
      "source": [
        "color = nx.bipartite.color(G44)\n",
        "color"
      ],
      "execution_count": 0,
      "outputs": []
    },
    {
      "cell_type": "code",
      "metadata": {
        "id": "m5L8PcGAkEr3",
        "colab_type": "code",
        "colab": {}
      },
      "source": [
        "G44.nodes()"
      ],
      "execution_count": 0,
      "outputs": []
    },
    {
      "cell_type": "code",
      "metadata": {
        "id": "XTD33I4QjGNX",
        "colab_type": "code",
        "colab": {}
      },
      "source": [
        "color = [color[x] for x in G44.nodes()]"
      ],
      "execution_count": 0,
      "outputs": []
    },
    {
      "cell_type": "code",
      "metadata": {
        "id": "TBVeo5lGjz5H",
        "colab_type": "code",
        "colab": {}
      },
      "source": [
        "color"
      ],
      "execution_count": 0,
      "outputs": []
    },
    {
      "cell_type": "code",
      "metadata": {
        "id": "ml0ucea8j_aH",
        "colab_type": "code",
        "colab": {}
      },
      "source": [
        "nx.draw(G44, with_labels=True, node_color=color, font_color='Red',node_size=600)"
      ],
      "execution_count": 0,
      "outputs": []
    },
    {
      "cell_type": "markdown",
      "metadata": {
        "id": "opEUJzFAmEQf",
        "colab_type": "text"
      },
      "source": [
        "## Affiliation Networks"
      ]
    },
    {
      "cell_type": "markdown",
      "metadata": {
        "id": "s65ezIK4mcWH",
        "colab_type": "text"
      },
      "source": [
        "* Southern Women Network\n",
        " * 18 명의 여성들이 특정 기간 동안 어떤 이벤트에 참석하였는지 기록한 데이터\n",
        " * Davis, A., Gardner, B., and Gardner, R. 1941. Deep South.Chicago: University of Chicago Press"
      ]
    },
    {
      "cell_type": "markdown",
      "metadata": {
        "id": "P-kJww5xs7s3",
        "colab_type": "text"
      },
      "source": [
        "### 그래프 생성"
      ]
    },
    {
      "cell_type": "code",
      "metadata": {
        "id": "eqDYtLdWmI_2",
        "colab_type": "code",
        "colab": {}
      },
      "source": [
        "G = nx.generators.social.davis_southern_women_graph()\n",
        "list(G.nodes())"
      ],
      "execution_count": 0,
      "outputs": []
    },
    {
      "cell_type": "code",
      "metadata": {
        "id": "2hgJdqmQmM-n",
        "colab_type": "code",
        "colab": {}
      },
      "source": [
        "nx.draw(G, with_labels=True)"
      ],
      "execution_count": 0,
      "outputs": []
    },
    {
      "cell_type": "code",
      "metadata": {
        "id": "qdZUKizwmPSP",
        "colab_type": "code",
        "colab": {}
      },
      "source": [
        "color = nx.bipartite.color(G)\n",
        "color = [color[x] for x in G.nodes()]\n",
        "nx.draw(G, with_labels=True, node_color=color, font_color='r')"
      ],
      "execution_count": 0,
      "outputs": []
    },
    {
      "cell_type": "code",
      "metadata": {
        "id": "h5a0gkdenK83",
        "colab_type": "code",
        "colab": {}
      },
      "source": [
        "A = nx.adjacency_matrix(G)\n",
        "print(A.todense())"
      ],
      "execution_count": 0,
      "outputs": []
    },
    {
      "cell_type": "code",
      "metadata": {
        "id": "ycFkkBS-nkRn",
        "colab_type": "code",
        "colab": {}
      },
      "source": [
        "import numpy as np\n",
        "with np.printoptions(threshold=9999):\n",
        "    print(A.todense())"
      ],
      "execution_count": 0,
      "outputs": []
    },
    {
      "cell_type": "code",
      "metadata": {
        "id": "sG25rMbvqePg",
        "colab_type": "code",
        "colab": {}
      },
      "source": [
        "print(\"Number of Col: {}\".format(len(np.array(A.todense())[0,:])))"
      ],
      "execution_count": 0,
      "outputs": []
    },
    {
      "cell_type": "code",
      "metadata": {
        "id": "7pdngBQzsAuY",
        "colab_type": "code",
        "colab": {}
      },
      "source": [
        "print(\"Number of Row: {}\".format(len(np.array(A.todense())[:,1])))"
      ],
      "execution_count": 0,
      "outputs": []
    },
    {
      "cell_type": "code",
      "metadata": {
        "id": "7WHVUu3CqX5n",
        "colab_type": "code",
        "colab": {}
      },
      "source": [
        "print(\"Number of Node: {}\".format(len(list(G.nodes))))"
      ],
      "execution_count": 0,
      "outputs": []
    },
    {
      "cell_type": "markdown",
      "metadata": {
        "id": "cxvPiIuHrk3A",
        "colab_type": "text"
      },
      "source": [
        "## Projections"
      ]
    },
    {
      "cell_type": "code",
      "metadata": {
        "id": "DoP6EW36og-P",
        "colab_type": "code",
        "colab": {}
      },
      "source": [
        "G.graph"
      ],
      "execution_count": 0,
      "outputs": []
    },
    {
      "cell_type": "code",
      "metadata": {
        "id": "28Ky-Z2UpxJI",
        "colab_type": "code",
        "colab": {}
      },
      "source": [
        "women = G.graph['top']"
      ],
      "execution_count": 0,
      "outputs": []
    },
    {
      "cell_type": "code",
      "metadata": {
        "id": "64Zm7QQUrGlf",
        "colab_type": "code",
        "colab": {}
      },
      "source": [
        "women"
      ],
      "execution_count": 0,
      "outputs": []
    },
    {
      "cell_type": "code",
      "metadata": {
        "id": "Flj0mQosp0vQ",
        "colab_type": "code",
        "colab": {}
      },
      "source": [
        "event = G.graph['bottom']"
      ],
      "execution_count": 0,
      "outputs": []
    },
    {
      "cell_type": "code",
      "metadata": {
        "id": "zN3oyEimqAL4",
        "colab_type": "code",
        "colab": {}
      },
      "source": [
        "event"
      ],
      "execution_count": 0,
      "outputs": []
    },
    {
      "cell_type": "code",
      "metadata": {
        "id": "X5UA3jxzrKYI",
        "colab_type": "code",
        "colab": {}
      },
      "source": [
        "c = nx.bipartite.biadjacency_matrix(G, women, event)"
      ],
      "execution_count": 0,
      "outputs": []
    },
    {
      "cell_type": "code",
      "metadata": {
        "id": "XWnXWy8IrUK_",
        "colab_type": "code",
        "colab": {}
      },
      "source": [
        "c.todense()"
      ],
      "execution_count": 0,
      "outputs": []
    },
    {
      "cell_type": "code",
      "metadata": {
        "id": "cxvy0sVBrVNY",
        "colab_type": "code",
        "colab": {}
      },
      "source": [
        "print(\"Number of Col(Event): {}\".format(len(np.array(c.todense())[0,:])))"
      ],
      "execution_count": 0,
      "outputs": []
    },
    {
      "cell_type": "code",
      "metadata": {
        "id": "rJDRbVgbsOCo",
        "colab_type": "code",
        "colab": {}
      },
      "source": [
        "print(\"Number of Row(Women): {}\".format(len(np.array(c.todense())[:,0])))"
      ],
      "execution_count": 0,
      "outputs": []
    },
    {
      "cell_type": "code",
      "metadata": {
        "id": "m01qlY3vtCrA",
        "colab_type": "code",
        "colab": {}
      },
      "source": [
        "c.todense()"
      ],
      "execution_count": 0,
      "outputs": []
    },
    {
      "cell_type": "code",
      "metadata": {
        "id": "6qa7_y90tFBA",
        "colab_type": "code",
        "colab": {}
      },
      "source": [
        "c.transpose().todense()"
      ],
      "execution_count": 0,
      "outputs": []
    },
    {
      "cell_type": "markdown",
      "metadata": {
        "id": "v-P6a7nQtJhg",
        "colab_type": "text"
      },
      "source": [
        "### 이벤트 참여자 네트워크"
      ]
    },
    {
      "cell_type": "code",
      "metadata": {
        "id": "Gxo9ZA-IyoHC",
        "colab_type": "code",
        "colab": {}
      },
      "source": [
        "ww = nx.from_numpy_matrix((c*c.transpose()).todense())\n",
        "nx.draw(ww)"
      ],
      "execution_count": 0,
      "outputs": []
    },
    {
      "cell_type": "code",
      "metadata": {
        "id": "564Ykf8-2Bbt",
        "colab_type": "code",
        "colab": {}
      },
      "source": [
        "nodes = G.graph['top']\n",
        "mapping = {i: nodes[i] for i in range(len(nodes))}\n",
        "nx.relabel_nodes(ww, mapping, False)\n",
        "nx.draw(ww, with_labels=True)"
      ],
      "execution_count": 0,
      "outputs": []
    },
    {
      "cell_type": "code",
      "metadata": {
        "id": "cU5BcVQTyraA",
        "colab_type": "code",
        "colab": {}
      },
      "source": [
        "ww_graph = nx.bipartite.projected_graph(G, G.graph['top'])\n",
        "nx.draw(ww_graph, with_labels=True)"
      ],
      "execution_count": 0,
      "outputs": []
    },
    {
      "cell_type": "code",
      "metadata": {
        "id": "zrKX9q133r_d",
        "colab_type": "code",
        "colab": {}
      },
      "source": [
        "ee = nx.from_numpy_matrix((c.transpose()*c).todense())\n",
        "nx.draw(ee)"
      ],
      "execution_count": 0,
      "outputs": []
    },
    {
      "cell_type": "code",
      "metadata": {
        "id": "jLP36nBp31cx",
        "colab_type": "code",
        "colab": {}
      },
      "source": [
        "nodes = G.graph['bottom']\n",
        "mapping = {i: nodes[i] for i in range(len(nodes))}\n",
        "nx.relabel_nodes(ee, mapping, False)\n",
        "nx.draw(ee, with_labels=True)"
      ],
      "execution_count": 0,
      "outputs": []
    },
    {
      "cell_type": "code",
      "metadata": {
        "id": "n_1hKC7NyugA",
        "colab_type": "code",
        "colab": {}
      },
      "source": [
        "ee_graph = nx.bipartite.projected_graph(G, G.graph['bottom'])\n",
        "nx.draw(ee_graph, with_labels=True)"
      ],
      "execution_count": 0,
      "outputs": []
    }
  ]
}