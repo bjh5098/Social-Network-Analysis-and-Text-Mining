{
  "nbformat": 4,
  "nbformat_minor": 0,
  "metadata": {
    "colab": {
      "name": "2_1_Pandas Basic.ipynb",
      "provenance": [],
      "private_outputs": true,
      "collapsed_sections": [
        "5FamDlomsoWz",
        "TUdpAn_Mu9yZ",
        "cJcW_AoL2ahX",
        "DbqHkb9suOJp",
        "TB7xeMrtNfFl",
        "-NdsKng4UHJL",
        "fnMo9aftUDZs",
        "0Q3UHbHAaMo7"
      ],
      "include_colab_link": true
    },
    "kernelspec": {
      "name": "python3",
      "display_name": "Python 3"
    }
  },
  "cells": [
    {
      "cell_type": "markdown",
      "metadata": {
        "id": "view-in-github",
        "colab_type": "text"
      },
      "source": [
        "<a href=\"https://colab.research.google.com/github/bjh5098/Social-Network-Analysis-and-Text-Mining/blob/master/2_1_Pandas_Basic.ipynb\" target=\"_parent\"><img src=\"https://colab.research.google.com/assets/colab-badge.svg\" alt=\"Open In Colab\"/></a>"
      ]
    },
    {
      "cell_type": "code",
      "metadata": {
        "id": "xUqWN1wUtIXo",
        "colab_type": "code",
        "colab": {}
      },
      "source": [
        "import pandas as pd"
      ],
      "execution_count": 0,
      "outputs": []
    },
    {
      "cell_type": "markdown",
      "metadata": {
        "id": "5FamDlomsoWz",
        "colab_type": "text"
      },
      "source": [
        "#Pandas - 자료구조 소개"
      ]
    },
    {
      "cell_type": "markdown",
      "metadata": {
        "id": "TUdpAn_Mu9yZ",
        "colab_type": "text"
      },
      "source": [
        "##Series Basic"
      ]
    },
    {
      "cell_type": "code",
      "metadata": {
        "id": "TqbW0t4lstqh",
        "colab_type": "code",
        "colab": {}
      },
      "source": [
        "obj = pd.Series([4, 7, -5, 3], index=['a','b', 'c', 'd'], name='seriesaaaasasasfdffgggrd"
      ],
      "execution_count": 0,
      "outputs": []
    },
    {
      "cell_type": "code",
      "metadata": {
        "id": "onzxIgY8teV5",
        "colab_type": "code",
        "colab": {}
      },
      "source": [
        "obj"
      ],
      "execution_count": 0,
      "outputs": []
    },
    {
      "cell_type": "code",
      "metadata": {
        "id": "JuHpZND00tjC",
        "colab_type": "code",
        "colab": {}
      },
      "source": [
        "obj.values"
      ],
      "execution_count": 0,
      "outputs": []
    },
    {
      "cell_type": "code",
      "metadata": {
        "id": "GPOcTKjrtfXp",
        "colab_type": "code",
        "colab": {}
      },
      "source": [
        "obj[0]"
      ],
      "execution_count": 0,
      "outputs": []
    },
    {
      "cell_type": "code",
      "metadata": {
        "id": "N0uFgeJ8uaf8",
        "colab_type": "code",
        "colab": {}
      },
      "source": [
        "obj[[0, 3]]"
      ],
      "execution_count": 0,
      "outputs": []
    },
    {
      "cell_type": "code",
      "metadata": {
        "id": "0KFWBdmht-X0",
        "colab_type": "code",
        "colab": {}
      },
      "source": [
        "obj['a']"
      ],
      "execution_count": 0,
      "outputs": []
    },
    {
      "cell_type": "code",
      "metadata": {
        "id": "Ogn0g4tvuq1o",
        "colab_type": "code",
        "colab": {}
      },
      "source": [
        "obj[['a','c']]"
      ],
      "execution_count": 0,
      "outputs": []
    },
    {
      "cell_type": "code",
      "metadata": {
        "id": "8ksQ7sUyuErh",
        "colab_type": "code",
        "colab": {}
      },
      "source": [
        "obj.index"
      ],
      "execution_count": 0,
      "outputs": []
    },
    {
      "cell_type": "code",
      "metadata": {
        "id": "tcEipYLJuBgZ",
        "colab_type": "code",
        "colab": {}
      },
      "source": [
        "obj.name"
      ],
      "execution_count": 0,
      "outputs": []
    },
    {
      "cell_type": "code",
      "metadata": {
        "id": "QgPRyXsq1-9Y",
        "colab_type": "code",
        "colab": {}
      },
      "source": [
        "obj[['c', 'a', 'd']]"
      ],
      "execution_count": 0,
      "outputs": []
    },
    {
      "cell_type": "markdown",
      "metadata": {
        "id": "cJcW_AoL2ahX",
        "colab_type": "text"
      },
      "source": [
        "###사전형 데이터로부터 Series 데이터 생성"
      ]
    },
    {
      "cell_type": "code",
      "metadata": {
        "id": "vZLBci3l2gfy",
        "colab_type": "code",
        "colab": {}
      },
      "source": [
        "sdata = {'Ohio':35000, 'Texa':71000, 'Oregon':16000, 'Utah': 5000}"
      ],
      "execution_count": 0,
      "outputs": []
    },
    {
      "cell_type": "code",
      "metadata": {
        "id": "flpQiCp_2nJA",
        "colab_type": "code",
        "colab": {}
      },
      "source": [
        "obj2 = pd.Series(sdata)\n",
        "obj2"
      ],
      "execution_count": 0,
      "outputs": []
    },
    {
      "cell_type": "code",
      "metadata": {
        "id": "0-a7XyV925C-",
        "colab_type": "code",
        "colab": {}
      },
      "source": [
        "obj2.index"
      ],
      "execution_count": 0,
      "outputs": []
    },
    {
      "cell_type": "code",
      "metadata": {
        "id": "O9vJ-FFK4KkX",
        "colab_type": "code",
        "colab": {}
      },
      "source": [
        "states = ['California', 'Ohio', 'Oregon', 'Texa']\n",
        "obj3 = pd.Series(sdata, index=states)"
      ],
      "execution_count": 0,
      "outputs": []
    },
    {
      "cell_type": "code",
      "metadata": {
        "id": "54M2m4oF4V8P",
        "colab_type": "code",
        "colab": {}
      },
      "source": [
        "obj3"
      ],
      "execution_count": 0,
      "outputs": []
    },
    {
      "cell_type": "code",
      "metadata": {
        "id": "MAts23Ka4dDm",
        "colab_type": "code",
        "colab": {}
      },
      "source": [
        "pd.isnull(obj3)"
      ],
      "execution_count": 0,
      "outputs": []
    },
    {
      "cell_type": "code",
      "metadata": {
        "id": "0vOFWKP55KN_",
        "colab_type": "code",
        "colab": {}
      },
      "source": [
        "pd.notnull(obj3)"
      ],
      "execution_count": 0,
      "outputs": []
    },
    {
      "cell_type": "markdown",
      "metadata": {
        "id": "DbqHkb9suOJp",
        "colab_type": "text"
      },
      "source": [
        "##DatetimeIndex"
      ]
    },
    {
      "cell_type": "code",
      "metadata": {
        "id": "02zEoDyvu8dw",
        "colab_type": "code",
        "colab": {}
      },
      "source": [
        "date = pd.date_range('2019-09-01', '2019-09-06', freq='d')\n",
        "date"
      ],
      "execution_count": 0,
      "outputs": []
    },
    {
      "cell_type": "code",
      "metadata": {
        "id": "P40cp3_V6VI6",
        "colab_type": "code",
        "colab": {}
      },
      "source": [
        "temp1 = pd.Series([80, 82, 85, 90, 83, 87], index=date)\n",
        "temp1"
      ],
      "execution_count": 0,
      "outputs": []
    },
    {
      "cell_type": "code",
      "metadata": {
        "id": "V0qO_Gbu6JHK",
        "colab_type": "code",
        "colab": {}
      },
      "source": [
        "temp1['2019-09-01']"
      ],
      "execution_count": 0,
      "outputs": []
    },
    {
      "cell_type": "code",
      "metadata": {
        "id": "Zeb-ZS_jvbNp",
        "colab_type": "code",
        "colab": {}
      },
      "source": [
        "temp2 = pd.Series([70, 75, 69, 83, 79, 77], index=date)"
      ],
      "execution_count": 0,
      "outputs": []
    },
    {
      "cell_type": "code",
      "metadata": {
        "id": "w5JbH0Im76lY",
        "colab_type": "code",
        "colab": {}
      },
      "source": [
        "temp1-temp2"
      ],
      "execution_count": 0,
      "outputs": []
    },
    {
      "cell_type": "markdown",
      "metadata": {
        "id": "QJaJ9nQb8LWm",
        "colab_type": "text"
      },
      "source": [
        "##DataFrame Basic"
      ]
    },
    {
      "cell_type": "code",
      "metadata": {
        "id": "Oukt-7S6_g4O",
        "colab_type": "code",
        "colab": {}
      },
      "source": [
        "data = {'state':['Ohio','Ohio','Ohio','Nevada','Nevada'], \n",
        "        'year':[2000,2001,2002,2001,2001], \n",
        "        'pop':[1.5,1.7,3.6, 2.4, 2.9]}\n",
        "data"
      ],
      "execution_count": 0,
      "outputs": []
    },
    {
      "cell_type": "code",
      "metadata": {
        "id": "98Y3E1zI5GzU",
        "colab_type": "code",
        "colab": {}
      },
      "source": [
        "import pandas as pd"
      ],
      "execution_count": 0,
      "outputs": []
    },
    {
      "cell_type": "code",
      "metadata": {
        "id": "cP5wReUK_fk8",
        "colab_type": "code",
        "colab": {}
      },
      "source": [
        "frame = pd.DataFrame(data)\n",
        "frame"
      ],
      "execution_count": 0,
      "outputs": []
    },
    {
      "cell_type": "code",
      "metadata": {
        "id": "xMjT_BjHAyaA",
        "colab_type": "code",
        "colab": {}
      },
      "source": [
        "frame2 = pd.DataFrame(data, columns=['year','state','pop','debt'],index=['one','two','three','four','five'])"
      ],
      "execution_count": 0,
      "outputs": []
    },
    {
      "cell_type": "code",
      "metadata": {
        "id": "E4aW9h07BinW",
        "colab_type": "code",
        "colab": {}
      },
      "source": [
        "frame2"
      ],
      "execution_count": 0,
      "outputs": []
    },
    {
      "cell_type": "code",
      "metadata": {
        "id": "H2aLuJ485XeH",
        "colab_type": "code",
        "colab": {}
      },
      "source": [
        "help(pd.DataFrame)"
      ],
      "execution_count": 0,
      "outputs": []
    },
    {
      "cell_type": "code",
      "metadata": {
        "id": "GG5rUATO6MZG",
        "colab_type": "code",
        "colab": {}
      },
      "source": [
        "frame2['year']"
      ],
      "execution_count": 0,
      "outputs": []
    },
    {
      "cell_type": "code",
      "metadata": {
        "id": "Mds-k1egBjWF",
        "colab_type": "code",
        "colab": {}
      },
      "source": [
        "frame2.loc['three'].values"
      ],
      "execution_count": 0,
      "outputs": []
    },
    {
      "cell_type": "code",
      "metadata": {
        "id": "C4P3MUPm8VSI",
        "colab_type": "code",
        "colab": {}
      },
      "source": [
        "frame2"
      ],
      "execution_count": 0,
      "outputs": []
    },
    {
      "cell_type": "code",
      "metadata": {
        "id": "at8Th76u8abU",
        "colab_type": "code",
        "colab": {}
      },
      "source": [
        "frame2['debt']"
      ],
      "execution_count": 0,
      "outputs": []
    },
    {
      "cell_type": "code",
      "metadata": {
        "id": "QCYPiOqDB-x6",
        "colab_type": "code",
        "colab": {}
      },
      "source": [
        "frame2['debt'] = 16.5"
      ],
      "execution_count": 0,
      "outputs": []
    },
    {
      "cell_type": "code",
      "metadata": {
        "id": "SSTEN4iG8eFI",
        "colab_type": "code",
        "colab": {}
      },
      "source": [
        "frame2.loc['one',['year','pop']]"
      ],
      "execution_count": 0,
      "outputs": []
    },
    {
      "cell_type": "code",
      "metadata": {
        "id": "ueHOPcJD9gYb",
        "colab_type": "code",
        "colab": {}
      },
      "source": [
        "frame2.columns\n"
      ],
      "execution_count": 0,
      "outputs": []
    },
    {
      "cell_type": "code",
      "metadata": {
        "id": "Pij0k8FA9sIj",
        "colab_type": "code",
        "colab": {}
      },
      "source": [
        "frame2.index"
      ],
      "execution_count": 0,
      "outputs": []
    },
    {
      "cell_type": "code",
      "metadata": {
        "id": "bm5z9_Cf9HlX",
        "colab_type": "code",
        "colab": {}
      },
      "source": [
        ""
      ],
      "execution_count": 0,
      "outputs": []
    },
    {
      "cell_type": "code",
      "metadata": {
        "id": "hJrw0SoOCvHO",
        "colab_type": "code",
        "colab": {}
      },
      "source": [
        "import numpy as np\n",
        "frame2.debt = np.arange(4)\n",
        "frame2.debt"
      ],
      "execution_count": 0,
      "outputs": []
    },
    {
      "cell_type": "code",
      "metadata": {
        "id": "yN-JdpHTCxYO",
        "colab_type": "code",
        "colab": {}
      },
      "source": [
        "frame2['eastern'] = frame['state'] == 'Ohio'\n",
        "frame2"
      ],
      "execution_count": 0,
      "outputs": []
    },
    {
      "cell_type": "code",
      "metadata": {
        "id": "x7dLjphWEjzH",
        "colab_type": "code",
        "colab": {}
      },
      "source": [
        "del frame2['eastern']\n",
        "frame2"
      ],
      "execution_count": 0,
      "outputs": []
    },
    {
      "cell_type": "code",
      "metadata": {
        "id": "gUwe3e6RHA0V",
        "colab_type": "code",
        "colab": {}
      },
      "source": [
        "frame2.columns"
      ],
      "execution_count": 0,
      "outputs": []
    },
    {
      "cell_type": "code",
      "metadata": {
        "id": "Afqn9WJOHfLV",
        "colab_type": "code",
        "colab": {}
      },
      "source": [
        "frame2.values"
      ],
      "execution_count": 0,
      "outputs": []
    },
    {
      "cell_type": "code",
      "metadata": {
        "id": "quJ-5JtQ9yzt",
        "colab_type": "code",
        "colab": {}
      },
      "source": [
        ""
      ],
      "execution_count": 0,
      "outputs": []
    },
    {
      "cell_type": "code",
      "metadata": {
        "id": "4Rojyk4WExqm",
        "colab_type": "code",
        "colab": {}
      },
      "source": [
        "frame2[['state','pop']]"
      ],
      "execution_count": 0,
      "outputs": []
    },
    {
      "cell_type": "code",
      "metadata": {
        "id": "y6r8vYZoIeUl",
        "colab_type": "code",
        "colab": {}
      },
      "source": [
        "frame2.loc[['one','two']]"
      ],
      "execution_count": 0,
      "outputs": []
    },
    {
      "cell_type": "code",
      "metadata": {
        "id": "2gnq69jgImQd",
        "colab_type": "code",
        "colab": {}
      },
      "source": [
        "frame2.iloc[[0,1]]"
      ],
      "execution_count": 0,
      "outputs": []
    },
    {
      "cell_type": "code",
      "metadata": {
        "id": "u2DE-zDv-GgG",
        "colab_type": "code",
        "colab": {}
      },
      "source": [
        "frame2.info()"
      ],
      "execution_count": 0,
      "outputs": []
    },
    {
      "cell_type": "code",
      "metadata": {
        "id": "__avkQ8C-PKb",
        "colab_type": "code",
        "colab": {}
      },
      "source": [
        "frame2.describe()"
      ],
      "execution_count": 0,
      "outputs": []
    },
    {
      "cell_type": "code",
      "metadata": {
        "id": "AXWk1nw0IpkF",
        "colab_type": "code",
        "colab": {}
      },
      "source": [
        "housing =pd.read_csv('/content/sample_data/california_housing_test.csv')"
      ],
      "execution_count": 0,
      "outputs": []
    },
    {
      "cell_type": "code",
      "metadata": {
        "id": "0T-p5FHYLj6M",
        "colab_type": "code",
        "colab": {}
      },
      "source": [
        "housing.to_csv('/content/sample_data/sampledata.csv', index=False)"
      ],
      "execution_count": 0,
      "outputs": []
    },
    {
      "cell_type": "markdown",
      "metadata": {
        "id": "TB7xeMrtNfFl",
        "colab_type": "text"
      },
      "source": [
        "# Pandas 주요 기능"
      ]
    },
    {
      "cell_type": "markdown",
      "metadata": {
        "id": "-NdsKng4UHJL",
        "colab_type": "text"
      },
      "source": [
        "##Series 색인, 선택, 자르기"
      ]
    },
    {
      "cell_type": "code",
      "metadata": {
        "id": "quYAXb1sSw2E",
        "colab_type": "code",
        "colab": {}
      },
      "source": [
        "import numpy as np"
      ],
      "execution_count": 0,
      "outputs": []
    },
    {
      "cell_type": "code",
      "metadata": {
        "id": "KQPAbzRRNifL",
        "colab_type": "code",
        "colab": {}
      },
      "source": [
        "obj = pd.Series(np.arange(5), index=['a','b','c','d','e'])\n",
        "obj"
      ],
      "execution_count": 0,
      "outputs": []
    },
    {
      "cell_type": "code",
      "metadata": {
        "id": "yR-UpIzlSMcN",
        "colab_type": "code",
        "colab": {}
      },
      "source": [
        "obj.drop('d')"
      ],
      "execution_count": 0,
      "outputs": []
    },
    {
      "cell_type": "code",
      "metadata": {
        "id": "6kyQcaw1S6Ys",
        "colab_type": "code",
        "colab": {}
      },
      "source": [
        "obj['d'] = 3"
      ],
      "execution_count": 0,
      "outputs": []
    },
    {
      "cell_type": "code",
      "metadata": {
        "id": "iWtIoGoETi-7",
        "colab_type": "code",
        "colab": {}
      },
      "source": [
        "obj['b']"
      ],
      "execution_count": 0,
      "outputs": []
    },
    {
      "cell_type": "code",
      "metadata": {
        "id": "-EVxwlpdTpqr",
        "colab_type": "code",
        "colab": {}
      },
      "source": [
        "obj[2:5]"
      ],
      "execution_count": 0,
      "outputs": []
    },
    {
      "cell_type": "code",
      "metadata": {
        "id": "Lp2egJgUTwRr",
        "colab_type": "code",
        "colab": {}
      },
      "source": [
        "obj[[1,3]]"
      ],
      "execution_count": 0,
      "outputs": []
    },
    {
      "cell_type": "code",
      "metadata": {
        "id": "biR0oAuzT-fs",
        "colab_type": "code",
        "colab": {}
      },
      "source": [
        "obj[obj <2]"
      ],
      "execution_count": 0,
      "outputs": []
    },
    {
      "cell_type": "code",
      "metadata": {
        "id": "yJ3aSnnkUAzE",
        "colab_type": "code",
        "colab": {}
      },
      "source": [
        "obj['b':'c']"
      ],
      "execution_count": 0,
      "outputs": []
    },
    {
      "cell_type": "markdown",
      "metadata": {
        "id": "fnMo9aftUDZs",
        "colab_type": "text"
      },
      "source": [
        "##Dataframe 색인, 선택, 자르기"
      ]
    },
    {
      "cell_type": "code",
      "metadata": {
        "id": "UH4SaSb9_cvj",
        "colab_type": "code",
        "colab": {}
      },
      "source": [
        "import numpy as np"
      ],
      "execution_count": 0,
      "outputs": []
    },
    {
      "cell_type": "code",
      "metadata": {
        "id": "4QCXE3ZuUXNk",
        "colab_type": "code",
        "colab": {}
      },
      "source": [
        "data = pd.DataFrame(np.arange(16).reshape((4,-1)),\n",
        "                    index=['Ohio', 'Colorado','Utah','NewYork'],\n",
        "                    columns=['one','two','three','four'])"
      ],
      "execution_count": 0,
      "outputs": []
    },
    {
      "cell_type": "code",
      "metadata": {
        "id": "WG54Jmcq_bXN",
        "colab_type": "code",
        "colab": {}
      },
      "source": [
        ""
      ],
      "execution_count": 0,
      "outputs": []
    },
    {
      "cell_type": "code",
      "metadata": {
        "id": "nwEjrCraWuO0",
        "colab_type": "code",
        "colab": {}
      },
      "source": [
        "data"
      ],
      "execution_count": 0,
      "outputs": []
    },
    {
      "cell_type": "code",
      "metadata": {
        "id": "DYXI9wVWWvYM",
        "colab_type": "code",
        "colab": {}
      },
      "source": [
        "data['two']"
      ],
      "execution_count": 0,
      "outputs": []
    },
    {
      "cell_type": "code",
      "metadata": {
        "id": "uzJDppuRXojk",
        "colab_type": "code",
        "colab": {}
      },
      "source": [
        "data[['three', 'one']]"
      ],
      "execution_count": 0,
      "outputs": []
    },
    {
      "cell_type": "code",
      "metadata": {
        "id": "Oz5Mhws4Xq_M",
        "colab_type": "code",
        "colab": {}
      },
      "source": [
        "data[:2]"
      ],
      "execution_count": 0,
      "outputs": []
    },
    {
      "cell_type": "code",
      "metadata": {
        "id": "aRLzsNzDXsHR",
        "colab_type": "code",
        "colab": {}
      },
      "source": [
        "data[data['three']>5]"
      ],
      "execution_count": 0,
      "outputs": []
    },
    {
      "cell_type": "code",
      "metadata": {
        "id": "9FU_1E2QXwJ2",
        "colab_type": "code",
        "colab": {}
      },
      "source": [
        "data.loc[['Colorado','Utah'],['two','three']]"
      ],
      "execution_count": 0,
      "outputs": []
    },
    {
      "cell_type": "code",
      "metadata": {
        "id": "gdxi7XSdX5L7",
        "colab_type": "code",
        "colab": {}
      },
      "source": [
        "data.loc[['Colorado','Utah']]"
      ],
      "execution_count": 0,
      "outputs": []
    },
    {
      "cell_type": "code",
      "metadata": {
        "id": "99Ly8qfuYm3D",
        "colab_type": "code",
        "colab": {}
      },
      "source": [
        "data"
      ],
      "execution_count": 0,
      "outputs": []
    },
    {
      "cell_type": "code",
      "metadata": {
        "id": "Naqu8ttaYw0L",
        "colab_type": "code",
        "colab": {}
      },
      "source": [
        "data.sort_index()"
      ],
      "execution_count": 0,
      "outputs": []
    },
    {
      "cell_type": "code",
      "metadata": {
        "id": "wGBso-WPZF7L",
        "colab_type": "code",
        "colab": {}
      },
      "source": [
        "data.sort_index(axis=1)"
      ],
      "execution_count": 0,
      "outputs": []
    },
    {
      "cell_type": "code",
      "metadata": {
        "id": "SEwwigmQ_rD6",
        "colab_type": "code",
        "colab": {}
      },
      "source": [
        "data.sort_values(by='one')"
      ],
      "execution_count": 0,
      "outputs": []
    },
    {
      "cell_type": "code",
      "metadata": {
        "id": "mQp0ROgEZJXU",
        "colab_type": "code",
        "colab": {}
      },
      "source": [
        "data.sort_values(by='one', ascending=True)"
      ],
      "execution_count": 0,
      "outputs": []
    },
    {
      "cell_type": "code",
      "metadata": {
        "id": "NhzeCPBo_1t7",
        "colab_type": "code",
        "colab": {}
      },
      "source": [
        "help(data.sort_values)"
      ],
      "execution_count": 0,
      "outputs": []
    },
    {
      "cell_type": "code",
      "metadata": {
        "id": "CzkDpobQ_oEb",
        "colab_type": "code",
        "colab": {}
      },
      "source": [
        "|"
      ],
      "execution_count": 0,
      "outputs": []
    },
    {
      "cell_type": "code",
      "metadata": {
        "id": "Ue19xrk6Zqp0",
        "colab_type": "code",
        "colab": {}
      },
      "source": [
        "data.sort_values(by=['one','two'], ascending=False)"
      ],
      "execution_count": 0,
      "outputs": []
    },
    {
      "cell_type": "markdown",
      "metadata": {
        "id": "0Q3UHbHAaMo7",
        "colab_type": "text"
      },
      "source": [
        "## 기술통계 계산 및 요약"
      ]
    },
    {
      "cell_type": "code",
      "metadata": {
        "id": "6WsbxQbta7Pe",
        "colab_type": "code",
        "colab": {}
      },
      "source": [
        "data.sum(axis=1)"
      ],
      "execution_count": 0,
      "outputs": []
    },
    {
      "cell_type": "code",
      "metadata": {
        "id": "yRS8XB1Ya-5L",
        "colab_type": "code",
        "colab": {}
      },
      "source": [
        "data.sum(axis=0)"
      ],
      "execution_count": 0,
      "outputs": []
    },
    {
      "cell_type": "code",
      "metadata": {
        "id": "Yi14g8EubBQ0",
        "colab_type": "code",
        "colab": {}
      },
      "source": [
        "data.sum(axis=1)"
      ],
      "execution_count": 0,
      "outputs": []
    },
    {
      "cell_type": "code",
      "metadata": {
        "id": "dQBxavnEbCtH",
        "colab_type": "code",
        "colab": {}
      },
      "source": [
        "data.describe()"
      ],
      "execution_count": 0,
      "outputs": []
    },
    {
      "cell_type": "code",
      "metadata": {
        "id": "AT8hoZ0JbOZD",
        "colab_type": "code",
        "colab": {}
      },
      "source": [
        "data.idxmax()"
      ],
      "execution_count": 0,
      "outputs": []
    },
    {
      "cell_type": "code",
      "metadata": {
        "id": "7HGL7NpuAmzq",
        "colab_type": "code",
        "colab": {}
      },
      "source": [
        "data.idxmin()"
      ],
      "execution_count": 0,
      "outputs": []
    },
    {
      "cell_type": "markdown",
      "metadata": {
        "id": "znKEnfglbuLr",
        "colab_type": "text"
      },
      "source": [
        "#계층적 색인"
      ]
    },
    {
      "cell_type": "code",
      "metadata": {
        "id": "Pxn-p_uxcMtR",
        "colab_type": "code",
        "colab": {}
      },
      "source": [
        "data = pd.Series(np.random.randn(10), \n",
        "                 index=[['a','a','a','b','b','b','c','c','d','d'],\n",
        "                        [1,2,3,1,2,3,1,2,2,3]])"
      ],
      "execution_count": 0,
      "outputs": []
    },
    {
      "cell_type": "code",
      "metadata": {
        "id": "7enCVv7UlX5y",
        "colab_type": "code",
        "colab": {}
      },
      "source": [
        "data"
      ],
      "execution_count": 0,
      "outputs": []
    },
    {
      "cell_type": "code",
      "metadata": {
        "id": "Aduxm6PnlZ76",
        "colab_type": "code",
        "colab": {}
      },
      "source": [
        "data.index"
      ],
      "execution_count": 0,
      "outputs": []
    },
    {
      "cell_type": "code",
      "metadata": {
        "id": "1cwJU05MthFF",
        "colab_type": "code",
        "colab": {}
      },
      "source": [
        "data['b']"
      ],
      "execution_count": 0,
      "outputs": []
    },
    {
      "cell_type": "code",
      "metadata": {
        "id": "bNEoNtKmlwiK",
        "colab_type": "code",
        "colab": {}
      },
      "source": [
        "data.loc[['b','d']]"
      ],
      "execution_count": 0,
      "outputs": []
    },
    {
      "cell_type": "code",
      "metadata": {
        "id": "Z35hMB8jJOwp",
        "colab_type": "code",
        "colab": {}
      },
      "source": [
        "data['a',1]"
      ],
      "execution_count": 0,
      "outputs": []
    },
    {
      "cell_type": "code",
      "metadata": {
        "id": "C7Khlykel-y7",
        "colab_type": "code",
        "colab": {}
      },
      "source": [
        "data[:,1]"
      ],
      "execution_count": 0,
      "outputs": []
    },
    {
      "cell_type": "code",
      "metadata": {
        "id": "roEl6Pmfmlnb",
        "colab_type": "code",
        "colab": {}
      },
      "source": [
        "data.unstack()"
      ],
      "execution_count": 0,
      "outputs": []
    },
    {
      "cell_type": "code",
      "metadata": {
        "id": "vgKu7rvKmu6i",
        "colab_type": "code",
        "colab": {}
      },
      "source": [
        "data.unstack().stack()"
      ],
      "execution_count": 0,
      "outputs": []
    },
    {
      "cell_type": "markdown",
      "metadata": {
        "id": "BX_gf_zed0s6",
        "colab_type": "text"
      },
      "source": [
        "#데이터 변형을 위한 함수 적용"
      ]
    },
    {
      "cell_type": "markdown",
      "metadata": {
        "id": "e0SkXy5Ad66L",
        "colab_type": "text"
      },
      "source": [
        "##apply"
      ]
    },
    {
      "cell_type": "code",
      "metadata": {
        "id": "HNRijW8sd-_p",
        "colab_type": "code",
        "colab": {}
      },
      "source": [
        "series_data = pd.Series(np.arange(0, 5))\n",
        "series_data"
      ],
      "execution_count": 0,
      "outputs": []
    },
    {
      "cell_type": "code",
      "metadata": {
        "id": "41yqeCdheIjh",
        "colab_type": "code",
        "colab": {}
      },
      "source": [
        "seires_data.apply(lambda x: x*2)"
      ],
      "execution_count": 0,
      "outputs": []
    },
    {
      "cell_type": "code",
      "metadata": {
        "id": "qAFtsuaOgOZb",
        "colab_type": "code",
        "colab": {}
      },
      "source": [
        "df = pd.DataFrame(np.arange(12).reshape(4, 3), columns=['a','b','c'])\n",
        "df"
      ],
      "execution_count": 0,
      "outputs": []
    },
    {
      "cell_type": "code",
      "metadata": {
        "id": "31JcAPsFg-85",
        "colab_type": "code",
        "colab": {}
      },
      "source": [
        "df.apply(lambda col: col.sum())"
      ],
      "execution_count": 0,
      "outputs": []
    },
    {
      "cell_type": "code",
      "metadata": {
        "id": "mmGiHHEghGMg",
        "colab_type": "code",
        "colab": {}
      },
      "source": [
        "df.apply(lambda row: row.sum(), axis=1)"
      ],
      "execution_count": 0,
      "outputs": []
    },
    {
      "cell_type": "code",
      "metadata": {
        "id": "Q3X5j36Hh6xx",
        "colab_type": "code",
        "colab": {}
      },
      "source": [
        "df['interim'] = df.apply(lambda x: x['a'] * x['b'], axis=1)\n",
        "df"
      ],
      "execution_count": 0,
      "outputs": []
    },
    {
      "cell_type": "code",
      "metadata": {
        "id": "KVdWHKjgiFth",
        "colab_type": "code",
        "colab": {}
      },
      "source": [
        "df.applymap(lambda x: '%.2f' %x)"
      ],
      "execution_count": 0,
      "outputs": []
    },
    {
      "cell_type": "markdown",
      "metadata": {
        "id": "8oaE0kz0OQF1",
        "colab_type": "text"
      },
      "source": [
        "#병합과 조인"
      ]
    },
    {
      "cell_type": "markdown",
      "metadata": {
        "id": "ioCO6cBPP9R7",
        "colab_type": "text"
      },
      "source": [
        "##일대일 조인"
      ]
    },
    {
      "cell_type": "code",
      "metadata": {
        "id": "RG7sykCDPIMs",
        "colab_type": "code",
        "colab": {}
      },
      "source": [
        "df1 = pd.DataFrame({'employee': ['Bob', 'Jake', 'Lisa', 'Sue'], 'group': ['Accounting', 'Engineering', 'Engineering', 'HR']})"
      ],
      "execution_count": 0,
      "outputs": []
    },
    {
      "cell_type": "code",
      "metadata": {
        "id": "x29i3FzyPaqD",
        "colab_type": "code",
        "colab": {}
      },
      "source": [
        "df2 = pd.DataFrame({'employee': ['Lisa', 'Bob', 'Jake', 'Sue'], 'hire_date': [2004, 2008, 2012, 2014]})"
      ],
      "execution_count": 0,
      "outputs": []
    },
    {
      "cell_type": "code",
      "metadata": {
        "id": "jpH4cwrWPiVl",
        "colab_type": "code",
        "colab": {}
      },
      "source": [
        "df1"
      ],
      "execution_count": 0,
      "outputs": []
    },
    {
      "cell_type": "code",
      "metadata": {
        "id": "DlMOiUkDPlai",
        "colab_type": "code",
        "colab": {}
      },
      "source": [
        "df2"
      ],
      "execution_count": 0,
      "outputs": []
    },
    {
      "cell_type": "code",
      "metadata": {
        "id": "anTtwS-oPmeK",
        "colab_type": "code",
        "colab": {}
      },
      "source": [
        "df3 = pd.merge(df1, df2)"
      ],
      "execution_count": 0,
      "outputs": []
    },
    {
      "cell_type": "code",
      "metadata": {
        "id": "d7hT8Q8CP29J",
        "colab_type": "code",
        "colab": {}
      },
      "source": [
        "df3"
      ],
      "execution_count": 0,
      "outputs": []
    },
    {
      "cell_type": "markdown",
      "metadata": {
        "id": "UdYBr2AbP3gK",
        "colab_type": "text"
      },
      "source": [
        "##다대일 조인"
      ]
    },
    {
      "cell_type": "code",
      "metadata": {
        "id": "-yvpyy9QQHFm",
        "colab_type": "code",
        "colab": {}
      },
      "source": [
        "df4 = pd.DataFrame({'group': ['Accounting', 'Engineering', 'HR'], 'supervisor': ['Carly', 'Guido', 'Steve']})"
      ],
      "execution_count": 0,
      "outputs": []
    },
    {
      "cell_type": "code",
      "metadata": {
        "id": "8bLMb1f0Qr0m",
        "colab_type": "code",
        "colab": {}
      },
      "source": [
        "df4"
      ],
      "execution_count": 0,
      "outputs": []
    },
    {
      "cell_type": "code",
      "metadata": {
        "id": "lD5UtK2CQxoP",
        "colab_type": "code",
        "colab": {}
      },
      "source": [
        "pd.merge(df3, df4)"
      ],
      "execution_count": 0,
      "outputs": []
    },
    {
      "cell_type": "markdown",
      "metadata": {
        "id": "PlSGD4T-p9si",
        "colab_type": "text"
      },
      "source": [
        "## 다대다조인"
      ]
    },
    {
      "cell_type": "code",
      "metadata": {
        "id": "gvu-n_4bQ-XX",
        "colab_type": "code",
        "colab": {}
      },
      "source": [
        "df5 = pd.DataFrame({'group': ['Accounting', 'Accounting', 'Engineering', 'Engineering', 'HR', 'HR'], \n",
        "                    'skills': ['math', 'spreadsheets', 'coding', 'linux', 'spreadsheets', 'organization']})"
      ],
      "execution_count": 0,
      "outputs": []
    },
    {
      "cell_type": "code",
      "metadata": {
        "id": "Uzf6diaIRWqc",
        "colab_type": "code",
        "colab": {}
      },
      "source": [
        "pd.merge(df1, df5)"
      ],
      "execution_count": 0,
      "outputs": []
    },
    {
      "cell_type": "markdown",
      "metadata": {
        "id": "LAdWQBD7Rd4n",
        "colab_type": "text"
      },
      "source": [
        "## 키를 활용한 조인"
      ]
    },
    {
      "cell_type": "code",
      "metadata": {
        "id": "EC4yI2i1qPoB",
        "colab_type": "code",
        "colab": {}
      },
      "source": [
        "pd.merge(df1, df2, on='employee')"
      ],
      "execution_count": 0,
      "outputs": []
    },
    {
      "cell_type": "code",
      "metadata": {
        "id": "NeaTdlalqVXH",
        "colab_type": "code",
        "colab": {}
      },
      "source": [
        "df3 = pd.DataFrame({'name': ['Bob', 'Jake', 'Lisa', 'Sue'], 'salary': [70000, 80000, 120000, 90000]})"
      ],
      "execution_count": 0,
      "outputs": []
    },
    {
      "cell_type": "code",
      "metadata": {
        "id": "KCrz-kYtqr34",
        "colab_type": "code",
        "colab": {}
      },
      "source": [
        "pd.merge(df1, df3, left_on ='employee', right_on='name')"
      ],
      "execution_count": 0,
      "outputs": []
    },
    {
      "cell_type": "code",
      "metadata": {
        "id": "lOyRKUzmrEUY",
        "colab_type": "code",
        "colab": {}
      },
      "source": [
        "pd.merge(df1, df3, left_on ='employee', right_on='name').drop('name', axis=1)"
      ],
      "execution_count": 0,
      "outputs": []
    },
    {
      "cell_type": "code",
      "metadata": {
        "id": "jJiKIfVhq1MK",
        "colab_type": "code",
        "colab": {}
      },
      "source": [
        "df1a = df1.set_index('employee')"
      ],
      "execution_count": 0,
      "outputs": []
    },
    {
      "cell_type": "code",
      "metadata": {
        "id": "SC76KGvordj8",
        "colab_type": "code",
        "colab": {}
      },
      "source": [
        "df2a = df2.set_index('employee')"
      ],
      "execution_count": 0,
      "outputs": []
    },
    {
      "cell_type": "code",
      "metadata": {
        "id": "DV2CowE8rw2I",
        "colab_type": "code",
        "colab": {}
      },
      "source": [
        "df1a"
      ],
      "execution_count": 0,
      "outputs": []
    },
    {
      "cell_type": "code",
      "metadata": {
        "id": "Yxn1s5BYrxhQ",
        "colab_type": "code",
        "colab": {}
      },
      "source": [
        "df2a"
      ],
      "execution_count": 0,
      "outputs": []
    },
    {
      "cell_type": "code",
      "metadata": {
        "id": "4JgyoAkyryag",
        "colab_type": "code",
        "colab": {}
      },
      "source": [
        "pd.merge(df1a, df2a, left_index=True, right_index=True)"
      ],
      "execution_count": 0,
      "outputs": []
    },
    {
      "cell_type": "markdown",
      "metadata": {
        "id": "sVHqQMl2tseP",
        "colab_type": "text"
      },
      "source": [
        "##조인- Inner, outer "
      ]
    },
    {
      "cell_type": "code",
      "metadata": {
        "id": "CzDrZPaWsDAA",
        "colab_type": "code",
        "colab": {}
      },
      "source": [
        "df6 = pd.DataFrame({'name': ['Peter', 'Paul', 'Mary'], 'food': ['fish', 'beans', 'bread']},columns=['name', 'food'])\n",
        "df7 = pd.DataFrame({'name': ['Mary', 'Joseph'], 'drink': ['wine', 'beer']}, columns=['name', 'drink'])"
      ],
      "execution_count": 0,
      "outputs": []
    },
    {
      "cell_type": "code",
      "metadata": {
        "id": "Y11G8AM4sHxX",
        "colab_type": "code",
        "colab": {}
      },
      "source": [
        "pd.merge(df6, df7,how='inner')"
      ],
      "execution_count": 0,
      "outputs": []
    },
    {
      "cell_type": "code",
      "metadata": {
        "id": "Y3pkH3KbukQ_",
        "colab_type": "code",
        "colab": {}
      },
      "source": [
        "pd.merge(df6, df7,how='outer')"
      ],
      "execution_count": 0,
      "outputs": []
    },
    {
      "cell_type": "code",
      "metadata": {
        "id": "PRpYeZINumev",
        "colab_type": "code",
        "colab": {}
      },
      "source": [
        "pd.merge(df6, df7,how='left')"
      ],
      "execution_count": 0,
      "outputs": []
    },
    {
      "cell_type": "code",
      "metadata": {
        "id": "qgBH7khbuoZn",
        "colab_type": "code",
        "colab": {}
      },
      "source": [
        "pd.merge(df6, df7,how='right')"
      ],
      "execution_count": 0,
      "outputs": []
    },
    {
      "cell_type": "markdown",
      "metadata": {
        "id": "wUq-XOBnuuND",
        "colab_type": "text"
      },
      "source": [
        "##조인 - 기타"
      ]
    },
    {
      "cell_type": "code",
      "metadata": {
        "id": "ZRlwp9CwwxfV",
        "colab_type": "code",
        "colab": {}
      },
      "source": [
        "eng = pd.DataFrame({'name': ['Bob', 'Jake', 'Lisa', 'Sue'], 'rank': [1, 2, 3, 4]})\n",
        "math = pd.DataFrame({'name': ['Bob', 'Jake', 'Lisa', 'Sue'], 'rank': [3, 1, 4, 2]})"
      ],
      "execution_count": 0,
      "outputs": []
    },
    {
      "cell_type": "code",
      "metadata": {
        "id": "gag4YqCfw7A3",
        "colab_type": "code",
        "colab": {}
      },
      "source": [
        "pd.merge(eng, math, on='name')"
      ],
      "execution_count": 0,
      "outputs": []
    },
    {
      "cell_type": "code",
      "metadata": {
        "id": "0i23DqKxw6mx",
        "colab_type": "code",
        "colab": {}
      },
      "source": [
        "pd.merge(eng, math, on='name', suffixes=['_eng', '_math'])"
      ],
      "execution_count": 0,
      "outputs": []
    },
    {
      "cell_type": "markdown",
      "metadata": {
        "id": "5smKGi4yxQYw",
        "colab_type": "text"
      },
      "source": [
        "#데이터 분석 예"
      ]
    },
    {
      "cell_type": "code",
      "metadata": {
        "id": "m6pNLyjjxd_4",
        "colab_type": "code",
        "colab": {}
      },
      "source": [
        "import seaborn as sns\n",
        "titanic = sns.load_dataset('titanic')"
      ],
      "execution_count": 0,
      "outputs": []
    },
    {
      "cell_type": "code",
      "metadata": {
        "id": "yVt3_o_Ay0va",
        "colab_type": "code",
        "colab": {}
      },
      "source": [
        "type(titanic)"
      ],
      "execution_count": 0,
      "outputs": []
    },
    {
      "cell_type": "code",
      "metadata": {
        "id": "dB47jJi2ygJB",
        "colab_type": "code",
        "colab": {}
      },
      "source": [
        "titanic.head()"
      ],
      "execution_count": 0,
      "outputs": []
    },
    {
      "cell_type": "code",
      "metadata": {
        "id": "yrqW7H2O2eyR",
        "colab_type": "code",
        "colab": {}
      },
      "source": [
        "titanic.groupby('sex').ngroups"
      ],
      "execution_count": 0,
      "outputs": []
    },
    {
      "cell_type": "code",
      "metadata": {
        "id": "xN1QxU2VyhGf",
        "colab_type": "code",
        "colab": {}
      },
      "source": [
        "titanic.groupby('sex').size()"
      ],
      "execution_count": 0,
      "outputs": []
    },
    {
      "cell_type": "code",
      "metadata": {
        "id": "-bM6SKWpytwH",
        "colab_type": "code",
        "colab": {}
      },
      "source": [
        "titanic.groupby('sex').count()"
      ],
      "execution_count": 0,
      "outputs": []
    },
    {
      "cell_type": "code",
      "metadata": {
        "id": "EDJKpV7x3OrY",
        "colab_type": "code",
        "colab": {}
      },
      "source": [
        "titanic.groupby('sex').describe()"
      ],
      "execution_count": 0,
      "outputs": []
    },
    {
      "cell_type": "code",
      "metadata": {
        "id": "9Rhvi_fd3my3",
        "colab_type": "code",
        "colab": {}
      },
      "source": [
        "titanic.groupby('sex').mean()"
      ],
      "execution_count": 0,
      "outputs": []
    },
    {
      "cell_type": "code",
      "metadata": {
        "id": "4UHPd_Vu4Q1N",
        "colab_type": "code",
        "colab": {}
      },
      "source": [
        "import numpy as np\n",
        "titanic.groupby('sex').agg(np.mean)\n"
      ],
      "execution_count": 0,
      "outputs": []
    },
    {
      "cell_type": "code",
      "metadata": {
        "id": "jfikm9nF4_9n",
        "colab_type": "code",
        "colab": {}
      },
      "source": [
        "titanic.groupby('sex').agg([np.mean, np.std])"
      ],
      "execution_count": 0,
      "outputs": []
    },
    {
      "cell_type": "markdown",
      "metadata": {
        "id": "fa8-OJHJ6Zjy",
        "colab_type": "text"
      },
      "source": [
        "#피봇 테이블"
      ]
    },
    {
      "cell_type": "code",
      "metadata": {
        "id": "NlLM8KOl7rKA",
        "colab_type": "code",
        "colab": {}
      },
      "source": [
        "titanic.columns"
      ],
      "execution_count": 0,
      "outputs": []
    },
    {
      "cell_type": "code",
      "metadata": {
        "id": "Zi5u0K7T7gIF",
        "colab_type": "code",
        "colab": {}
      },
      "source": [
        "titanic.pivot_table('survived', index='sex', columns='class')"
      ],
      "execution_count": 0,
      "outputs": []
    },
    {
      "cell_type": "code",
      "metadata": {
        "id": "dX_LbpnEOfSo",
        "colab_type": "code",
        "colab": {}
      },
      "source": [
        "titanic['survived'][titanic['class'] == 'First'].count()"
      ],
      "execution_count": 0,
      "outputs": []
    },
    {
      "cell_type": "code",
      "metadata": {
        "id": "QHCwXYbiPsPI",
        "colab_type": "code",
        "colab": {}
      },
      "source": [
        "titanic['survived'][(titanic['class'] == 'First') & (titanic['sex'] == 'female')].count()"
      ],
      "execution_count": 0,
      "outputs": []
    },
    {
      "cell_type": "code",
      "metadata": {
        "id": "HYI3-9akQWvs",
        "colab_type": "code",
        "colab": {}
      },
      "source": [
        "titanic['survived'][(titanic['class'] == 'First') & (titanic['sex'] == 'female') & (titanic['survived'] == 1)].count()"
      ],
      "execution_count": 0,
      "outputs": []
    },
    {
      "cell_type": "code",
      "metadata": {
        "id": "V84pnXwZ8ge2",
        "colab_type": "code",
        "colab": {}
      },
      "source": [
        "import pandas as pd\n",
        "age=pd.cut(titanic['age'],[0,18,80])\n",
        "age"
      ],
      "execution_count": 0,
      "outputs": []
    },
    {
      "cell_type": "code",
      "metadata": {
        "id": "IcSErLurMZiC",
        "colab_type": "code",
        "colab": {}
      },
      "source": [
        "titanic.pivot_table('survived',index=['sex', age], columns='class')"
      ],
      "execution_count": 0,
      "outputs": []
    },
    {
      "cell_type": "code",
      "metadata": {
        "id": "UlnMlVPzMhUJ",
        "colab_type": "code",
        "colab": {}
      },
      "source": [
        "fare = pd.qcut(titanic['fare'], 2)\n",
        "fare"
      ],
      "execution_count": 0,
      "outputs": []
    },
    {
      "cell_type": "code",
      "metadata": {
        "id": "MbvnB-cESCSp",
        "colab_type": "code",
        "colab": {}
      },
      "source": [
        "pd.value_counts(age)"
      ],
      "execution_count": 0,
      "outputs": []
    },
    {
      "cell_type": "code",
      "metadata": {
        "id": "R1wmoN0fS89C",
        "colab_type": "code",
        "colab": {}
      },
      "source": [
        "pd.value_counts(fare)"
      ],
      "execution_count": 0,
      "outputs": []
    },
    {
      "cell_type": "code",
      "metadata": {
        "id": "tG-8yrVYURUQ",
        "colab_type": "code",
        "colab": {}
      },
      "source": [
        "titanic.pivot_table('survived', index=['sex', age], columns=[fare,'class'])"
      ],
      "execution_count": 0,
      "outputs": []
    },
    {
      "cell_type": "code",
      "metadata": {
        "id": "jUEJNbSqTFXA",
        "colab_type": "code",
        "colab": {}
      },
      "source": [
        "titanic.pivot_table(index='sex', columns='class', aggfunc={'survived':np.mean, 'fare':np.sum})"
      ],
      "execution_count": 0,
      "outputs": []
    },
    {
      "cell_type": "code",
      "metadata": {
        "id": "5O-qSF3w6uh5",
        "colab_type": "code",
        "colab": {}
      },
      "source": [
        "titanic.pivot_table(index='sex', columns='class', aggfunc={'survived':np.mean, 'fare':np.mean})"
      ],
      "execution_count": 0,
      "outputs": []
    },
    {
      "cell_type": "code",
      "metadata": {
        "id": "9YhDuOp4ypFX",
        "colab_type": "code",
        "colab": {}
      },
      "source": [
        "type(titanic)"
      ],
      "execution_count": 0,
      "outputs": []
    }
  ]
}