{
  "nbformat": 4,
  "nbformat_minor": 0,
  "metadata": {
    "colab": {
      "name": "Textmining_5 - NER.ipynb",
      "provenance": [],
      "private_outputs": true,
      "collapsed_sections": [
        "M6LsmXmvZuyp",
        "dX1P8I9DaW-B",
        "_D7RGIb5abjB",
        "6tWi5g4aZ5Ja",
        "jpk5eS9qafyB",
        "3v528ogWeffl"
      ],
      "include_colab_link": true
    },
    "kernelspec": {
      "name": "python3",
      "display_name": "Python 3"
    }
  },
  "cells": [
    {
      "cell_type": "markdown",
      "metadata": {
        "id": "view-in-github",
        "colab_type": "text"
      },
      "source": [
        "<a href=\"https://colab.research.google.com/github/bjh5098/Social-Network-Analysis-and-Text-Mining/blob/master/Textmining_5_NER.ipynb\" target=\"_parent\"><img src=\"https://colab.research.google.com/assets/colab-badge.svg\" alt=\"Open In Colab\"/></a>"
      ]
    },
    {
      "cell_type": "markdown",
      "metadata": {
        "id": "-2Df7hOuZnyZ",
        "colab_type": "text"
      },
      "source": [
        "#Spacy를 활용한 NER"
      ]
    },
    {
      "cell_type": "markdown",
      "metadata": {
        "id": "vCWp2BvrZsMA",
        "colab_type": "text"
      },
      "source": [
        "## NER 기초"
      ]
    },
    {
      "cell_type": "code",
      "metadata": {
        "id": "FR1VHiT4PbAQ",
        "colab_type": "code",
        "colab": {}
      },
      "source": [
        "import spacy"
      ],
      "execution_count": 0,
      "outputs": []
    },
    {
      "cell_type": "code",
      "metadata": {
        "id": "vMgMnFEQSenK",
        "colab_type": "code",
        "colab": {}
      },
      "source": [
        "sentence = 'Rome is the capital of Italy'"
      ],
      "execution_count": 0,
      "outputs": []
    },
    {
      "cell_type": "code",
      "metadata": {
        "id": "SLcIdnx3SjWx",
        "colab_type": "code",
        "colab": {}
      },
      "source": [
        "nlp = spacy.load('en')"
      ],
      "execution_count": 0,
      "outputs": []
    },
    {
      "cell_type": "code",
      "metadata": {
        "id": "82wgsDjgSmNh",
        "colab_type": "code",
        "colab": {}
      },
      "source": [
        "doc = nlp(sentence)"
      ],
      "execution_count": 0,
      "outputs": []
    },
    {
      "cell_type": "code",
      "metadata": {
        "id": "98rIFRC3SozB",
        "colab_type": "code",
        "colab": {}
      },
      "source": [
        "for ent in doc.ents:\n",
        "    print(ent.text, ent.start_char, ent.end_char, ent.label_)"
      ],
      "execution_count": 0,
      "outputs": []
    },
    {
      "cell_type": "code",
      "metadata": {
        "id": "yGtjnbXSS0MZ",
        "colab_type": "code",
        "colab": {}
      },
      "source": [
        "from spacy import displacy\n",
        "displacy.render(doc, style='ent', jupyter=True)"
      ],
      "execution_count": 0,
      "outputs": []
    },
    {
      "cell_type": "markdown",
      "metadata": {
        "id": "M6LsmXmvZuyp",
        "colab_type": "text"
      },
      "source": [
        "## NER 태깅"
      ]
    },
    {
      "cell_type": "code",
      "metadata": {
        "id": "1W5fN8D4aAya",
        "colab_type": "code",
        "colab": {}
      },
      "source": [
        "import spacy\n",
        "nlp = spacy.load('en')"
      ],
      "execution_count": 0,
      "outputs": []
    },
    {
      "cell_type": "code",
      "metadata": {
        "id": "L07tBMOxaFLS",
        "colab_type": "code",
        "colab": {}
      },
      "source": [
        "sent_0 = nlp(u'Donald Trump visited at the government headquarters in France today.')\n",
        "sent_1 = nlp(u'Emmanuel Jean-Michel Frédéric Macron is a French politician serving as President of France and ex officio Co-Prince of Andorra since 14 May 2017.')\n",
        "sent_2 = nlp(u'He studied philosophy at Paris Nanterre University, completed a Master’s of Public Affairs at Sciences Po, and graduated from the École nationale d\\'administration (ÉNA) in 2004. ')\n",
        "sent_3 = nlp(u'He worked at the Inspectorate General of Finances, and later became an investment banker at Rothschild & Cie Banque.')"
      ],
      "execution_count": 0,
      "outputs": []
    },
    {
      "cell_type": "markdown",
      "metadata": {
        "id": "dX1P8I9DaW-B",
        "colab_type": "text"
      },
      "source": [
        "###***sent_0***"
      ]
    },
    {
      "cell_type": "code",
      "metadata": {
        "id": "UhoYd8eQaC1J",
        "colab_type": "code",
        "colab": {}
      },
      "source": [
        "for token in sent_0:\n",
        "    print(token.text, token.ent_type_)"
      ],
      "execution_count": 0,
      "outputs": []
    },
    {
      "cell_type": "code",
      "metadata": {
        "id": "RbPwruUzaTNu",
        "colab_type": "code",
        "colab": {}
      },
      "source": [
        "for ent in sent_0.ents:\n",
        "    print(ent.text, ent.label_)"
      ],
      "execution_count": 0,
      "outputs": []
    },
    {
      "cell_type": "markdown",
      "metadata": {
        "id": "_D7RGIb5abjB",
        "colab_type": "text"
      },
      "source": [
        "###***sent_1***"
      ]
    },
    {
      "cell_type": "code",
      "metadata": {
        "id": "PEK8x7MyaAIB",
        "colab_type": "code",
        "colab": {}
      },
      "source": [
        "for token in sent_1:\n",
        "    print(token.text, token.ent_type_)"
      ],
      "execution_count": 0,
      "outputs": []
    },
    {
      "cell_type": "code",
      "metadata": {
        "id": "FKkYAb5LZ_Wh",
        "colab_type": "code",
        "colab": {}
      },
      "source": [
        "for ent in sent_1.ents:\n",
        "    print(ent.text, ent.label_)"
      ],
      "execution_count": 0,
      "outputs": []
    },
    {
      "cell_type": "markdown",
      "metadata": {
        "id": "6tWi5g4aZ5Ja",
        "colab_type": "text"
      },
      "source": [
        "###***sent_2***"
      ]
    },
    {
      "cell_type": "code",
      "metadata": {
        "id": "pjI1YwpYae1J",
        "colab_type": "code",
        "colab": {}
      },
      "source": [
        "for token in sent_2:\n",
        "    print(token.text, token.ent_type_)"
      ],
      "execution_count": 0,
      "outputs": []
    },
    {
      "cell_type": "code",
      "metadata": {
        "id": "90GyhvNNadYh",
        "colab_type": "code",
        "colab": {}
      },
      "source": [
        "for ent in sent_2.ents:\n",
        "    print(ent.text, ent.label_)"
      ],
      "execution_count": 0,
      "outputs": []
    },
    {
      "cell_type": "markdown",
      "metadata": {
        "id": "jpk5eS9qafyB",
        "colab_type": "text"
      },
      "source": [
        "###***sent_3***"
      ]
    },
    {
      "cell_type": "code",
      "metadata": {
        "id": "q5syY3a-ag2R",
        "colab_type": "code",
        "colab": {}
      },
      "source": [
        "for token in sent_3:\n",
        "    print(token.text, token.ent_type_)"
      ],
      "execution_count": 0,
      "outputs": []
    },
    {
      "cell_type": "code",
      "metadata": {
        "id": "A_CPKLraahAB",
        "colab_type": "code",
        "colab": {}
      },
      "source": [
        "for ent in sent_3.ents:\n",
        "    print(ent.text, ent.label_)"
      ],
      "execution_count": 0,
      "outputs": []
    },
    {
      "cell_type": "markdown",
      "metadata": {
        "id": "3v528ogWeffl",
        "colab_type": "text"
      },
      "source": [
        "## 개체명 인식기 학습"
      ]
    },
    {
      "cell_type": "code",
      "metadata": {
        "id": "wl-T48n_ehrq",
        "colab_type": "code",
        "colab": {}
      },
      "source": [
        "import random\n",
        "from pathlib import Path\n",
        "import spacy"
      ],
      "execution_count": 0,
      "outputs": []
    },
    {
      "cell_type": "code",
      "metadata": {
        "id": "bDA0WXeaelXz",
        "colab_type": "code",
        "colab": {}
      },
      "source": [
        "# 개체명 인식기 학습용 데이터\n",
        "TRAIN_DATA = [\n",
        "    ('Who is Shaka Khan?', {\n",
        "        'entities': [(7, 17, 'PERSON')]\n",
        "    }),\n",
        "    ('I like London and Berlin.', {\n",
        "        'entities': [(7, 13, 'LOC'), (18, 24, 'LOC')]\n",
        "    })\n",
        "]"
      ],
      "execution_count": 0,
      "outputs": []
    },
    {
      "cell_type": "code",
      "metadata": {
        "id": "4nJ1IrMgeo-S",
        "colab_type": "code",
        "colab": {}
      },
      "source": [
        "def main(model=None, output_dir='/content', n_iter=100):\n",
        "    \"\"\"Load the model, set up the pipeline and train the entity recognizer.\"\"\"\n",
        "    if model is not None:\n",
        "        nlp = spacy.load(model)  # 기존 spacy 개체명 인식 모델 로드\n",
        "        print(\"Loaded model '%s'\" % model)\n",
        "    else:\n",
        "        nlp = spacy.blank('en')  # 비어 있는 새로운 spacy 언어 모델 생성\n",
        "        print(\"Created blank 'en' model\")\n",
        "\n",
        "    \"\"\" 내장 파이프라인 구성 요소를 생성하고 파이프라인에 추가, 'ner'이 없는 경우\n",
        "         spacy에 등록된 내장 기능을 위해 동작 \"\"\"\n",
        "    if 'ner' not in nlp.pipe_names:\n",
        "        ner = nlp.create_pipe('ner')\n",
        "        nlp.add_pipe(ner, last=True)\n",
        "    # 개체명 라벨을 추가하기 위해 'ner' 불러오기\n",
        "    else:\n",
        "        ner = nlp.get_pipe('ner')\n",
        "\n",
        "    # 개체명 라벨 추가\n",
        "    for _, annotations in TRAIN_DATA:\n",
        "        for ent in annotations.get('entities'):\n",
        "            ner.add_label(ent[2])\n",
        "\n",
        "    # 개체명 인식기의 학습 동안 사용하지 않을 파이프라인 비활성화\n",
        "    other_pipes = [pipe for pipe in nlp.pipe_names if pipe != 'ner']\n",
        "    with nlp.disable_pipes(*other_pipes):  # NER 만 훈련\n",
        "        optimizer = nlp.begin_training()\n",
        "        for itn in range(n_iter):\n",
        "            random.shuffle(TRAIN_DATA)\n",
        "            losses = {}\n",
        "            for text, annotations in TRAIN_DATA:\n",
        "                nlp.update(\n",
        "                    [text],  # 텍스트 batch\n",
        "                    [annotations],  # 개체명 뭉치\n",
        "                    drop=0.5,  # 드롭아웃 비율\n",
        "                    sgd=optimizer,  # 옵티마이저 함수\n",
        "                    losses=losses)\n",
        "            print(losses)\n",
        "\n",
        "    # 훈련 모델의 테스트\n",
        "    for text, _ in TRAIN_DATA:\n",
        "        doc = nlp(text)\n",
        "        print('Entities', [(ent.text, ent.label_) for ent in doc.ents])\n",
        "        print('Tokens', [(t.text, t.ent_type_, t.ent_iob) for t in doc])\n",
        "\n",
        "    # 모델 저장\n",
        "    if output_dir is not None:\n",
        "        output_dir = Path(output_dir)\n",
        "        if not output_dir.exists():\n",
        "            output_dir.mkdir()\n",
        "        nlp.to_disk(output_dir)\n",
        "        print(\"Saved model to\", output_dir)"
      ],
      "execution_count": 0,
      "outputs": []
    },
    {
      "cell_type": "code",
      "metadata": {
        "id": "ohbmhUbmfemB",
        "colab_type": "code",
        "colab": {}
      },
      "source": [
        "main()"
      ],
      "execution_count": 0,
      "outputs": []
    },
    {
      "cell_type": "code",
      "metadata": {
        "id": "Ikv8f4MUf5ip",
        "colab_type": "code",
        "colab": {}
      },
      "source": [
        "# 저장된 개체명 인식 모델 불러오기, 활용\n",
        "print(\"Loading from\", '/content')\n",
        "nlp2 = spacy.load('/content')\n",
        "for text, _ in TRAIN_DATA:\n",
        "    doc = nlp2(text)\n",
        "    print('Entities', [(ent.text, ent.label_) for ent in doc.ents])\n",
        "    print('Tokens', [(t.text, t.ent_type_, t.ent_iob) for t in doc])"
      ],
      "execution_count": 0,
      "outputs": []
    },
    {
      "cell_type": "markdown",
      "metadata": {
        "id": "87k5umttkZz7",
        "colab_type": "text"
      },
      "source": [
        "##개체명 인식기 예제 및 시각화"
      ]
    },
    {
      "cell_type": "markdown",
      "metadata": {
        "id": "vBn4mnjEqfIq",
        "colab_type": "text"
      },
      "source": [
        "###Elom Must"
      ]
    },
    {
      "cell_type": "code",
      "metadata": {
        "id": "jI04w2G5kff5",
        "colab_type": "code",
        "colab": {}
      },
      "source": [
        "Elon = \"Elon Musk apparently wasn’t aware that his company SpaceX had a Facebook page. The SpaceX and Tesla CEO has responded to a comment on Twitter calling for him to take down the SpaceX, Tesla and Elon Musk official pages in support of the #deletefacebook movement by first acknowledging he didn’t know one existed, and then following up with promises that he would indeed take them down. He’s done just that, as the SpaceX Facebook page is now gone, after having been live earlier today (as you can see from the screenshot included taken at around 12:10 PM ET).\""
      ],
      "execution_count": 0,
      "outputs": []
    },
    {
      "cell_type": "code",
      "metadata": {
        "id": "oF3Jno2elNDC",
        "colab_type": "code",
        "colab": {}
      },
      "source": [
        "Elon"
      ],
      "execution_count": 0,
      "outputs": []
    },
    {
      "cell_type": "code",
      "metadata": {
        "id": "ZwPxBEgdkerK",
        "colab_type": "code",
        "colab": {}
      },
      "source": [
        "import spacy\n",
        "nlp = spacy.load('en')"
      ],
      "execution_count": 0,
      "outputs": []
    },
    {
      "cell_type": "code",
      "metadata": {
        "id": "GJmw1895lXDK",
        "colab_type": "code",
        "colab": {}
      },
      "source": [
        "doc = nlp(Elon)"
      ],
      "execution_count": 0,
      "outputs": []
    },
    {
      "cell_type": "code",
      "metadata": {
        "id": "hzMi036YlZAK",
        "colab_type": "code",
        "colab": {}
      },
      "source": [
        "for ent in doc.ents:\n",
        "    print(ent.text, ent.start_char, ent.end_char, ent.label_)"
      ],
      "execution_count": 0,
      "outputs": []
    },
    {
      "cell_type": "code",
      "metadata": {
        "id": "VjWqgNBelWDK",
        "colab_type": "code",
        "colab": {}
      },
      "source": [
        "from spacy import displacy\n",
        "displacy.render(doc, style='ent', jupyter=True)"
      ],
      "execution_count": 0,
      "outputs": []
    },
    {
      "cell_type": "markdown",
      "metadata": {
        "id": "aMjBaDD9p176",
        "colab_type": "text"
      },
      "source": [
        "###Wiki - Band"
      ]
    },
    {
      "cell_type": "code",
      "metadata": {
        "id": "w_qNoVoXn34_",
        "colab_type": "code",
        "colab": {}
      },
      "source": [
        "wiki = open(\"wiki_band.txt\", encoding='utf-8').read()"
      ],
      "execution_count": 0,
      "outputs": []
    },
    {
      "cell_type": "code",
      "metadata": {
        "id": "SCdlDmrrpdBV",
        "colab_type": "code",
        "colab": {}
      },
      "source": [
        "wiki"
      ],
      "execution_count": 0,
      "outputs": []
    },
    {
      "cell_type": "code",
      "metadata": {
        "id": "rryjzoEMoWtK",
        "colab_type": "code",
        "colab": {}
      },
      "source": [
        "doc = nlp(wiki)"
      ],
      "execution_count": 0,
      "outputs": []
    },
    {
      "cell_type": "code",
      "metadata": {
        "id": "DeAJYtQQphvL",
        "colab_type": "code",
        "colab": {}
      },
      "source": [
        "for ent in doc.ents:\n",
        "    print(ent.text, ent.start_char, ent.end_char, ent.label_)"
      ],
      "execution_count": 0,
      "outputs": []
    },
    {
      "cell_type": "code",
      "metadata": {
        "id": "5_vrS0Vhn80R",
        "colab_type": "code",
        "colab": {}
      },
      "source": [
        "from spacy import displacy\n",
        "displacy.render(doc, style='ent', jupyter=True)"
      ],
      "execution_count": 0,
      "outputs": []
    },
    {
      "cell_type": "markdown",
      "metadata": {
        "id": "n0WSURuiS0tR",
        "colab_type": "text"
      },
      "source": [
        "#NLTK를 활용한 NER"
      ]
    },
    {
      "cell_type": "code",
      "metadata": {
        "id": "4ozRvGbdYHSx",
        "colab_type": "code",
        "colab": {}
      },
      "source": [
        "import nltk\n",
        "from nltk import ne_chunk, pos_tag, word_tokenize\n",
        "from nltk.chunk import conlltags2tree, tree2conlltags"
      ],
      "execution_count": 0,
      "outputs": []
    },
    {
      "cell_type": "code",
      "metadata": {
        "id": "KbCU5ah-YGl6",
        "colab_type": "code",
        "colab": {}
      },
      "source": [
        "nltk.download('punkt')\n",
        "nltk.download('averaged_perceptron_tagger')\n",
        "nltk.download('maxent_ne_chunker')\n",
        "nltk.download('words')"
      ],
      "execution_count": 0,
      "outputs": []
    },
    {
      "cell_type": "code",
      "metadata": {
        "id": "Yqk7mt5BXmuS",
        "colab_type": "code",
        "colab": {}
      },
      "source": [
        "sentence = \"Clement and Mathieu are working at Apple.\"\n",
        "ne_tree = ne_chunk(pos_tag(word_tokenize(sentence)))\n",
        " \n",
        "iob_tagged = tree2conlltags(ne_tree)\n",
        "print(iob_tagged)"
      ],
      "execution_count": 0,
      "outputs": []
    },
    {
      "cell_type": "code",
      "metadata": {
        "id": "KJ5bCStoXnap",
        "colab_type": "code",
        "colab": {}
      },
      "source": [
        "ne_tree = conlltags2tree(iob_tagged)\n",
        "print(ne_tree)"
      ],
      "execution_count": 0,
      "outputs": []
    },
    {
      "cell_type": "code",
      "metadata": {
        "id": "VJHvsAjgYbU5",
        "colab_type": "code",
        "colab": {}
      },
      "source": [
        "from nltk.tag import StanfordNERTagger\n",
        "st = StanfordNERTagger('/content/english.all.3class.distsim.crf.ser.gz',  '/content/stanford-ner.jar', encoding='utf-8')"
      ],
      "execution_count": 0,
      "outputs": []
    },
    {
      "cell_type": "code",
      "metadata": {
        "id": "ovR0n78JYW76",
        "colab_type": "code",
        "colab": {}
      },
      "source": [
        "st.tag('Baptiste Capdeville is studying at Columbia University in NY'.split())"
      ],
      "execution_count": 0,
      "outputs": []
    }
  ]
}