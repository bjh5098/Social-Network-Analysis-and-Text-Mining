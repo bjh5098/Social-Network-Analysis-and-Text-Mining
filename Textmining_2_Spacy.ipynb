{
  "nbformat": 4,
  "nbformat_minor": 0,
  "metadata": {
    "colab": {
      "name": "Textmining_2 - Spacy.ipynb",
      "provenance": [],
      "private_outputs": true,
      "collapsed_sections": [
        "8mrMYZfmg6u2",
        "oqi7XGuhsGrP",
        "MDDPTVxosRf-",
        "ugsopUQ9sWF-",
        "S89tBhAlL_RL",
        "ao5q1YBDQnVF",
        "5Pf9y4KbWHmE"
      ],
      "include_colab_link": true
    },
    "kernelspec": {
      "name": "python3",
      "display_name": "Python 3"
    }
  },
  "cells": [
    {
      "cell_type": "markdown",
      "metadata": {
        "id": "view-in-github",
        "colab_type": "text"
      },
      "source": [
        "<a href=\"https://colab.research.google.com/github/bjh5098/Social-Network-Analysis-and-Text-Mining/blob/master/Textmining_2_Spacy.ipynb\" target=\"_parent\"><img src=\"https://colab.research.google.com/assets/colab-badge.svg\" alt=\"Open In Colab\"/></a>"
      ]
    },
    {
      "cell_type": "markdown",
      "metadata": {
        "id": "Whki1rOPPhq4",
        "colab_type": "text"
      },
      "source": [
        "# Spacy 시작"
      ]
    },
    {
      "cell_type": "markdown",
      "metadata": {
        "id": "aY4CP01iPnMI",
        "colab_type": "text"
      },
      "source": [
        "***설치 방법***\n",
        "*   pip install -U spacy\n",
        "*   conda install -c conda-forge spacy\n",
        "\n",
        "***언어 모델 설치***\n",
        "*   python -m spacy download en(영어 모델) or de, ex, fr xx(다국어)\n",
        "*   python -m spacy download en_core_web_sm"
      ]
    },
    {
      "cell_type": "markdown",
      "metadata": {
        "id": "qLjz9tjjMQBp",
        "colab_type": "text"
      },
      "source": [
        "## Spacy 언어 모델"
      ]
    },
    {
      "cell_type": "code",
      "metadata": {
        "id": "jQZ_CfviIv85",
        "colab_type": "code",
        "colab": {}
      },
      "source": [
        "import spacy\n",
        "nlp = spacy.load('en')"
      ],
      "execution_count": 0,
      "outputs": []
    },
    {
      "cell_type": "code",
      "metadata": {
        "id": "YHZuqgz4f29Z",
        "colab_type": "code",
        "colab": {}
      },
      "source": [
        "doc = nlp('this is a sentence')"
      ],
      "execution_count": 0,
      "outputs": []
    },
    {
      "cell_type": "code",
      "metadata": {
        "id": "K1Xp5z_pGIFS",
        "colab_type": "code",
        "colab": {}
      },
      "source": [
        "doc"
      ],
      "execution_count": 0,
      "outputs": []
    },
    {
      "cell_type": "code",
      "metadata": {
        "id": "WYZjY-77F25-",
        "colab_type": "code",
        "colab": {}
      },
      "source": [
        "print(type(doc))"
      ],
      "execution_count": 0,
      "outputs": []
    },
    {
      "cell_type": "code",
      "metadata": {
        "id": "aOn2Zt-nGCRp",
        "colab_type": "code",
        "colab": {}
      },
      "source": [
        "print(list(doc))"
      ],
      "execution_count": 0,
      "outputs": []
    },
    {
      "cell_type": "code",
      "metadata": {
        "id": "8xLWz2nWMkJ5",
        "colab_type": "code",
        "colab": {}
      },
      "source": [
        "doc[0]"
      ],
      "execution_count": 0,
      "outputs": []
    },
    {
      "cell_type": "code",
      "metadata": {
        "id": "TgBS5oAaf9hW",
        "colab_type": "code",
        "colab": {}
      },
      "source": [
        "doc[0].text"
      ],
      "execution_count": 0,
      "outputs": []
    },
    {
      "cell_type": "markdown",
      "metadata": {
        "id": "cvAPvWrFgtdj",
        "colab_type": "text"
      },
      "source": [
        "##Spacy 언어모델 기본 파이프라인(pipeline) - 전처리"
      ]
    },
    {
      "cell_type": "markdown",
      "metadata": {
        "id": "8mrMYZfmg6u2",
        "colab_type": "text"
      },
      "source": [
        "### Tokeonization"
      ]
    },
    {
      "cell_type": "code",
      "metadata": {
        "id": "lCwX4cbiNOzO",
        "colab_type": "code",
        "colab": {}
      },
      "source": [
        "import spacy\n",
        "nlp = spacy.load('en')"
      ],
      "execution_count": 0,
      "outputs": []
    },
    {
      "cell_type": "code",
      "metadata": {
        "id": "mnY61tMSNKlw",
        "colab_type": "code",
        "colab": {}
      },
      "source": [
        "sentence = \"Let's go to N.Y.!\""
      ],
      "execution_count": 0,
      "outputs": []
    },
    {
      "cell_type": "code",
      "metadata": {
        "id": "sU0t--gSNTQw",
        "colab_type": "code",
        "colab": {}
      },
      "source": [
        "doc = nlp(sentence)"
      ],
      "execution_count": 0,
      "outputs": []
    },
    {
      "cell_type": "code",
      "metadata": {
        "id": "vxAAXRG8f_fe",
        "colab_type": "code",
        "colab": {}
      },
      "source": [
        "for token in doc:\n",
        "    print(token)"
      ],
      "execution_count": 0,
      "outputs": []
    },
    {
      "cell_type": "markdown",
      "metadata": {
        "id": "oqi7XGuhsGrP",
        "colab_type": "text"
      },
      "source": [
        "### Part-of-Speech Tagging, POS Tagging"
      ]
    },
    {
      "cell_type": "code",
      "metadata": {
        "id": "fbBraXDwsRJU",
        "colab_type": "code",
        "colab": {}
      },
      "source": [
        "for token in doc:\n",
        "    print(token.text, token.pos_)"
      ],
      "execution_count": 0,
      "outputs": []
    },
    {
      "cell_type": "markdown",
      "metadata": {
        "id": "MDDPTVxosRf-",
        "colab_type": "text"
      },
      "source": [
        "### 파싱(Parsing) - 의존 구문 분석(Dependency parsing)"
      ]
    },
    {
      "cell_type": "code",
      "metadata": {
        "id": "shLDmyMYsV2m",
        "colab_type": "code",
        "colab": {}
      },
      "source": [
        "doc = nlp('Microsoft has offices all over Europe and U.K.')\n",
        "for token in doc:\n",
        "    print(token.text, token.dep_)"
      ],
      "execution_count": 0,
      "outputs": []
    },
    {
      "cell_type": "code",
      "metadata": {
        "id": "vZ98y_pioCNP",
        "colab_type": "code",
        "colab": {}
      },
      "source": [
        "from spacy import displacy\n",
        "displacy.render(doc, style='dep', jupyter=True)"
      ],
      "execution_count": 0,
      "outputs": []
    },
    {
      "cell_type": "markdown",
      "metadata": {
        "id": "ugsopUQ9sWF-",
        "colab_type": "text"
      },
      "source": [
        "### 개체명 인식(Named Entity Recognition, NER)"
      ]
    },
    {
      "cell_type": "markdown",
      "metadata": {
        "id": "1JahB4mSM3W0",
        "colab_type": "text"
      },
      "source": [
        "*   PERSON: 사람(실제, 허구 포함)\n",
        "*   NORP: 민족, 종교 또는 정치 그룹\n",
        "*   FACLITY: 건물, 공항, 고속도록 교량과 같은 시설\n",
        "*   ORG: 기업, 단체 기관과 같은 조직\n",
        "*   GPE: 국가, 도시, 주 등과 같은 지역명\n",
        "*   LOC: GPE 이외의 산맥, 수역 등과 같은 지역의 유형\n",
        "*   PROCUCT: 객체, 차량, 식품 등과 같은 서비스를 제외한 제품\n",
        "*   EVENT: 허리케인(이름 있는), 전투, 전쟁, 스포츠 행사와 같은 이벤트\n",
        "*   WORK_OF_ART: 책, 노래 등과 같은 예술의 제목\n",
        "*   LAW: 법에 의해 명명된 문서\n",
        "*   LANGUAGE: 이름 지어진 모든 언어"
      ]
    },
    {
      "cell_type": "code",
      "metadata": {
        "id": "PmR4piCksadP",
        "colab_type": "code",
        "colab": {}
      },
      "source": [
        "for ent in doc.ents:\n",
        "    print(ent.text, ent.start_char, ent.end_char, ent.label_)"
      ],
      "execution_count": 0,
      "outputs": []
    },
    {
      "cell_type": "code",
      "metadata": {
        "id": "NhrQKmaNorim",
        "colab_type": "code",
        "colab": {}
      },
      "source": [
        "from spacy import displacy\n",
        "displacy.render(doc, style='ent', jupyter=True)"
      ],
      "execution_count": 0,
      "outputs": []
    },
    {
      "cell_type": "markdown",
      "metadata": {
        "id": "S89tBhAlL_RL",
        "colab_type": "text"
      },
      "source": [
        "### 기타 스파이시 토큰 속성"
      ]
    },
    {
      "cell_type": "markdown",
      "metadata": {
        "id": "0SDATtDEW8h8",
        "colab_type": "text"
      },
      "source": [
        "***표제어***"
      ]
    },
    {
      "cell_type": "code",
      "metadata": {
        "id": "DOzZAHKYGeLK",
        "colab_type": "code",
        "colab": {}
      },
      "source": [
        "doc[0].lemma_"
      ],
      "execution_count": 0,
      "outputs": []
    },
    {
      "cell_type": "markdown",
      "metadata": {
        "id": "rlQqrk6dW_U0",
        "colab_type": "text"
      },
      "source": [
        "***품사 태그 약식***"
      ]
    },
    {
      "cell_type": "code",
      "metadata": {
        "id": "xPKW-Mn1GlPg",
        "colab_type": "code",
        "colab": {}
      },
      "source": [
        "doc[0].pos_"
      ],
      "execution_count": 0,
      "outputs": []
    },
    {
      "cell_type": "markdown",
      "metadata": {
        "id": "RD9raPDFXFPE",
        "colab_type": "text"
      },
      "source": [
        "***품사 태그 상세***"
      ]
    },
    {
      "cell_type": "code",
      "metadata": {
        "id": "2uaChK5oGoMh",
        "colab_type": "code",
        "colab": {}
      },
      "source": [
        "doc[0].tag_"
      ],
      "execution_count": 0,
      "outputs": []
    },
    {
      "cell_type": "markdown",
      "metadata": {
        "id": "RTQEaQGHXH1r",
        "colab_type": "text"
      },
      "source": [
        "***의존 관계***"
      ]
    },
    {
      "cell_type": "code",
      "metadata": {
        "id": "uGuRjiEdGtha",
        "colab_type": "code",
        "colab": {}
      },
      "source": [
        "doc[0].dep_"
      ],
      "execution_count": 0,
      "outputs": []
    },
    {
      "cell_type": "markdown",
      "metadata": {
        "id": "jK1JhXklXREr",
        "colab_type": "text"
      },
      "source": [
        "***단어 대소문자, 기호, 숫자 여부***"
      ]
    },
    {
      "cell_type": "code",
      "metadata": {
        "id": "3N6KhWppGjKo",
        "colab_type": "code",
        "colab": {}
      },
      "source": [
        "doc[0].shape_"
      ],
      "execution_count": 0,
      "outputs": []
    },
    {
      "cell_type": "markdown",
      "metadata": {
        "id": "yJ3ZRz9SXW3E",
        "colab_type": "text"
      },
      "source": [
        "***단어가 알파벳만 포함되었는지 확인***"
      ]
    },
    {
      "cell_type": "code",
      "metadata": {
        "id": "Ym9deOLTGYd5",
        "colab_type": "code",
        "colab": {}
      },
      "source": [
        "doc[0].is_alpha"
      ],
      "execution_count": 0,
      "outputs": []
    },
    {
      "cell_type": "markdown",
      "metadata": {
        "id": "Yki5F3hcXiGE",
        "colab_type": "text"
      },
      "source": [
        "***단어가 불용어(stopword)인지 확인***"
      ]
    },
    {
      "cell_type": "code",
      "metadata": {
        "id": "HlvqNP-fG7yR",
        "colab_type": "code",
        "colab": {}
      },
      "source": [
        "doc[0].is_stop"
      ],
      "execution_count": 0,
      "outputs": []
    },
    {
      "cell_type": "markdown",
      "metadata": {
        "id": "ao5q1YBDQnVF",
        "colab_type": "text"
      },
      "source": [
        "## 텍스트 전처리(Pre-processing)"
      ]
    },
    {
      "cell_type": "markdown",
      "metadata": {
        "id": "5Pf9y4KbWHmE",
        "colab_type": "text"
      },
      "source": [
        "### 어간 추출(Stemming) - NLTK"
      ]
    },
    {
      "cell_type": "code",
      "metadata": {
        "id": "uDsbPMQIWSuC",
        "colab_type": "code",
        "colab": {}
      },
      "source": [
        "import nltk\n",
        "from nltk.stem.porter import *"
      ],
      "execution_count": 0,
      "outputs": []
    },
    {
      "cell_type": "code",
      "metadata": {
        "id": "G0Yn6B4uXyEq",
        "colab_type": "code",
        "colab": {}
      },
      "source": [
        "stemmer = PorterStemmer()"
      ],
      "execution_count": 0,
      "outputs": []
    },
    {
      "cell_type": "code",
      "metadata": {
        "id": "a6DkPs1hXsXH",
        "colab_type": "code",
        "colab": {}
      },
      "source": [
        "tokens = ['compute', 'computer', 'computed', 'computing']"
      ],
      "execution_count": 0,
      "outputs": []
    },
    {
      "cell_type": "code",
      "metadata": {
        "id": "SFoTlqGdYRpi",
        "colab_type": "code",
        "colab": {}
      },
      "source": [
        "for token in tokens:\n",
        "    print(token + ' --> ' + stemmer.stem(token))"
      ],
      "execution_count": 0,
      "outputs": []
    },
    {
      "cell_type": "markdown",
      "metadata": {
        "id": "5l-wVQW2WMcM",
        "colab_type": "text"
      },
      "source": [
        "### 표제어 추출(Lemmatization)"
      ]
    },
    {
      "cell_type": "code",
      "metadata": {
        "id": "W91bdYvZWRPO",
        "colab_type": "code",
        "colab": {}
      },
      "source": [
        "doc = nlp('compute computer computed computing')"
      ],
      "execution_count": 0,
      "outputs": []
    },
    {
      "cell_type": "code",
      "metadata": {
        "id": "jzdNyZtAW-j-",
        "colab_type": "code",
        "colab": {}
      },
      "source": [
        "for w in doc:\n",
        "    print(w.text + ' ---> ' + w.lemma_)"
      ],
      "execution_count": 0,
      "outputs": []
    },
    {
      "cell_type": "code",
      "metadata": {
        "id": "nbO4CShhYzDS",
        "colab_type": "code",
        "colab": {}
      },
      "source": [
        "doc = nlp('A letter has been written, asking him to be released')\n",
        "for word in doc:\n",
        "    print(word.text + ' --->', word.lemma_)"
      ],
      "execution_count": 0,
      "outputs": []
    },
    {
      "cell_type": "markdown",
      "metadata": {
        "id": "KZccYEt0RcY5",
        "colab_type": "text"
      },
      "source": [
        "### 불용어(sotpwords) 제거"
      ]
    },
    {
      "cell_type": "code",
      "metadata": {
        "id": "htKzyeiCQsBC",
        "colab_type": "code",
        "colab": {}
      },
      "source": [
        "import spacy\n",
        "spacy_stopwords = spacy.lang.en.stop_words.STOP_WORDS"
      ],
      "execution_count": 0,
      "outputs": []
    },
    {
      "cell_type": "code",
      "metadata": {
        "id": "5PD_VOi_Q7Xq",
        "colab_type": "code",
        "colab": {}
      },
      "source": [
        "print(len(spacy_stopwords))\n",
        "print(list(spacy_stopwords)[:10])"
      ],
      "execution_count": 0,
      "outputs": []
    },
    {
      "cell_type": "code",
      "metadata": {
        "id": "TymNpFoySpiK",
        "colab_type": "code",
        "colab": {}
      },
      "source": [
        "doc = nlp('the horse galloped down the field and past the river.')"
      ],
      "execution_count": 0,
      "outputs": []
    },
    {
      "cell_type": "code",
      "metadata": {
        "id": "UhLQTuR0Sxb5",
        "colab_type": "code",
        "colab": {}
      },
      "source": [
        "sentence =[]\n",
        "for w in doc:\n",
        "    if not w.is_stop and not w.is_punct and not w.like_num:\n",
        "        sentence.append(w.lemma_)"
      ],
      "execution_count": 0,
      "outputs": []
    },
    {
      "cell_type": "code",
      "metadata": {
        "id": "zJwrcEICSy4B",
        "colab_type": "code",
        "colab": {}
      },
      "source": [
        "print(sentence)"
      ],
      "execution_count": 0,
      "outputs": []
    },
    {
      "cell_type": "markdown",
      "metadata": {
        "id": "kZYzM2iyRjwq",
        "colab_type": "text"
      },
      "source": [
        "####불용어 용어집 수정"
      ]
    },
    {
      "cell_type": "code",
      "metadata": {
        "id": "CIxKJEfrRryi",
        "colab_type": "code",
        "colab": {}
      },
      "source": [
        "spacy.lang.en.stop_words.STOP_WORDS.add('kim')"
      ],
      "execution_count": 0,
      "outputs": []
    },
    {
      "cell_type": "code",
      "metadata": {
        "id": "yBtt9_Z2R3QJ",
        "colab_type": "code",
        "colab": {}
      },
      "source": [
        "print(len(spacy_stopwords))"
      ],
      "execution_count": 0,
      "outputs": []
    },
    {
      "cell_type": "code",
      "metadata": {
        "id": "oHF0Dq7dSK_C",
        "colab_type": "code",
        "colab": {}
      },
      "source": [
        "print(list(spacy_stopwords).index('kim'))"
      ],
      "execution_count": 0,
      "outputs": []
    },
    {
      "cell_type": "code",
      "metadata": {
        "id": "3FPyWrBgSN4p",
        "colab_type": "code",
        "colab": {}
      },
      "source": [
        "print(list(spacy_stopwords)[147])"
      ],
      "execution_count": 0,
      "outputs": []
    }
  ]
}