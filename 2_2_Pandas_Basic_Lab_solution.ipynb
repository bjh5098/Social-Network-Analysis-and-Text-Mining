{
  "nbformat": 4,
  "nbformat_minor": 0,
  "metadata": {
    "colab": {
      "name": "2_2_Pandas Basic_Lab solution.ipynb",
      "provenance": [],
      "private_outputs": true,
      "collapsed_sections": [
        "DidsDKsE_-Gr"
      ],
      "include_colab_link": true
    },
    "kernelspec": {
      "name": "python3",
      "display_name": "Python 3"
    }
  },
  "cells": [
    {
      "cell_type": "markdown",
      "metadata": {
        "id": "view-in-github",
        "colab_type": "text"
      },
      "source": [
        "<a href=\"https://colab.research.google.com/github/bjh5098/Social-Network-Analysis-and-Text-Mining/blob/master/2_2_Pandas_Basic_Lab_solution.ipynb\" target=\"_parent\"><img src=\"https://colab.research.google.com/assets/colab-badge.svg\" alt=\"Open In Colab\"/></a>"
      ]
    },
    {
      "cell_type": "code",
      "metadata": {
        "id": "Kq02UafEVC29",
        "colab_type": "code",
        "colab": {}
      },
      "source": [
        "import numpy as np\n",
        "import pandas as pd"
      ],
      "execution_count": 0,
      "outputs": []
    },
    {
      "cell_type": "code",
      "metadata": {
        "id": "kUDfQcFYVJ0W",
        "colab_type": "code",
        "colab": {}
      },
      "source": [
        "pop = pd.read_csv('/content/population.csv', encoding='cp949',engine='python')"
      ],
      "execution_count": 0,
      "outputs": []
    },
    {
      "cell_type": "code",
      "metadata": {
        "id": "BPW8ltB7GBhA",
        "colab_type": "code",
        "colab": {}
      },
      "source": [
        "pop.columns"
      ],
      "execution_count": 0,
      "outputs": []
    },
    {
      "cell_type": "code",
      "metadata": {
        "id": "_8vugQ61XToI",
        "colab_type": "code",
        "colab": {}
      },
      "source": [
        "pop.drop('Unnamed: 0', axis=1, inplace=True)\n",
        "pop.drop('SexRatio', axis=1, inplace=True)"
      ],
      "execution_count": 0,
      "outputs": []
    },
    {
      "cell_type": "code",
      "metadata": {
        "id": "erCIb_btGUtv",
        "colab_type": "code",
        "colab": {}
      },
      "source": [
        "pop.SexRatio = 1"
      ],
      "execution_count": 0,
      "outputs": []
    },
    {
      "cell_type": "code",
      "metadata": {
        "id": "x1VGopf8eoby",
        "colab_type": "code",
        "colab": {}
      },
      "source": [
        "pop.City.values"
      ],
      "execution_count": 0,
      "outputs": []
    },
    {
      "cell_type": "code",
      "metadata": {
        "id": "9llk4pT6gqd_",
        "colab_type": "code",
        "colab": {}
      },
      "source": [
        "pop.tail(10)"
      ],
      "execution_count": 0,
      "outputs": []
    },
    {
      "cell_type": "code",
      "metadata": {
        "id": "2MBdC06WXfko",
        "colab_type": "code",
        "colab": {}
      },
      "source": [
        "pop.describe()"
      ],
      "execution_count": 0,
      "outputs": []
    },
    {
      "cell_type": "code",
      "metadata": {
        "id": "GZyTz4bKYiOP",
        "colab_type": "code",
        "colab": {}
      },
      "source": [
        "pop['City'] = pop['City'].apply(lambda x: x.strip())"
      ],
      "execution_count": 0,
      "outputs": []
    },
    {
      "cell_type": "code",
      "metadata": {
        "id": "Bmi44MrmYxff",
        "colab_type": "code",
        "colab": {}
      },
      "source": [
        "pop.loc[pop['City'] =='성동구']"
      ],
      "execution_count": 0,
      "outputs": []
    },
    {
      "cell_type": "code",
      "metadata": {
        "id": "XosR39sxZp5C",
        "colab_type": "code",
        "colab": {}
      },
      "source": [
        "pop[pop['City'] =='성동구']['Female']/pop[pop['City'] =='성동구']['Male']"
      ],
      "execution_count": 0,
      "outputs": []
    },
    {
      "cell_type": "code",
      "metadata": {
        "id": "LQOxxJuRe-Xf",
        "colab_type": "code",
        "colab": {}
      },
      "source": [
        "female = pop.loc[pop['City'] =='성동구','Female']\n",
        "male = pop.loc[pop['City'] =='성동구','Male']\n",
        "female/male"
      ],
      "execution_count": 0,
      "outputs": []
    },
    {
      "cell_type": "code",
      "metadata": {
        "id": "W0Fxa0k3fNEX",
        "colab_type": "code",
        "colab": {}
      },
      "source": [
        "pop['SexRatio'] = round(pop['Female']/pop['Male'],2)"
      ],
      "execution_count": 0,
      "outputs": []
    },
    {
      "cell_type": "code",
      "metadata": {
        "id": "mGTmwUyxirN2",
        "colab_type": "code",
        "colab": {}
      },
      "source": [
        "pop[pop['SexRatio'] < 1]"
      ],
      "execution_count": 0,
      "outputs": []
    },
    {
      "cell_type": "code",
      "metadata": {
        "id": "2Jzem8YLf8N-",
        "colab_type": "code",
        "colab": {}
      },
      "source": [
        "pop[pop['SexRatio'] > 1]"
      ],
      "execution_count": 0,
      "outputs": []
    },
    {
      "cell_type": "code",
      "metadata": {
        "id": "hy2sS1c5iwae",
        "colab_type": "code",
        "colab": {}
      },
      "source": [
        "pop[pop['SexRatio'] == 1]"
      ],
      "execution_count": 0,
      "outputs": []
    },
    {
      "cell_type": "code",
      "metadata": {
        "id": "JQWXeB86i684",
        "colab_type": "code",
        "colab": {}
      },
      "source": [
        "pop.loc[pop['SexRatio'] < 1, 'Provinces'].values"
      ],
      "execution_count": 0,
      "outputs": []
    },
    {
      "cell_type": "code",
      "metadata": {
        "id": "DG82ub8Bf7cf",
        "colab_type": "code",
        "colab": {}
      },
      "source": [
        "pop.loc[pop['SexRatio'] < 1, 'Provinces'].unique()"
      ],
      "execution_count": 0,
      "outputs": []
    },
    {
      "cell_type": "code",
      "metadata": {
        "id": "QnxT8Wb7ic7X",
        "colab_type": "code",
        "colab": {}
      },
      "source": [
        "pop.loc[pop['SexRatio'] < 1, 'Provinces'].value_counts()"
      ],
      "execution_count": 0,
      "outputs": []
    },
    {
      "cell_type": "code",
      "metadata": {
        "id": "RB6EOnKDja0m",
        "colab_type": "code",
        "colab": {}
      },
      "source": [
        "pop.sort_values(by=['Population','PersInHou'], ascending=False)"
      ],
      "execution_count": 0,
      "outputs": []
    },
    {
      "cell_type": "code",
      "metadata": {
        "id": "CAWrrrxqwl1t",
        "colab_type": "code",
        "colab": {}
      },
      "source": [
        "pop_sum =pd.DataFrame({'Population_sum':pop.groupby('Provinces')['Population'].sum()})\n",
        "pop_sum"
      ],
      "execution_count": 0,
      "outputs": []
    },
    {
      "cell_type": "code",
      "metadata": {
        "id": "lcice13Ezxl8",
        "colab_type": "code",
        "colab": {}
      },
      "source": [
        "house_sum =pd.DataFrame({'Households_sum':pop.groupby('Provinces')['Households'].sum()})\n",
        "house_sum"
      ],
      "execution_count": 0,
      "outputs": []
    },
    {
      "cell_type": "code",
      "metadata": {
        "id": "QmSUlwAozLfN",
        "colab_type": "code",
        "colab": {}
      },
      "source": [
        "persinhou_mean =pd.DataFrame({'PersInHou_mean':pop.groupby('Provinces')['PersInHou'].mean()})\n",
        "persinhou_mean"
      ],
      "execution_count": 0,
      "outputs": []
    },
    {
      "cell_type": "code",
      "metadata": {
        "id": "HsG1Dx8Fy2g1",
        "colab_type": "code",
        "colab": {}
      },
      "source": [
        "sexratio_mean =pd.DataFrame({'SexRatio_mean':pop.groupby('Provinces')['SexRatio'].mean()})\n",
        "sexratio_mean"
      ],
      "execution_count": 0,
      "outputs": []
    },
    {
      "cell_type": "code",
      "metadata": {
        "id": "9rbPbqAC1LB8",
        "colab_type": "code",
        "colab": {}
      },
      "source": [
        "#new_pop = pd.merge(pop_sum, house_sum, left_index=True, right_index=True)\n",
        "new_pop = pd.merge(pop_sum, house_sum, on='Provinces')\n",
        "new_pop"
      ],
      "execution_count": 0,
      "outputs": []
    },
    {
      "cell_type": "code",
      "metadata": {
        "id": "6jHm-96M2iM8",
        "colab_type": "code",
        "colab": {}
      },
      "source": [
        "new_pop = pd.merge(new_pop, persinhou_mean, on='Provinces')\n",
        "new_pop"
      ],
      "execution_count": 0,
      "outputs": []
    },
    {
      "cell_type": "code",
      "metadata": {
        "id": "B4eoYTeR2wVi",
        "colab_type": "code",
        "colab": {}
      },
      "source": [
        "new_pop = pd.merge(new_pop, sexratio_mean, on='Provinces')"
      ],
      "execution_count": 0,
      "outputs": []
    },
    {
      "cell_type": "code",
      "metadata": {
        "id": "oHQ1KRjy33h4",
        "colab_type": "code",
        "colab": {}
      },
      "source": [
        "new_pop.sort_values(by=['Population_sum','SexRatio_mean'], ascending=False)"
      ],
      "execution_count": 0,
      "outputs": []
    },
    {
      "cell_type": "markdown",
      "metadata": {
        "id": "QTR3CIEz6Ts0",
        "colab_type": "text"
      },
      "source": [
        "*groupby, agg 활용*"
      ]
    },
    {
      "cell_type": "code",
      "metadata": {
        "id": "mb3Yq2rL_yoL",
        "colab_type": "code",
        "colab": {}
      },
      "source": [
        "pop.groupby('Provinces').agg(np.sum).iloc[:,:2]"
      ],
      "execution_count": 0,
      "outputs": []
    },
    {
      "cell_type": "code",
      "metadata": {
        "id": "PxQFM-Yi5qL_",
        "colab_type": "code",
        "colab": {}
      },
      "source": [
        "pop.groupby('Provinces').agg(np.mean).iloc[:,[2,5]]"
      ],
      "execution_count": 0,
      "outputs": []
    },
    {
      "cell_type": "markdown",
      "metadata": {
        "id": "a-Dd9jBa4bk8",
        "colab_type": "text"
      },
      "source": [
        "*pd.concat 활용 (행: axis=0, 열: axis=1)*"
      ]
    },
    {
      "cell_type": "code",
      "metadata": {
        "id": "jK3lP9kF4KUM",
        "colab_type": "code",
        "colab": {}
      },
      "source": [
        "new_pop = pd.concat([pop_sum, house_sum, persinhou_mean, sexratio_mean], axis=1)"
      ],
      "execution_count": 0,
      "outputs": []
    },
    {
      "cell_type": "markdown",
      "metadata": {
        "id": "AjjJvmJdYYxR",
        "colab_type": "text"
      },
      "source": [
        "*pivot_table 활용*"
      ]
    },
    {
      "cell_type": "code",
      "metadata": {
        "id": "8UXM0dQkxg_U",
        "colab_type": "code",
        "colab": {}
      },
      "source": [
        "pop_pivot = pop.pivot_table(index='Provinces', aggfunc={'Population':np.sum, 'Households':np.sum, 'PersInHou':np.mean, 'SexRatio':np.mean}).sort_values(by='Population', ascending=False)"
      ],
      "execution_count": 0,
      "outputs": []
    },
    {
      "cell_type": "code",
      "metadata": {
        "id": "C9Kj_NNeYwCv",
        "colab_type": "code",
        "colab": {}
      },
      "source": [
        "pop_pivot = pop_pivot[['Population', 'Households','PersInHou','SexRatio']]"
      ],
      "execution_count": 0,
      "outputs": []
    },
    {
      "cell_type": "code",
      "metadata": {
        "id": "EAQRgBP8ZNi3",
        "colab_type": "code",
        "colab": {}
      },
      "source": [
        "pop_pivot.columns = ['Population_sum', 'Households_sum','PersInHou_mean','SexRatio_mean']"
      ],
      "execution_count": 0,
      "outputs": []
    },
    {
      "cell_type": "code",
      "metadata": {
        "id": "4-ylUGpwZtfO",
        "colab_type": "code",
        "colab": {}
      },
      "source": [
        "pop_pivot"
      ],
      "execution_count": 0,
      "outputs": []
    },
    {
      "cell_type": "markdown",
      "metadata": {
        "id": "DidsDKsE_-Gr",
        "colab_type": "text"
      },
      "source": [
        "##Etc."
      ]
    },
    {
      "cell_type": "code",
      "metadata": {
        "id": "rLWNa8HQ6kns",
        "colab_type": "code",
        "colab": {}
      },
      "source": [
        "sexratio_cut = pd.cut(pop['SexRatio'],[0,0.99,1,2])\n",
        "sexratio_cut"
      ],
      "execution_count": 0,
      "outputs": []
    },
    {
      "cell_type": "code",
      "metadata": {
        "id": "oIGyf6qy9YN3",
        "colab_type": "code",
        "colab": {}
      },
      "source": [
        "pop_cut = pd.qcut(pop['Population'],2)\n",
        "pop_cut"
      ],
      "execution_count": 0,
      "outputs": []
    },
    {
      "cell_type": "code",
      "metadata": {
        "id": "9YVmvM6X_EZ-",
        "colab_type": "code",
        "colab": {}
      },
      "source": [
        "pop.info()"
      ],
      "execution_count": 0,
      "outputs": []
    },
    {
      "cell_type": "code",
      "metadata": {
        "id": "W8xWaUV7jiK2",
        "colab_type": "code",
        "colab": {}
      },
      "source": [
        "pop['Population'].idxmax()"
      ],
      "execution_count": 0,
      "outputs": []
    },
    {
      "cell_type": "code",
      "metadata": {
        "id": "zJeFkaptrmxc",
        "colab_type": "code",
        "colab": {}
      },
      "source": [
        "multi_pop = pop.set_index(['Provinces','City'])"
      ],
      "execution_count": 0,
      "outputs": []
    },
    {
      "cell_type": "code",
      "metadata": {
        "id": "AUUu91i2o9JO",
        "colab_type": "code",
        "colab": {}
      },
      "source": [
        "pop.set_index(['Provinces','City']).unstack()"
      ],
      "execution_count": 0,
      "outputs": []
    },
    {
      "cell_type": "code",
      "metadata": {
        "id": "HD63p5qNqsPV",
        "colab_type": "code",
        "colab": {}
      },
      "source": [
        "multi_pop"
      ],
      "execution_count": 0,
      "outputs": []
    },
    {
      "cell_type": "code",
      "metadata": {
        "id": "m2URKM3FsSLt",
        "colab_type": "code",
        "colab": {}
      },
      "source": [
        "multi_pop.index"
      ],
      "execution_count": 0,
      "outputs": []
    },
    {
      "cell_type": "code",
      "metadata": {
        "id": "5d7S535iqrXW",
        "colab_type": "code",
        "colab": {}
      },
      "source": [
        "multi_pop.loc[('서울특별시', '성동구'), 'Population']"
      ],
      "execution_count": 0,
      "outputs": []
    },
    {
      "cell_type": "code",
      "metadata": {
        "id": "KrhGp4EOAX2D",
        "colab_type": "code",
        "colab": {}
      },
      "source": [
        "pop['Population'].astype('float')"
      ],
      "execution_count": 0,
      "outputs": []
    },
    {
      "cell_type": "code",
      "metadata": {
        "id": "7j1CrvqrBHvN",
        "colab_type": "code",
        "colab": {}
      },
      "source": [
        "pop.pivot_table('Provinces','City', 'Population')"
      ],
      "execution_count": 0,
      "outputs": []
    }
  ]
}