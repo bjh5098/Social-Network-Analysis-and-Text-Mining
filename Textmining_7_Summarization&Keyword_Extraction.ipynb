{
  "nbformat": 4,
  "nbformat_minor": 0,
  "metadata": {
    "colab": {
      "name": "Textmining_7 - Summarization&Keyword Extraction",
      "provenance": [],
      "private_outputs": true,
      "collapsed_sections": [],
      "include_colab_link": true
    },
    "kernelspec": {
      "name": "python3",
      "display_name": "Python 3"
    }
  },
  "cells": [
    {
      "cell_type": "markdown",
      "metadata": {
        "id": "view-in-github",
        "colab_type": "text"
      },
      "source": [
        "<a href=\"https://colab.research.google.com/github/bjh5098/Social-Network-Analysis-and-Text-Mining/blob/master/Textmining_7_Summarization%26Keyword_Extraction.ipynb\" target=\"_parent\"><img src=\"https://colab.research.google.com/assets/colab-badge.svg\" alt=\"Open In Colab\"/></a>"
      ]
    },
    {
      "cell_type": "markdown",
      "metadata": {
        "id": "L--SfB-XVuKv",
        "colab_type": "text"
      },
      "source": [
        "#문서 요약(Document Summarization)"
      ]
    },
    {
      "cell_type": "code",
      "metadata": {
        "id": "jZmYRnr5be1X",
        "colab_type": "code",
        "colab": {}
      },
      "source": [
        "from gensim.summarization import summarize"
      ],
      "execution_count": 0,
      "outputs": []
    },
    {
      "cell_type": "code",
      "metadata": {
        "id": "xyvkY-QiYNCl",
        "colab_type": "code",
        "colab": {}
      },
      "source": [
        "Document = '''Rice Pudding - Poem by Alan Alexander Milne\n",
        "... What is the matter with Mary Jane?\n",
        "... She's crying with all her might and main,\n",
        "... And she won't eat her dinner - rice pudding again -\n",
        "... What is the matter with Mary Jane?\n",
        "... What is the matter with Mary Jane?\n",
        "... I've promised her dolls and a daisy-chain,\n",
        "... And a book about animals - all in vain -\n",
        "... What is the matter with Mary Jane?\n",
        "... What is the matter with Mary Jane?\n",
        "... She's perfectly well, and she hasn't a pain;\n",
        "... But, look at her, now she's beginning again! -\n",
        "... What is the matter with Mary Jane?\n",
        "... What is the matter with Mary Jane?\n",
        "... I've promised her sweets and a ride in the train,\n",
        "... And I've begged her to stop for a bit and explain -\n",
        "... What is the matter with Mary Jane?\n",
        "... What is the matter with Mary Jane?\n",
        "... She's perfectly well and she hasn't a pain,\n",
        "... And it's lovely rice pudding for dinner again!\n",
        "... What is the matter with Mary Jane?'''"
      ],
      "execution_count": 0,
      "outputs": []
    },
    {
      "cell_type": "code",
      "metadata": {
        "id": "8dTeP--SaHY2",
        "colab_type": "code",
        "colab": {}
      },
      "source": [
        "Document"
      ],
      "execution_count": 0,
      "outputs": []
    },
    {
      "cell_type": "code",
      "metadata": {
        "id": "ZhjNMhyuYZgd",
        "colab_type": "code",
        "colab": {}
      },
      "source": [
        "print(summarize(Document))"
      ],
      "execution_count": 0,
      "outputs": []
    },
    {
      "cell_type": "code",
      "metadata": {
        "id": "R2DEBli9a4k9",
        "colab_type": "code",
        "colab": {}
      },
      "source": [
        "print(summarize(Document, ratio = 0.3))"
      ],
      "execution_count": 0,
      "outputs": []
    },
    {
      "cell_type": "code",
      "metadata": {
        "id": "4TKwbVNoYbs8",
        "colab_type": "code",
        "colab": {}
      },
      "source": [
        "print(summarize(Document, word_count=35))"
      ],
      "execution_count": 0,
      "outputs": []
    },
    {
      "cell_type": "markdown",
      "metadata": {
        "id": "b1P3WdzRblL9",
        "colab_type": "text"
      },
      "source": [
        "#키워드 추출(Keyword Extraction)"
      ]
    },
    {
      "cell_type": "code",
      "metadata": {
        "id": "UWiBXlRCbqU2",
        "colab_type": "code",
        "colab": {}
      },
      "source": [
        "from gensim.summarization import keywords"
      ],
      "execution_count": 0,
      "outputs": []
    },
    {
      "cell_type": "code",
      "metadata": {
        "id": "K9p_RW07btQm",
        "colab_type": "code",
        "colab": {}
      },
      "source": [
        "print(keywords(text))"
      ],
      "execution_count": 0,
      "outputs": []
    },
    {
      "cell_type": "code",
      "metadata": {
        "id": "vEK9VOV0bwUm",
        "colab_type": "code",
        "colab": {}
      },
      "source": [
        "print(keywords(text, ratio=0.5))"
      ],
      "execution_count": 0,
      "outputs": []
    },
    {
      "cell_type": "code",
      "metadata": {
        "id": "XYxDeo8Zb1Z9",
        "colab_type": "code",
        "colab": {}
      },
      "source": [
        "print(keywords(text, words=3, scores=True, pos_filter=('NN'), lemmatize=True))"
      ],
      "execution_count": 0,
      "outputs": []
    }
  ]
}