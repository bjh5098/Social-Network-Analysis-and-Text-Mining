{
  "nbformat": 4,
  "nbformat_minor": 0,
  "metadata": {
    "colab": {
      "name": "Textmining_8_VADER.ipynb",
      "provenance": [],
      "private_outputs": true,
      "include_colab_link": true
    },
    "kernelspec": {
      "name": "python3",
      "display_name": "Python 3"
    }
  },
  "cells": [
    {
      "cell_type": "markdown",
      "metadata": {
        "id": "view-in-github",
        "colab_type": "text"
      },
      "source": [
        "<a href=\"https://colab.research.google.com/github/bjh5098/Social-Network-Analysis-and-Text-Mining/blob/master/Textmining_8_VADER.ipynb\" target=\"_parent\"><img src=\"https://colab.research.google.com/assets/colab-badge.svg\" alt=\"Open In Colab\"/></a>"
      ]
    },
    {
      "cell_type": "markdown",
      "metadata": {
        "id": "lcVdOeEJy9Q5",
        "colab_type": "text"
      },
      "source": [
        "#Valence Aware Dictionary and sEntiment Reasoner, VADER"
      ]
    },
    {
      "cell_type": "markdown",
      "metadata": {
        "id": "9Ai__vmP2EpW",
        "colab_type": "text"
      },
      "source": [
        "*Hutto, C.J. & Gilbert, E.E. (2014). VADER: A Parsimonious Rule-based Model for Sentiment Analysis of Social Media Text. Eighth International Conference on Weblogs and Social Media (ICWSM-14). Ann Arbor, MI, June 2014.*"
      ]
    },
    {
      "cell_type": "code",
      "metadata": {
        "id": "RLaBmQ8w1F69",
        "colab_type": "code",
        "colab": {}
      },
      "source": [
        "pip install vaderSentiment"
      ],
      "execution_count": 0,
      "outputs": []
    },
    {
      "cell_type": "code",
      "metadata": {
        "id": "tNP0Xm86yz8g",
        "colab_type": "code",
        "colab": {}
      },
      "source": [
        "from vaderSentiment.vaderSentiment import SentimentIntensityAnalyzer\n",
        "analyser = SentimentIntensityAnalyzer()"
      ],
      "execution_count": 0,
      "outputs": []
    },
    {
      "cell_type": "code",
      "metadata": {
        "id": "dtK-zv1m0-EX",
        "colab_type": "code",
        "colab": {}
      },
      "source": [
        "sentences = [\"VADER is smart, handsome, and funny.\",  # positive sentence example\n",
        "             \"VADER is smart, handsome, and funny!\",  # punctuation emphasis handled correctly (sentiment intensity adjusted)\n",
        "             \"VADER is very smart, handsome, and funny.\", # booster words handled correctly (sentiment intensity adjusted)\n",
        "             \"VADER is VERY SMART, handsome, and FUNNY.\",  # emphasis for ALLCAPS handled\n",
        "             \"VADER is VERY SMART, handsome, and FUNNY!!!\", # combination of signals - VADER appropriately adjusts intensity\n",
        "             \"VADER is VERY SMART, uber handsome, and FRIGGIN FUNNY!!!\", # booster words & punctuation make this close to ceiling for score\n",
        "             \"VADER is not smart, handsome, nor funny.\",  # negation sentence example\n",
        "             \"The book was good.\",  # positive sentence\n",
        "             \"At least it isn't a horrible book.\",  # negated negative sentence with contraction\n",
        "             \"The book was only kind of good.\", # qualified positive sentence is handled correctly (intensity adjusted)\n",
        "             \"The plot was good, but the characters are uncompelling and the dialog is not great.\", # mixed negation sentence\n",
        "             \"Today SUX!\",  # negative slang with capitalization emphasis\n",
        "             \"Today only kinda sux! But I'll get by, lol\", # mixed sentiment example with slang and constrastive conjunction \"but\"\n",
        "             \"Make sure you :) or :D today!\",  # emoticons handled\n",
        "             \"Catch utf-8 emoji such as such as 💘 and 💋 and 😁\",  # emojis handled\n",
        "             \"Not bad at all\"  # Capitalized negation\n",
        "             ]"
      ],
      "execution_count": 0,
      "outputs": []
    },
    {
      "cell_type": "code",
      "metadata": {
        "id": "VQILgAFg1Qo-",
        "colab_type": "code",
        "colab": {}
      },
      "source": [
        "for sentence in sentences:\n",
        "    vs = analyser.polarity_scores(sentence)\n",
        "    print(\"{} ---------------------> {}\".format(sentence, str(vs)))"
      ],
      "execution_count": 0,
      "outputs": []
    },
    {
      "cell_type": "markdown",
      "metadata": {
        "id": "PMgVAfoT1quR",
        "colab_type": "text"
      },
      "source": [
        "*   positive sentiment: compound score >= 0.05\n",
        "*   neutral sentiment: (compound score > -0.05) and (compound score < 0.05)\n",
        "*   negative sentiment: compound score <= -0.05"
      ]
    },
    {
      "cell_type": "code",
      "metadata": {
        "id": "HXx8dr5d2caF",
        "colab_type": "code",
        "colab": {}
      },
      "source": [
        "vs = analyser.polarity_scores('The food here is good!')\n",
        "print(vs)"
      ],
      "execution_count": 0,
      "outputs": []
    },
    {
      "cell_type": "code",
      "metadata": {
        "id": "_ghfPiXN3T4t",
        "colab_type": "code",
        "colab": {}
      },
      "source": [
        "vs = analyser.polarity_scores('The food here is good!!')\n",
        "print(vs)"
      ],
      "execution_count": 0,
      "outputs": []
    },
    {
      "cell_type": "code",
      "metadata": {
        "id": "73wgx4DL3Ta8",
        "colab_type": "code",
        "colab": {}
      },
      "source": [
        "vs = analyser.polarity_scores('The food here is good!!!')\n",
        "print(vs)"
      ],
      "execution_count": 0,
      "outputs": []
    }
  ]
}