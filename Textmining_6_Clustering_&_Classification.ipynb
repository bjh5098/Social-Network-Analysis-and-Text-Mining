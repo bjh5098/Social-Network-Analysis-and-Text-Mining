{
  "nbformat": 4,
  "nbformat_minor": 0,
  "metadata": {
    "colab": {
      "name": "Textmining_6 - Clustering & Classification.ipynb",
      "provenance": [],
      "private_outputs": true,
      "collapsed_sections": [],
      "machine_shape": "hm",
      "include_colab_link": true
    },
    "kernelspec": {
      "name": "python3",
      "display_name": "Python 3"
    },
    "accelerator": "GPU"
  },
  "cells": [
    {
      "cell_type": "markdown",
      "metadata": {
        "id": "view-in-github",
        "colab_type": "text"
      },
      "source": [
        "<a href=\"https://colab.research.google.com/github/bjh5098/Social-Network-Analysis-and-Text-Mining/blob/master/Textmining_6_Clustering_%26_Classification.ipynb\" target=\"_parent\"><img src=\"https://colab.research.google.com/assets/colab-badge.svg\" alt=\"Open In Colab\"/></a>"
      ]
    },
    {
      "cell_type": "markdown",
      "metadata": {
        "id": "RjVIzs4wkt_s",
        "colab_type": "text"
      },
      "source": [
        "#텍스트 군집화"
      ]
    },
    {
      "cell_type": "code",
      "metadata": {
        "id": "HCEGXnxemBL9",
        "colab_type": "code",
        "colab": {}
      },
      "source": [
        "from sklearn.datasets import fetch_20newsgroups"
      ],
      "execution_count": 0,
      "outputs": []
    },
    {
      "cell_type": "markdown",
      "metadata": {
        "id": "sB2Rusr_mmRd",
        "colab_type": "text"
      },
      "source": [
        "***데이터 출처: http://qwone.com/~jason/20Newsgroups/***"
      ]
    },
    {
      "cell_type": "code",
      "metadata": {
        "id": "hFfQ4TZfmSmV",
        "colab_type": "code",
        "colab": {}
      },
      "source": [
        "categories = [\n",
        "    'alt.atheism',\n",
        "    'talk.religion.misc',\n",
        "    'comp.graphics',\n",
        "    'sci.space',\n",
        "]"
      ],
      "execution_count": 0,
      "outputs": []
    },
    {
      "cell_type": "code",
      "metadata": {
        "id": "quB-zYF6mqaV",
        "colab_type": "code",
        "colab": {}
      },
      "source": [
        "dataset = fetch_20newsgroups(subset='all', categories=categories, shuffle=True, random_state=42)"
      ],
      "execution_count": 0,
      "outputs": []
    },
    {
      "cell_type": "code",
      "metadata": {
        "id": "m02TPAbCnPJP",
        "colab_type": "code",
        "colab": {}
      },
      "source": [
        "dataset"
      ],
      "execution_count": 0,
      "outputs": []
    },
    {
      "cell_type": "code",
      "metadata": {
        "id": "Z4yM1SSZnWal",
        "colab_type": "code",
        "colab": {}
      },
      "source": [
        "data = dataset.data"
      ],
      "execution_count": 0,
      "outputs": []
    },
    {
      "cell_type": "code",
      "metadata": {
        "id": "uMIVcEH2nhSm",
        "colab_type": "code",
        "colab": {}
      },
      "source": [
        "data"
      ],
      "execution_count": 0,
      "outputs": []
    },
    {
      "cell_type": "code",
      "metadata": {
        "id": "qVFKMGJTnh0s",
        "colab_type": "code",
        "colab": {}
      },
      "source": [
        "data[0]"
      ],
      "execution_count": 0,
      "outputs": []
    },
    {
      "cell_type": "code",
      "metadata": {
        "id": "NAsX4UPzorl-",
        "colab_type": "code",
        "colab": {}
      },
      "source": [
        "labels = dataset.target"
      ],
      "execution_count": 0,
      "outputs": []
    },
    {
      "cell_type": "code",
      "metadata": {
        "id": "tQiOAVlKo7Zd",
        "colab_type": "code",
        "colab": {}
      },
      "source": [
        "true_k = len(dataset.target_names)"
      ],
      "execution_count": 0,
      "outputs": []
    },
    {
      "cell_type": "code",
      "metadata": {
        "id": "oDRs7NZkpUsv",
        "colab_type": "code",
        "colab": {}
      },
      "source": [
        "true_k"
      ],
      "execution_count": 0,
      "outputs": []
    },
    {
      "cell_type": "code",
      "metadata": {
        "id": "XbaVOO-ko-H1",
        "colab_type": "code",
        "colab": {}
      },
      "source": [
        "import numpy as np\n",
        "len(np.unique(labels))"
      ],
      "execution_count": 0,
      "outputs": []
    },
    {
      "cell_type": "code",
      "metadata": {
        "id": "zXYDKAr8-R60",
        "colab_type": "code",
        "colab": {}
      },
      "source": [
        "print(\"%d documents\" % len(dataset.data))\n",
        "print(\"%d categories\" % len(dataset.target_names))"
      ],
      "execution_count": 0,
      "outputs": []
    },
    {
      "cell_type": "markdown",
      "metadata": {
        "id": "fcpaLWzKpIhd",
        "colab_type": "text"
      },
      "source": [
        "##Tf-Idf 벡터 변환(TfidfVectorizer)"
      ]
    },
    {
      "cell_type": "code",
      "metadata": {
        "id": "wUHxmdQsppfb",
        "colab_type": "code",
        "colab": {}
      },
      "source": [
        "from sklearn.feature_extraction.text import TfidfVectorizer"
      ],
      "execution_count": 0,
      "outputs": []
    },
    {
      "cell_type": "code",
      "metadata": {
        "id": "--ZNkF2fqF0S",
        "colab_type": "code",
        "colab": {}
      },
      "source": [
        "vectorizer = TfidfVectorizer(max_df=0.5, min_df=2, stop_words='english', use_idf=True)"
      ],
      "execution_count": 0,
      "outputs": []
    },
    {
      "cell_type": "code",
      "metadata": {
        "id": "ykGx56_jrBEX",
        "colab_type": "code",
        "colab": {}
      },
      "source": [
        "X = vectorizer.fit_transform(data)"
      ],
      "execution_count": 0,
      "outputs": []
    },
    {
      "cell_type": "code",
      "metadata": {
        "id": "A_bPKs7FrmtG",
        "colab_type": "code",
        "colab": {}
      },
      "source": [
        "print('fit_transform, (sentence {}, feature {})'.format(X.shape[0], X.shape[1]))"
      ],
      "execution_count": 0,
      "outputs": []
    },
    {
      "cell_type": "code",
      "metadata": {
        "id": "L1WmVmxqrCm2",
        "colab_type": "code",
        "colab": {}
      },
      "source": [
        "X.toarray()"
      ],
      "execution_count": 0,
      "outputs": []
    },
    {
      "cell_type": "code",
      "metadata": {
        "id": "ozgT9n8BtXrX",
        "colab_type": "code",
        "colab": {}
      },
      "source": [
        "X.todense()"
      ],
      "execution_count": 0,
      "outputs": []
    },
    {
      "cell_type": "markdown",
      "metadata": {
        "id": "CeYBsCg1Apfe",
        "colab_type": "text"
      },
      "source": [
        "## K-평균 군집"
      ]
    },
    {
      "cell_type": "code",
      "metadata": {
        "id": "NDorvUEptkaP",
        "colab_type": "code",
        "colab": {}
      },
      "source": [
        "from sklearn.cluster import MiniBatchKMeans\n",
        "from sklearn.cluster import KMeans"
      ],
      "execution_count": 0,
      "outputs": []
    },
    {
      "cell_type": "code",
      "metadata": {
        "id": "bEFdUSkKtw2n",
        "colab_type": "code",
        "colab": {}
      },
      "source": [
        "Minibatch = True\n",
        "if Minibatch:\n",
        "    km = MiniBatchKMeans(n_clusters=true_k, init='k-means++', n_init=1, init_size=1000, batch_size=1000)\n",
        "else:\n",
        "    km = KMeans(n_clusters=true_k, init='k-means++', max_iter=100, n_init=1)\n",
        "km.fit(X)"
      ],
      "execution_count": 0,
      "outputs": []
    },
    {
      "cell_type": "code",
      "metadata": {
        "id": "zjoxxWQSwAnG",
        "colab_type": "code",
        "colab": {}
      },
      "source": [
        "km.n_clusters"
      ],
      "execution_count": 0,
      "outputs": []
    },
    {
      "cell_type": "code",
      "metadata": {
        "id": "3tKcjT9VwJi3",
        "colab_type": "code",
        "colab": {}
      },
      "source": [
        "order_centroids = km.cluster_centers_.argsort()[:, ::-1]"
      ],
      "execution_count": 0,
      "outputs": []
    },
    {
      "cell_type": "code",
      "metadata": {
        "id": "W7p29Ey_CrDe",
        "colab_type": "code",
        "colab": {}
      },
      "source": [
        "order_centroids.shape"
      ],
      "execution_count": 0,
      "outputs": []
    },
    {
      "cell_type": "code",
      "metadata": {
        "id": "G_rPnMZEuCVH",
        "colab_type": "code",
        "colab": {}
      },
      "source": [
        "terms = vectorizer.get_feature_names()"
      ],
      "execution_count": 0,
      "outputs": []
    },
    {
      "cell_type": "code",
      "metadata": {
        "id": "JQlAw3unxPHY",
        "colab_type": "code",
        "colab": {}
      },
      "source": [
        "for i in range(true_k):\n",
        "    print(\"Cluster %d:\" % i, end='')\n",
        "    for ind in order_centroids[i, :10]:\n",
        "        print(' %s' % terms[ind], end='')\n",
        "    print()"
      ],
      "execution_count": 0,
      "outputs": []
    },
    {
      "cell_type": "markdown",
      "metadata": {
        "id": "KicBTELjK08w",
        "colab_type": "text"
      },
      "source": [
        "#텍스트 분류"
      ]
    },
    {
      "cell_type": "markdown",
      "metadata": {
        "id": "Gq94ySZ9MhUA",
        "colab_type": "text"
      },
      "source": [
        "## Support Vector Machine"
      ]
    },
    {
      "cell_type": "code",
      "metadata": {
        "id": "kwIFzWemK3g4",
        "colab_type": "code",
        "colab": {}
      },
      "source": [
        "from sklearn.svm import SVC\n",
        "svm = SVC()\n",
        "svm_model = svm.fit(X, labels)"
      ],
      "execution_count": 0,
      "outputs": []
    },
    {
      "cell_type": "code",
      "metadata": {
        "id": "-C92MS3aNUQy",
        "colab_type": "code",
        "colab": {}
      },
      "source": [
        "svm_y_hat = svm_model.predict(X)"
      ],
      "execution_count": 0,
      "outputs": []
    },
    {
      "cell_type": "code",
      "metadata": {
        "id": "8Jo-sBE2NZzZ",
        "colab_type": "code",
        "colab": {}
      },
      "source": [
        "svm_y_hat"
      ],
      "execution_count": 0,
      "outputs": []
    },
    {
      "cell_type": "markdown",
      "metadata": {
        "id": "-owu4rWLMjII",
        "colab_type": "text"
      },
      "source": [
        "## Naive Bayes classifier"
      ]
    },
    {
      "cell_type": "code",
      "metadata": {
        "id": "bUQiLjjnMuHo",
        "colab_type": "code",
        "colab": {}
      },
      "source": [
        "from sklearn.naive_bayes import GaussianNB\n",
        "gnb = GaussianNB()\n",
        "naive_model = gnb.fit(X.toarray(), labels)"
      ],
      "execution_count": 0,
      "outputs": []
    },
    {
      "cell_type": "code",
      "metadata": {
        "id": "C3mSMYUSNnKp",
        "colab_type": "code",
        "colab": {}
      },
      "source": [
        "naive_y_hat = naive_model.predict(X.toarray())"
      ],
      "execution_count": 0,
      "outputs": []
    },
    {
      "cell_type": "code",
      "metadata": {
        "id": "QYUIn6yONiCx",
        "colab_type": "code",
        "colab": {}
      },
      "source": [
        "naive_y_hat"
      ],
      "execution_count": 0,
      "outputs": []
    },
    {
      "cell_type": "markdown",
      "metadata": {
        "id": "P-M_E0YMNG05",
        "colab_type": "text"
      },
      "source": [
        "##텍스트 분류기 성능 평가"
      ]
    },
    {
      "cell_type": "code",
      "metadata": {
        "id": "HlBP4IYdMuiZ",
        "colab_type": "code",
        "colab": {}
      },
      "source": [
        "from sklearn.metrics import classification_report\n",
        "from sklearn.metrics import accuracy_score"
      ],
      "execution_count": 0,
      "outputs": []
    },
    {
      "cell_type": "code",
      "metadata": {
        "id": "chk4BrVvPnmW",
        "colab_type": "code",
        "colab": {}
      },
      "source": [
        "print(\"서포트 벡터 정확도:\", accuracy_score(labels, svm_y_hat)) #예측값과 실제값 비교"
      ],
      "execution_count": 0,
      "outputs": []
    },
    {
      "cell_type": "code",
      "metadata": {
        "id": "ixX8QCJfOHl2",
        "colab_type": "code",
        "colab": {}
      },
      "source": [
        "print(classification_report(labels, svm_y_hat, target_names=categories))"
      ],
      "execution_count": 0,
      "outputs": []
    },
    {
      "cell_type": "code",
      "metadata": {
        "id": "sw8w95aOP4iv",
        "colab_type": "code",
        "colab": {}
      },
      "source": [
        "print(\"나이브 베이즈 정확도:\", accuracy_score(labels, naive_y_hat)) #예측값과 실제값 비교"
      ],
      "execution_count": 0,
      "outputs": []
    },
    {
      "cell_type": "code",
      "metadata": {
        "id": "kvTFjUc5NGex",
        "colab_type": "code",
        "colab": {}
      },
      "source": [
        "print(classification_report(labels, naive_y_hat, target_names=categories))"
      ],
      "execution_count": 0,
      "outputs": []
    }
  ]
}