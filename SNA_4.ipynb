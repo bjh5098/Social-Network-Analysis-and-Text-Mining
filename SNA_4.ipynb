{
  "nbformat": 4,
  "nbformat_minor": 0,
  "metadata": {
    "colab": {
      "name": "SNA_4",
      "provenance": [],
      "private_outputs": true,
      "collapsed_sections": [],
      "toc_visible": true,
      "include_colab_link": true
    },
    "kernelspec": {
      "name": "python3",
      "display_name": "Python 3"
    }
  },
  "cells": [
    {
      "cell_type": "markdown",
      "metadata": {
        "id": "view-in-github",
        "colab_type": "text"
      },
      "source": [
        "<a href=\"https://colab.research.google.com/github/bjh5098/Social-Network-Analysis-and-Text-Mining/blob/master/SNA_4.ipynb\" target=\"_parent\"><img src=\"https://colab.research.google.com/assets/colab-badge.svg\" alt=\"Open In Colab\"/></a>"
      ]
    },
    {
      "cell_type": "code",
      "metadata": {
        "id": "7T-oBs1e9Ejo",
        "colab_type": "code",
        "colab": {}
      },
      "source": [
        "import networkx as nx"
      ],
      "execution_count": 0,
      "outputs": []
    },
    {
      "cell_type": "markdown",
      "metadata": {
        "id": "0urx24Zn84s7",
        "colab_type": "text"
      },
      "source": [
        "#Centrality"
      ]
    },
    {
      "cell_type": "markdown",
      "metadata": {
        "id": "4C8dETcM8-MU",
        "colab_type": "text"
      },
      "source": [
        "##Degree"
      ]
    },
    {
      "cell_type": "code",
      "metadata": {
        "id": "MvzShDqK9DSo",
        "colab_type": "code",
        "colab": {}
      },
      "source": [
        "G = nx.generators.florentine_families_graph()"
      ],
      "execution_count": 0,
      "outputs": []
    },
    {
      "cell_type": "code",
      "metadata": {
        "id": "HUX6NawH9KHA",
        "colab_type": "code",
        "colab": {}
      },
      "source": [
        "list(G.nodes())"
      ],
      "execution_count": 0,
      "outputs": []
    },
    {
      "cell_type": "code",
      "metadata": {
        "id": "rdBklexX9RSZ",
        "colab_type": "code",
        "colab": {}
      },
      "source": [
        "cc = list(G.nodes())"
      ],
      "execution_count": 0,
      "outputs": []
    },
    {
      "cell_type": "code",
      "metadata": {
        "id": "fZwju6759Wt4",
        "colab_type": "code",
        "colab": {}
      },
      "source": [
        "G.add_node('Pucci')"
      ],
      "execution_count": 0,
      "outputs": []
    },
    {
      "cell_type": "code",
      "metadata": {
        "id": "sVItkVmE9bPw",
        "colab_type": "code",
        "colab": {}
      },
      "source": [
        "nx.draw(G, with_labels=True)"
      ],
      "execution_count": 0,
      "outputs": []
    },
    {
      "cell_type": "code",
      "metadata": {
        "id": "LKDx4y6W9ecK",
        "colab_type": "code",
        "colab": {}
      },
      "source": [
        "nx.draw(G.subgraph(cc), with_labels=True)"
      ],
      "execution_count": 0,
      "outputs": []
    },
    {
      "cell_type": "markdown",
      "metadata": {
        "id": "JVv8GYp5CK1q",
        "colab_type": "text"
      },
      "source": [
        "***가문별 속성(attributes) 정보 추가***"
      ]
    },
    {
      "cell_type": "code",
      "metadata": {
        "id": "B7fnrFoD_mwy",
        "colab_type": "code",
        "colab": {}
      },
      "source": [
        "wealth = {'Acciaiuoli': 10, 'Albizzi': 36, 'Barbadori': 55, 'Bischeri': 44,\n",
        "'Castellani': 20, 'Ginori': 32, 'Guadagni': 8, 'Lamberteschi': 42,\n",
        "'Medici': 103, 'Pazzi': 48, 'Peruzzi': 49, 'Pucci': 3,\n",
        "'Ridolfi': 27, 'Salviati': 10, 'Strozzi': 146, 'Tornabuoni': 48}\n",
        "priorates = {'Acciaiuoli': 53, 'Albizzi': 65, 'Barbadori': 'n/a', 'Bischeri': 12,\n",
        "'Castellani': 22, 'Ginori': 'n/a', 'Guadagni': 21, 'Lamberteschi': 0,\n",
        "'Medici': 53, 'Pazzi': 'n/a', 'Peruzzi': 42, 'Pucci': 0,\n",
        "'Ridolfi': 38, 'Salviati': 35, 'Strozzi': 74, 'Tornabuoni': 'n/a'}"
      ],
      "execution_count": 0,
      "outputs": []
    },
    {
      "cell_type": "code",
      "metadata": {
        "id": "FHikDXnICXs5",
        "colab_type": "code",
        "colab": {}
      },
      "source": [
        "nx.set_node_attributes(G, wealth, 'wealth')\n",
        "nx.set_node_attributes(G, priorates, 'priorates')"
      ],
      "execution_count": 0,
      "outputs": []
    },
    {
      "cell_type": "markdown",
      "metadata": {
        "id": "VvpadZZMCcTZ",
        "colab_type": "text"
      },
      "source": [
        "***연결중심성 산출***"
      ]
    },
    {
      "cell_type": "code",
      "metadata": {
        "id": "fI-FEyrNCfiZ",
        "colab_type": "code",
        "colab": {}
      },
      "source": [
        "dict(G.degree())"
      ],
      "execution_count": 0,
      "outputs": []
    },
    {
      "cell_type": "code",
      "metadata": {
        "id": "lOjuPodKCYKZ",
        "colab_type": "code",
        "colab": {}
      },
      "source": [
        "nx.set_node_attributes(G, dict(G.degree()), 'degree')"
      ],
      "execution_count": 0,
      "outputs": []
    },
    {
      "cell_type": "markdown",
      "metadata": {
        "id": "cVQ6ZoVXClDp",
        "colab_type": "text"
      },
      "source": [
        "***노드별 주요 분석결과 확인***"
      ]
    },
    {
      "cell_type": "code",
      "metadata": {
        "id": "Quc6IdqKCidJ",
        "colab_type": "code",
        "colab": {}
      },
      "source": [
        "G.nodes['Pazzi']"
      ],
      "execution_count": 0,
      "outputs": []
    },
    {
      "cell_type": "code",
      "metadata": {
        "id": "fgswcgp2CsDp",
        "colab_type": "code",
        "colab": {}
      },
      "source": [
        "G.nodes(data=True)"
      ],
      "execution_count": 0,
      "outputs": []
    },
    {
      "cell_type": "markdown",
      "metadata": {
        "id": "EC9URL7YCvTp",
        "colab_type": "text"
      },
      "source": [
        "***분석결과 데이터프레임 변환***"
      ]
    },
    {
      "cell_type": "code",
      "metadata": {
        "id": "rgCsnzZwC0Bh",
        "colab_type": "code",
        "colab": {}
      },
      "source": [
        "import pandas as pd"
      ],
      "execution_count": 0,
      "outputs": []
    },
    {
      "cell_type": "code",
      "metadata": {
        "id": "IJ7R-EYjC3KZ",
        "colab_type": "code",
        "colab": {}
      },
      "source": [
        "nx_result = pd.DataFrame.from_dict(dict(G.nodes(data=True)), orient='index').sort_values('degree', ascending=False)"
      ],
      "execution_count": 0,
      "outputs": []
    },
    {
      "cell_type": "code",
      "metadata": {
        "id": "LNHfH81QC67g",
        "colab_type": "code",
        "colab": {}
      },
      "source": [
        "nx_result"
      ],
      "execution_count": 0,
      "outputs": []
    },
    {
      "cell_type": "markdown",
      "metadata": {
        "id": "uHTg4bm5DArJ",
        "colab_type": "text"
      },
      "source": [
        "***정규화 Degree centraloity***"
      ]
    },
    {
      "cell_type": "code",
      "metadata": {
        "id": "uKAaF9jFDIMJ",
        "colab_type": "code",
        "colab": {}
      },
      "source": [
        "nx.set_node_attributes(G, nx.degree_centrality(G), 'normalized degree')"
      ],
      "execution_count": 0,
      "outputs": []
    },
    {
      "cell_type": "code",
      "metadata": {
        "id": "9KsgkhDTDHPp",
        "colab_type": "code",
        "colab": {}
      },
      "source": [
        "pd.DataFrame.from_dict(dict(G.nodes(data=True)), orient='index').sort_values('degree', ascending=False)"
      ],
      "execution_count": 0,
      "outputs": []
    },
    {
      "cell_type": "markdown",
      "metadata": {
        "id": "9VBNojj8DRTJ",
        "colab_type": "text"
      },
      "source": [
        "##Eigenvectors"
      ]
    },
    {
      "cell_type": "code",
      "metadata": {
        "id": "petfLoIqDzLB",
        "colab_type": "code",
        "colab": {}
      },
      "source": [
        "eigen_cen = nx.eigenvector_centrality(G.subgraph(cc))\n",
        "eigen_cen"
      ],
      "execution_count": 0,
      "outputs": []
    },
    {
      "cell_type": "code",
      "metadata": {
        "id": "W4PtPweyD7oZ",
        "colab_type": "code",
        "colab": {}
      },
      "source": [
        "nx.set_node_attributes(G, eigen_cen, 'eigen degree')"
      ],
      "execution_count": 0,
      "outputs": []
    },
    {
      "cell_type": "code",
      "metadata": {
        "id": "bJptwOlJEGcR",
        "colab_type": "code",
        "colab": {}
      },
      "source": [
        "pd.DataFrame.from_dict(dict(G.nodes(data=True)), orient='index').sort_values('degree', ascending=False)"
      ],
      "execution_count": 0,
      "outputs": []
    },
    {
      "cell_type": "markdown",
      "metadata": {
        "id": "F-WOItYnEKlh",
        "colab_type": "text"
      },
      "source": [
        "##Closeness"
      ]
    },
    {
      "cell_type": "code",
      "metadata": {
        "id": "8JbIBO-kEShZ",
        "colab_type": "code",
        "colab": {}
      },
      "source": [
        "cc = list(nx.connected_components(G))[0]"
      ],
      "execution_count": 0,
      "outputs": []
    },
    {
      "cell_type": "code",
      "metadata": {
        "id": "S5v6zzLpEaD5",
        "colab_type": "code",
        "colab": {}
      },
      "source": [
        "cc"
      ],
      "execution_count": 0,
      "outputs": []
    },
    {
      "cell_type": "code",
      "metadata": {
        "id": "y7pfdr2rEaqB",
        "colab_type": "code",
        "colab": {}
      },
      "source": [
        "GG = G.subgraph(cc)"
      ],
      "execution_count": 0,
      "outputs": []
    },
    {
      "cell_type": "code",
      "metadata": {
        "id": "FALSDKpAEnMG",
        "colab_type": "code",
        "colab": {}
      },
      "source": [
        "close_cen= nx.closeness_centrality(GG)\n",
        "close_cen"
      ],
      "execution_count": 0,
      "outputs": []
    },
    {
      "cell_type": "code",
      "metadata": {
        "id": "yuIpdhzsE2eB",
        "colab_type": "code",
        "colab": {}
      },
      "source": [
        "nx.set_node_attributes(G, close_cen, 'close')"
      ],
      "execution_count": 0,
      "outputs": []
    },
    {
      "cell_type": "code",
      "metadata": {
        "id": "Qqv0zTccE8Mx",
        "colab_type": "code",
        "colab": {}
      },
      "source": [
        "pd.DataFrame.from_dict(dict(G.nodes(data=True)), orient='index').sort_values('degree', ascending=False)"
      ],
      "execution_count": 0,
      "outputs": []
    },
    {
      "cell_type": "markdown",
      "metadata": {
        "id": "c8NjzYknFF5x",
        "colab_type": "text"
      },
      "source": [
        "##Beweenness"
      ]
    },
    {
      "cell_type": "code",
      "metadata": {
        "id": "jPqKLM8gFK5Z",
        "colab_type": "code",
        "colab": {}
      },
      "source": [
        "between = nx.betweenness_centrality(GG)\n",
        "between"
      ],
      "execution_count": 0,
      "outputs": []
    },
    {
      "cell_type": "code",
      "metadata": {
        "id": "5ogp9ptmFaA6",
        "colab_type": "code",
        "colab": {}
      },
      "source": [
        "nx.draw(GG, with_labels=True)"
      ],
      "execution_count": 0,
      "outputs": []
    },
    {
      "cell_type": "code",
      "metadata": {
        "id": "4Jnk9TIIFf4h",
        "colab_type": "code",
        "colab": {}
      },
      "source": [
        "nx.set_node_attributes(G, between, 'between')"
      ],
      "execution_count": 0,
      "outputs": []
    },
    {
      "cell_type": "code",
      "metadata": {
        "id": "bxNIzoPWF_QZ",
        "colab_type": "code",
        "colab": {}
      },
      "source": [
        "result = pd.DataFrame.from_dict(dict(G.nodes(data=True)), orient='index').sort_values('degree', ascending=False)"
      ],
      "execution_count": 0,
      "outputs": []
    },
    {
      "cell_type": "code",
      "metadata": {
        "id": "APXAAETkGEkp",
        "colab_type": "code",
        "colab": {}
      },
      "source": [
        "result"
      ],
      "execution_count": 0,
      "outputs": []
    },
    {
      "cell_type": "markdown",
      "metadata": {
        "id": "AnJ7k5YHJQIS",
        "colab_type": "text"
      },
      "source": [
        "## Effectivesize(No. of Alter - Redundancy)"
      ]
    },
    {
      "cell_type": "code",
      "metadata": {
        "id": "y8x0QsO0IRnV",
        "colab_type": "code",
        "colab": {}
      },
      "source": [
        "effective_size= nx.effective_size(G, nodes=None, weight=None)"
      ],
      "execution_count": 0,
      "outputs": []
    },
    {
      "cell_type": "code",
      "metadata": {
        "id": "qCxFVJuMMiPY",
        "colab_type": "code",
        "colab": {}
      },
      "source": [
        "nx.set_node_attributes(G, effective_size, 'effective_size')"
      ],
      "execution_count": 0,
      "outputs": []
    },
    {
      "cell_type": "code",
      "metadata": {
        "id": "Ryz0lXX3MtM9",
        "colab_type": "code",
        "colab": {}
      },
      "source": [
        "pd.DataFrame.from_dict(dict(G.nodes(data=True)), orient='index').sort_values('degree', ascending=False)"
      ],
      "execution_count": 0,
      "outputs": []
    },
    {
      "cell_type": "markdown",
      "metadata": {
        "id": "ZDKpYUUZJdMK",
        "colab_type": "text"
      },
      "source": [
        "## Constraint"
      ]
    },
    {
      "cell_type": "code",
      "metadata": {
        "id": "F3lfIJo0IPRD",
        "colab_type": "code",
        "colab": {}
      },
      "source": [
        "constraint= nx.constraint(G, nodes=None, weight=None)"
      ],
      "execution_count": 0,
      "outputs": []
    },
    {
      "cell_type": "code",
      "metadata": {
        "id": "azan5OBkM3HD",
        "colab_type": "code",
        "colab": {}
      },
      "source": [
        "nx.set_node_attributes(G, constraint, 'constraint')"
      ],
      "execution_count": 0,
      "outputs": []
    },
    {
      "cell_type": "code",
      "metadata": {
        "id": "WcFLQdzCM7mj",
        "colab_type": "code",
        "colab": {}
      },
      "source": [
        "result = pd.DataFrame.from_dict(dict(G.nodes(data=True)), orient='index').sort_values('degree', ascending=False)\n",
        "result"
      ],
      "execution_count": 0,
      "outputs": []
    },
    {
      "cell_type": "code",
      "metadata": {
        "id": "DXuzlWW8JORa",
        "colab_type": "code",
        "colab": {}
      },
      "source": [
        "nx.draw(G, with_labels=True)"
      ],
      "execution_count": 0,
      "outputs": []
    },
    {
      "cell_type": "markdown",
      "metadata": {
        "id": "ePscNDkAOVxk",
        "colab_type": "text"
      },
      "source": [
        "# Density"
      ]
    },
    {
      "cell_type": "code",
      "metadata": {
        "id": "MZekUljmOg_U",
        "colab_type": "code",
        "colab": {}
      },
      "source": [
        "nx.density(GG)"
      ],
      "execution_count": 0,
      "outputs": []
    },
    {
      "cell_type": "code",
      "metadata": {
        "id": "dPNENC8cOj9q",
        "colab_type": "code",
        "colab": {}
      },
      "source": [
        ""
      ],
      "execution_count": 0,
      "outputs": []
    }
  ]
}